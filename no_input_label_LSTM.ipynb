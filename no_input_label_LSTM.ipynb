{
 "cells": [
  {
   "cell_type": "code",
   "execution_count": 1,
   "id": "804dfebb-7beb-4460-8216-862308e1d51f",
   "metadata": {},
   "outputs": [],
   "source": [
    "# Load data from subject 1 from trial where subject gait freezes\n",
    "import numpy as np\n",
    "X = np.load('sliding_window_dataset_no_input_labels/S01R01experiment1/X.npy')\n",
    "y = np.load('sliding_window_dataset_no_input_labels/S01R01experiment1/y.npy')\n",
    "y = np.array([[i] for i in y])"
   ]
  },
  {
   "cell_type": "code",
   "execution_count": 2,
   "id": "5d8804f8-58ca-4b3e-b76a-a5143d985430",
   "metadata": {},
   "outputs": [
    {
     "name": "stdout",
     "output_type": "stream",
     "text": [
      "(72640, 1000, 3) (72640, 1) (18160, 1000, 3) (18160, 1)\n"
     ]
    }
   ],
   "source": [
    "# Divide into train and test\n",
    "length = X.shape[0]\n",
    "test_data_idx_start = int(length * .8)\n",
    "X_train = X[:test_data_idx_start]\n",
    "y_train = y[:test_data_idx_start]\n",
    "X_test = X[test_data_idx_start:]\n",
    "y_test = y[test_data_idx_start:]\n",
    "print(X_train.shape, y_train.shape, X_test.shape, y_test.shape)"
   ]
  },
  {
   "cell_type": "code",
   "execution_count": 4,
   "id": "9e42bec3-8125-4cda-be7b-5c5a5ce95a1a",
   "metadata": {},
   "outputs": [
    {
     "name": "stdout",
     "output_type": "stream",
     "text": [
      "Model: \"sequential_1\"\n",
      "_________________________________________________________________\n",
      " Layer (type)                Output Shape              Param #   \n",
      "=================================================================\n",
      " lstm_1 (LSTM)               (None, 12)                768       \n",
      "                                                                 \n",
      " dense_2 (Dense)             (None, 8)                 104       \n",
      "                                                                 \n",
      " dense_3 (Dense)             (None, 1)                 9         \n",
      "                                                                 \n",
      "=================================================================\n",
      "Total params: 881\n",
      "Trainable params: 881\n",
      "Non-trainable params: 0\n",
      "_________________________________________________________________\n"
     ]
    }
   ],
   "source": [
    "# build lstm\n",
    "from tensorflow.keras.models import Sequential\n",
    "from tensorflow.keras.layers import *\n",
    "from tensorflow.keras.callbacks import ModelCheckpoint\n",
    "from tensorflow.keras.optimizers import Adam\n",
    "from tensorflow.keras.callbacks import EarlyStopping\n",
    "\n",
    "\n",
    "model = Sequential()\n",
    "model.add(InputLayer((1000, 3)))\n",
    "model.add(LSTM(12))\n",
    "model.add(Dense(8, 'relu'))\n",
    "model.add(Dense(1, 'sigmoid'))\n",
    "cp = ModelCheckpoint('model_no_input_label_sub1_experiment1/', save_best_only=True)\n",
    "stop = EarlyStopping(monitor='val_loss', patience=100)\n",
    "model.compile(loss='binary_crossentropy', optimizer=Adam(learning_rate=0.0001), metrics=['accuracy'])\n",
    "model.summary()"
   ]
  },
  {
   "cell_type": "code",
   "execution_count": 5,
   "id": "e187d65c-5dc0-4e84-892a-fd8db3701255",
   "metadata": {},
   "outputs": [
    {
     "name": "stdout",
     "output_type": "stream",
     "text": [
      "Epoch 1/1000\n",
      "284/284 [==============================] - ETA: 0s - loss: 0.7978 - accuracy: 0.1503"
     ]
    },
    {
     "name": "stderr",
     "output_type": "stream",
     "text": [
      "WARNING:absl:Found untraced functions such as lstm_cell_1_layer_call_fn, lstm_cell_1_layer_call_and_return_conditional_losses while saving (showing 2 of 2). These functions will not be directly callable after loading.\n"
     ]
    },
    {
     "name": "stdout",
     "output_type": "stream",
     "text": [
      "INFO:tensorflow:Assets written to: model_no_input_label_sub1_experiment1\\assets\n"
     ]
    },
    {
     "name": "stderr",
     "output_type": "stream",
     "text": [
      "INFO:tensorflow:Assets written to: model_no_input_label_sub1_experiment1\\assets\n"
     ]
    },
    {
     "name": "stdout",
     "output_type": "stream",
     "text": [
      "284/284 [==============================] - 34s 102ms/step - loss: 0.7978 - accuracy: 0.1503 - val_loss: 0.6990 - val_accuracy: 0.2962\n",
      "Epoch 2/1000\n",
      "284/284 [==============================] - ETA: 0s - loss: 0.6475 - accuracy: 0.8029"
     ]
    },
    {
     "name": "stderr",
     "output_type": "stream",
     "text": [
      "WARNING:absl:Found untraced functions such as lstm_cell_1_layer_call_fn, lstm_cell_1_layer_call_and_return_conditional_losses while saving (showing 2 of 2). These functions will not be directly callable after loading.\n"
     ]
    },
    {
     "name": "stdout",
     "output_type": "stream",
     "text": [
      "INFO:tensorflow:Assets written to: model_no_input_label_sub1_experiment1\\assets\n"
     ]
    },
    {
     "name": "stderr",
     "output_type": "stream",
     "text": [
      "INFO:tensorflow:Assets written to: model_no_input_label_sub1_experiment1\\assets\n"
     ]
    },
    {
     "name": "stdout",
     "output_type": "stream",
     "text": [
      "284/284 [==============================] - 29s 101ms/step - loss: 0.6475 - accuracy: 0.8029 - val_loss: 0.5914 - val_accuracy: 0.9724\n",
      "Epoch 3/1000\n",
      "284/284 [==============================] - ETA: 0s - loss: 0.5553 - accuracy: 0.9154"
     ]
    },
    {
     "name": "stderr",
     "output_type": "stream",
     "text": [
      "WARNING:absl:Found untraced functions such as lstm_cell_1_layer_call_fn, lstm_cell_1_layer_call_and_return_conditional_losses while saving (showing 2 of 2). These functions will not be directly callable after loading.\n"
     ]
    },
    {
     "name": "stdout",
     "output_type": "stream",
     "text": [
      "INFO:tensorflow:Assets written to: model_no_input_label_sub1_experiment1\\assets\n"
     ]
    },
    {
     "name": "stderr",
     "output_type": "stream",
     "text": [
      "INFO:tensorflow:Assets written to: model_no_input_label_sub1_experiment1\\assets\n"
     ]
    },
    {
     "name": "stdout",
     "output_type": "stream",
     "text": [
      "284/284 [==============================] - 28s 99ms/step - loss: 0.5553 - accuracy: 0.9154 - val_loss: 0.5196 - val_accuracy: 0.9796\n",
      "Epoch 4/1000\n",
      "284/284 [==============================] - ETA: 0s - loss: 0.4759 - accuracy: 0.9244"
     ]
    },
    {
     "name": "stderr",
     "output_type": "stream",
     "text": [
      "WARNING:absl:Found untraced functions such as lstm_cell_1_layer_call_fn, lstm_cell_1_layer_call_and_return_conditional_losses while saving (showing 2 of 2). These functions will not be directly callable after loading.\n"
     ]
    },
    {
     "name": "stdout",
     "output_type": "stream",
     "text": [
      "INFO:tensorflow:Assets written to: model_no_input_label_sub1_experiment1\\assets\n"
     ]
    },
    {
     "name": "stderr",
     "output_type": "stream",
     "text": [
      "INFO:tensorflow:Assets written to: model_no_input_label_sub1_experiment1\\assets\n"
     ]
    },
    {
     "name": "stdout",
     "output_type": "stream",
     "text": [
      "284/284 [==============================] - 28s 99ms/step - loss: 0.4759 - accuracy: 0.9244 - val_loss: 0.4198 - val_accuracy: 0.9812\n",
      "Epoch 5/1000\n",
      "284/284 [==============================] - ETA: 0s - loss: 0.3719 - accuracy: 0.9281"
     ]
    },
    {
     "name": "stderr",
     "output_type": "stream",
     "text": [
      "WARNING:absl:Found untraced functions such as lstm_cell_1_layer_call_fn, lstm_cell_1_layer_call_and_return_conditional_losses while saving (showing 2 of 2). These functions will not be directly callable after loading.\n"
     ]
    },
    {
     "name": "stdout",
     "output_type": "stream",
     "text": [
      "INFO:tensorflow:Assets written to: model_no_input_label_sub1_experiment1\\assets\n"
     ]
    },
    {
     "name": "stderr",
     "output_type": "stream",
     "text": [
      "INFO:tensorflow:Assets written to: model_no_input_label_sub1_experiment1\\assets\n"
     ]
    },
    {
     "name": "stdout",
     "output_type": "stream",
     "text": [
      "284/284 [==============================] - 30s 105ms/step - loss: 0.3719 - accuracy: 0.9281 - val_loss: 0.3218 - val_accuracy: 0.9830\n",
      "Epoch 6/1000\n",
      "284/284 [==============================] - ETA: 0s - loss: 0.3001 - accuracy: 0.9316"
     ]
    },
    {
     "name": "stderr",
     "output_type": "stream",
     "text": [
      "WARNING:absl:Found untraced functions such as lstm_cell_1_layer_call_fn, lstm_cell_1_layer_call_and_return_conditional_losses while saving (showing 2 of 2). These functions will not be directly callable after loading.\n"
     ]
    },
    {
     "name": "stdout",
     "output_type": "stream",
     "text": [
      "INFO:tensorflow:Assets written to: model_no_input_label_sub1_experiment1\\assets\n"
     ]
    },
    {
     "name": "stderr",
     "output_type": "stream",
     "text": [
      "INFO:tensorflow:Assets written to: model_no_input_label_sub1_experiment1\\assets\n"
     ]
    },
    {
     "name": "stdout",
     "output_type": "stream",
     "text": [
      "284/284 [==============================] - 29s 103ms/step - loss: 0.3001 - accuracy: 0.9316 - val_loss: 0.2549 - val_accuracy: 0.9835\n",
      "Epoch 7/1000\n",
      "284/284 [==============================] - ETA: 0s - loss: 0.2662 - accuracy: 0.9326"
     ]
    },
    {
     "name": "stderr",
     "output_type": "stream",
     "text": [
      "WARNING:absl:Found untraced functions such as lstm_cell_1_layer_call_fn, lstm_cell_1_layer_call_and_return_conditional_losses while saving (showing 2 of 2). These functions will not be directly callable after loading.\n"
     ]
    },
    {
     "name": "stdout",
     "output_type": "stream",
     "text": [
      "INFO:tensorflow:Assets written to: model_no_input_label_sub1_experiment1\\assets\n"
     ]
    },
    {
     "name": "stderr",
     "output_type": "stream",
     "text": [
      "INFO:tensorflow:Assets written to: model_no_input_label_sub1_experiment1\\assets\n"
     ]
    },
    {
     "name": "stdout",
     "output_type": "stream",
     "text": [
      "284/284 [==============================] - 30s 105ms/step - loss: 0.2662 - accuracy: 0.9326 - val_loss: 0.1493 - val_accuracy: 0.9838\n",
      "Epoch 8/1000\n",
      "284/284 [==============================] - ETA: 0s - loss: 0.2571 - accuracy: 0.9330"
     ]
    },
    {
     "name": "stderr",
     "output_type": "stream",
     "text": [
      "WARNING:absl:Found untraced functions such as lstm_cell_1_layer_call_fn, lstm_cell_1_layer_call_and_return_conditional_losses while saving (showing 2 of 2). These functions will not be directly callable after loading.\n"
     ]
    },
    {
     "name": "stdout",
     "output_type": "stream",
     "text": [
      "INFO:tensorflow:Assets written to: model_no_input_label_sub1_experiment1\\assets\n"
     ]
    },
    {
     "name": "stderr",
     "output_type": "stream",
     "text": [
      "INFO:tensorflow:Assets written to: model_no_input_label_sub1_experiment1\\assets\n"
     ]
    },
    {
     "name": "stdout",
     "output_type": "stream",
     "text": [
      "284/284 [==============================] - 31s 108ms/step - loss: 0.2571 - accuracy: 0.9330 - val_loss: 0.1313 - val_accuracy: 0.9840\n",
      "Epoch 9/1000\n",
      "284/284 [==============================] - ETA: 0s - loss: 0.2529 - accuracy: 0.9331"
     ]
    },
    {
     "name": "stderr",
     "output_type": "stream",
     "text": [
      "WARNING:absl:Found untraced functions such as lstm_cell_1_layer_call_fn, lstm_cell_1_layer_call_and_return_conditional_losses while saving (showing 2 of 2). These functions will not be directly callable after loading.\n"
     ]
    },
    {
     "name": "stdout",
     "output_type": "stream",
     "text": [
      "INFO:tensorflow:Assets written to: model_no_input_label_sub1_experiment1\\assets\n"
     ]
    },
    {
     "name": "stderr",
     "output_type": "stream",
     "text": [
      "INFO:tensorflow:Assets written to: model_no_input_label_sub1_experiment1\\assets\n"
     ]
    },
    {
     "name": "stdout",
     "output_type": "stream",
     "text": [
      "284/284 [==============================] - 32s 114ms/step - loss: 0.2529 - accuracy: 0.9331 - val_loss: 0.1265 - val_accuracy: 0.9840\n",
      "Epoch 10/1000\n",
      "284/284 [==============================] - ETA: 0s - loss: 0.2502 - accuracy: 0.9331"
     ]
    },
    {
     "name": "stderr",
     "output_type": "stream",
     "text": [
      "WARNING:absl:Found untraced functions such as lstm_cell_1_layer_call_fn, lstm_cell_1_layer_call_and_return_conditional_losses while saving (showing 2 of 2). These functions will not be directly callable after loading.\n"
     ]
    },
    {
     "name": "stdout",
     "output_type": "stream",
     "text": [
      "INFO:tensorflow:Assets written to: model_no_input_label_sub1_experiment1\\assets\n"
     ]
    },
    {
     "name": "stderr",
     "output_type": "stream",
     "text": [
      "INFO:tensorflow:Assets written to: model_no_input_label_sub1_experiment1\\assets\n"
     ]
    },
    {
     "name": "stdout",
     "output_type": "stream",
     "text": [
      "284/284 [==============================] - 33s 116ms/step - loss: 0.2502 - accuracy: 0.9331 - val_loss: 0.1213 - val_accuracy: 0.9840\n",
      "Epoch 11/1000\n",
      "284/284 [==============================] - ETA: 0s - loss: 0.2485 - accuracy: 0.9331"
     ]
    },
    {
     "name": "stderr",
     "output_type": "stream",
     "text": [
      "WARNING:absl:Found untraced functions such as lstm_cell_1_layer_call_fn, lstm_cell_1_layer_call_and_return_conditional_losses while saving (showing 2 of 2). These functions will not be directly callable after loading.\n"
     ]
    },
    {
     "name": "stdout",
     "output_type": "stream",
     "text": [
      "INFO:tensorflow:Assets written to: model_no_input_label_sub1_experiment1\\assets\n"
     ]
    },
    {
     "name": "stderr",
     "output_type": "stream",
     "text": [
      "INFO:tensorflow:Assets written to: model_no_input_label_sub1_experiment1\\assets\n"
     ]
    },
    {
     "name": "stdout",
     "output_type": "stream",
     "text": [
      "284/284 [==============================] - 35s 124ms/step - loss: 0.2485 - accuracy: 0.9331 - val_loss: 0.1172 - val_accuracy: 0.9840\n",
      "Epoch 12/1000\n",
      "284/284 [==============================] - ETA: 0s - loss: 0.2475 - accuracy: 0.9332"
     ]
    },
    {
     "name": "stderr",
     "output_type": "stream",
     "text": [
      "WARNING:absl:Found untraced functions such as lstm_cell_1_layer_call_fn, lstm_cell_1_layer_call_and_return_conditional_losses while saving (showing 2 of 2). These functions will not be directly callable after loading.\n"
     ]
    },
    {
     "name": "stdout",
     "output_type": "stream",
     "text": [
      "INFO:tensorflow:Assets written to: model_no_input_label_sub1_experiment1\\assets\n"
     ]
    },
    {
     "name": "stderr",
     "output_type": "stream",
     "text": [
      "INFO:tensorflow:Assets written to: model_no_input_label_sub1_experiment1\\assets\n"
     ]
    },
    {
     "name": "stdout",
     "output_type": "stream",
     "text": [
      "284/284 [==============================] - 35s 124ms/step - loss: 0.2475 - accuracy: 0.9332 - val_loss: 0.1146 - val_accuracy: 0.9840\n",
      "Epoch 13/1000\n",
      "284/284 [==============================] - ETA: 0s - loss: 0.2465 - accuracy: 0.9331"
     ]
    },
    {
     "name": "stderr",
     "output_type": "stream",
     "text": [
      "WARNING:absl:Found untraced functions such as lstm_cell_1_layer_call_fn, lstm_cell_1_layer_call_and_return_conditional_losses while saving (showing 2 of 2). These functions will not be directly callable after loading.\n"
     ]
    },
    {
     "name": "stdout",
     "output_type": "stream",
     "text": [
      "INFO:tensorflow:Assets written to: model_no_input_label_sub1_experiment1\\assets\n"
     ]
    },
    {
     "name": "stderr",
     "output_type": "stream",
     "text": [
      "INFO:tensorflow:Assets written to: model_no_input_label_sub1_experiment1\\assets\n"
     ]
    },
    {
     "name": "stdout",
     "output_type": "stream",
     "text": [
      "284/284 [==============================] - 37s 129ms/step - loss: 0.2465 - accuracy: 0.9331 - val_loss: 0.1131 - val_accuracy: 0.9840\n",
      "Epoch 14/1000\n",
      "284/284 [==============================] - ETA: 0s - loss: 0.2457 - accuracy: 0.9331"
     ]
    },
    {
     "name": "stderr",
     "output_type": "stream",
     "text": [
      "WARNING:absl:Found untraced functions such as lstm_cell_1_layer_call_fn, lstm_cell_1_layer_call_and_return_conditional_losses while saving (showing 2 of 2). These functions will not be directly callable after loading.\n"
     ]
    },
    {
     "name": "stdout",
     "output_type": "stream",
     "text": [
      "INFO:tensorflow:Assets written to: model_no_input_label_sub1_experiment1\\assets\n"
     ]
    },
    {
     "name": "stderr",
     "output_type": "stream",
     "text": [
      "INFO:tensorflow:Assets written to: model_no_input_label_sub1_experiment1\\assets\n"
     ]
    },
    {
     "name": "stdout",
     "output_type": "stream",
     "text": [
      "284/284 [==============================] - 35s 123ms/step - loss: 0.2457 - accuracy: 0.9331 - val_loss: 0.1119 - val_accuracy: 0.9840\n",
      "Epoch 15/1000\n",
      "284/284 [==============================] - ETA: 0s - loss: 0.2450 - accuracy: 0.9331"
     ]
    },
    {
     "name": "stderr",
     "output_type": "stream",
     "text": [
      "WARNING:absl:Found untraced functions such as lstm_cell_1_layer_call_fn, lstm_cell_1_layer_call_and_return_conditional_losses while saving (showing 2 of 2). These functions will not be directly callable after loading.\n"
     ]
    },
    {
     "name": "stdout",
     "output_type": "stream",
     "text": [
      "INFO:tensorflow:Assets written to: model_no_input_label_sub1_experiment1\\assets\n"
     ]
    },
    {
     "name": "stderr",
     "output_type": "stream",
     "text": [
      "INFO:tensorflow:Assets written to: model_no_input_label_sub1_experiment1\\assets\n"
     ]
    },
    {
     "name": "stdout",
     "output_type": "stream",
     "text": [
      "284/284 [==============================] - 35s 123ms/step - loss: 0.2450 - accuracy: 0.9331 - val_loss: 0.1113 - val_accuracy: 0.9840\n",
      "Epoch 16/1000\n",
      "284/284 [==============================] - ETA: 0s - loss: 0.2444 - accuracy: 0.9331"
     ]
    },
    {
     "name": "stderr",
     "output_type": "stream",
     "text": [
      "WARNING:absl:Found untraced functions such as lstm_cell_1_layer_call_fn, lstm_cell_1_layer_call_and_return_conditional_losses while saving (showing 2 of 2). These functions will not be directly callable after loading.\n"
     ]
    },
    {
     "name": "stdout",
     "output_type": "stream",
     "text": [
      "INFO:tensorflow:Assets written to: model_no_input_label_sub1_experiment1\\assets\n"
     ]
    },
    {
     "name": "stderr",
     "output_type": "stream",
     "text": [
      "INFO:tensorflow:Assets written to: model_no_input_label_sub1_experiment1\\assets\n"
     ]
    },
    {
     "name": "stdout",
     "output_type": "stream",
     "text": [
      "284/284 [==============================] - 35s 122ms/step - loss: 0.2444 - accuracy: 0.9331 - val_loss: 0.1111 - val_accuracy: 0.9840\n",
      "Epoch 17/1000\n",
      "284/284 [==============================] - ETA: 0s - loss: 0.2439 - accuracy: 0.9331"
     ]
    },
    {
     "name": "stderr",
     "output_type": "stream",
     "text": [
      "WARNING:absl:Found untraced functions such as lstm_cell_1_layer_call_fn, lstm_cell_1_layer_call_and_return_conditional_losses while saving (showing 2 of 2). These functions will not be directly callable after loading.\n"
     ]
    },
    {
     "name": "stdout",
     "output_type": "stream",
     "text": [
      "INFO:tensorflow:Assets written to: model_no_input_label_sub1_experiment1\\assets\n"
     ]
    },
    {
     "name": "stderr",
     "output_type": "stream",
     "text": [
      "INFO:tensorflow:Assets written to: model_no_input_label_sub1_experiment1\\assets\n"
     ]
    },
    {
     "name": "stdout",
     "output_type": "stream",
     "text": [
      "284/284 [==============================] - 36s 125ms/step - loss: 0.2439 - accuracy: 0.9331 - val_loss: 0.1106 - val_accuracy: 0.9840\n",
      "Epoch 18/1000\n",
      "284/284 [==============================] - ETA: 0s - loss: 0.2435 - accuracy: 0.9331"
     ]
    },
    {
     "name": "stderr",
     "output_type": "stream",
     "text": [
      "WARNING:absl:Found untraced functions such as lstm_cell_1_layer_call_fn, lstm_cell_1_layer_call_and_return_conditional_losses while saving (showing 2 of 2). These functions will not be directly callable after loading.\n"
     ]
    },
    {
     "name": "stdout",
     "output_type": "stream",
     "text": [
      "INFO:tensorflow:Assets written to: model_no_input_label_sub1_experiment1\\assets\n"
     ]
    },
    {
     "name": "stderr",
     "output_type": "stream",
     "text": [
      "INFO:tensorflow:Assets written to: model_no_input_label_sub1_experiment1\\assets\n"
     ]
    },
    {
     "name": "stdout",
     "output_type": "stream",
     "text": [
      "284/284 [==============================] - 34s 119ms/step - loss: 0.2435 - accuracy: 0.9331 - val_loss: 0.1099 - val_accuracy: 0.9840\n",
      "Epoch 19/1000\n",
      "284/284 [==============================] - 30s 105ms/step - loss: 0.2432 - accuracy: 0.9331 - val_loss: 0.1101 - val_accuracy: 0.9840\n",
      "Epoch 20/1000\n",
      "284/284 [==============================] - 30s 104ms/step - loss: 0.2429 - accuracy: 0.9331 - val_loss: 0.1100 - val_accuracy: 0.9840\n",
      "Epoch 21/1000\n",
      "284/284 [==============================] - 31s 109ms/step - loss: 0.2428 - accuracy: 0.9331 - val_loss: 0.1101 - val_accuracy: 0.9840\n",
      "Epoch 22/1000\n",
      "284/284 [==============================] - 30s 107ms/step - loss: 0.2426 - accuracy: 0.9331 - val_loss: 0.1101 - val_accuracy: 0.9840\n",
      "Epoch 23/1000\n",
      "284/284 [==============================] - 30s 105ms/step - loss: 0.2425 - accuracy: 0.9331 - val_loss: 0.1103 - val_accuracy: 0.9840\n",
      "Epoch 24/1000\n",
      "284/284 [==============================] - 31s 108ms/step - loss: 0.2423 - accuracy: 0.9331 - val_loss: 0.1100 - val_accuracy: 0.9840\n",
      "Epoch 25/1000\n",
      "284/284 [==============================] - 31s 109ms/step - loss: 0.2422 - accuracy: 0.9331 - val_loss: 0.1100 - val_accuracy: 0.9840\n",
      "Epoch 26/1000\n",
      "284/284 [==============================] - 30s 107ms/step - loss: 0.2420 - accuracy: 0.9331 - val_loss: 0.1102 - val_accuracy: 0.9840\n",
      "Epoch 27/1000\n",
      "284/284 [==============================] - 31s 108ms/step - loss: 0.2419 - accuracy: 0.9331 - val_loss: 0.1100 - val_accuracy: 0.9840\n",
      "Epoch 28/1000\n",
      "284/284 [==============================] - 32s 113ms/step - loss: 0.2419 - accuracy: 0.9331 - val_loss: 0.1101 - val_accuracy: 0.9840\n",
      "Epoch 29/1000\n",
      "284/284 [==============================] - 30s 107ms/step - loss: 0.2418 - accuracy: 0.9331 - val_loss: 0.1103 - val_accuracy: 0.9840\n",
      "Epoch 30/1000\n",
      "284/284 [==============================] - 30s 105ms/step - loss: 0.2418 - accuracy: 0.9331 - val_loss: 0.1105 - val_accuracy: 0.9840\n",
      "Epoch 31/1000\n",
      "284/284 [==============================] - ETA: 0s - loss: 0.2417 - accuracy: 0.9331"
     ]
    },
    {
     "name": "stderr",
     "output_type": "stream",
     "text": [
      "WARNING:absl:Found untraced functions such as lstm_cell_1_layer_call_fn, lstm_cell_1_layer_call_and_return_conditional_losses while saving (showing 2 of 2). These functions will not be directly callable after loading.\n"
     ]
    },
    {
     "name": "stdout",
     "output_type": "stream",
     "text": [
      "INFO:tensorflow:Assets written to: model_no_input_label_sub1_experiment1\\assets\n"
     ]
    },
    {
     "name": "stderr",
     "output_type": "stream",
     "text": [
      "INFO:tensorflow:Assets written to: model_no_input_label_sub1_experiment1\\assets\n"
     ]
    },
    {
     "name": "stdout",
     "output_type": "stream",
     "text": [
      "284/284 [==============================] - 34s 120ms/step - loss: 0.2417 - accuracy: 0.9331 - val_loss: 0.1096 - val_accuracy: 0.9840\n",
      "Epoch 32/1000\n",
      "284/284 [==============================] - 31s 109ms/step - loss: 0.2417 - accuracy: 0.9331 - val_loss: 0.1102 - val_accuracy: 0.9840\n",
      "Epoch 33/1000\n",
      "284/284 [==============================] - 30s 106ms/step - loss: 0.2416 - accuracy: 0.9331 - val_loss: 0.1096 - val_accuracy: 0.9840\n",
      "Epoch 34/1000\n",
      "284/284 [==============================] - 31s 109ms/step - loss: 0.2416 - accuracy: 0.9331 - val_loss: 0.1101 - val_accuracy: 0.9840\n",
      "Epoch 35/1000\n",
      "284/284 [==============================] - ETA: 0s - loss: 0.2415 - accuracy: 0.9331"
     ]
    },
    {
     "name": "stderr",
     "output_type": "stream",
     "text": [
      "WARNING:absl:Found untraced functions such as lstm_cell_1_layer_call_fn, lstm_cell_1_layer_call_and_return_conditional_losses while saving (showing 2 of 2). These functions will not be directly callable after loading.\n"
     ]
    },
    {
     "name": "stdout",
     "output_type": "stream",
     "text": [
      "INFO:tensorflow:Assets written to: model_no_input_label_sub1_experiment1\\assets\n"
     ]
    },
    {
     "name": "stderr",
     "output_type": "stream",
     "text": [
      "INFO:tensorflow:Assets written to: model_no_input_label_sub1_experiment1\\assets\n"
     ]
    },
    {
     "name": "stdout",
     "output_type": "stream",
     "text": [
      "284/284 [==============================] - 35s 125ms/step - loss: 0.2415 - accuracy: 0.9331 - val_loss: 0.1096 - val_accuracy: 0.9840\n",
      "Epoch 36/1000\n",
      "284/284 [==============================] - 31s 108ms/step - loss: 0.2415 - accuracy: 0.9331 - val_loss: 0.1099 - val_accuracy: 0.9840\n",
      "Epoch 37/1000\n",
      "284/284 [==============================] - 32s 113ms/step - loss: 0.2415 - accuracy: 0.9331 - val_loss: 0.1098 - val_accuracy: 0.9840\n",
      "Epoch 38/1000\n",
      "284/284 [==============================] - 31s 109ms/step - loss: 0.2415 - accuracy: 0.9331 - val_loss: 0.1099 - val_accuracy: 0.9840\n",
      "Epoch 39/1000\n",
      "284/284 [==============================] - 31s 110ms/step - loss: 0.2414 - accuracy: 0.9331 - val_loss: 0.1100 - val_accuracy: 0.9840\n",
      "Epoch 40/1000\n",
      "284/284 [==============================] - 31s 109ms/step - loss: 0.2413 - accuracy: 0.9331 - val_loss: 0.1099 - val_accuracy: 0.9840\n",
      "Epoch 41/1000\n",
      "284/284 [==============================] - 31s 111ms/step - loss: 0.2413 - accuracy: 0.9331 - val_loss: 0.1097 - val_accuracy: 0.9840\n",
      "Epoch 42/1000\n",
      "284/284 [==============================] - 31s 110ms/step - loss: 0.2413 - accuracy: 0.9331 - val_loss: 0.1096 - val_accuracy: 0.9840\n",
      "Epoch 43/1000\n",
      "284/284 [==============================] - 32s 111ms/step - loss: 0.2412 - accuracy: 0.9331 - val_loss: 0.1097 - val_accuracy: 0.9840\n",
      "Epoch 44/1000\n",
      "284/284 [==============================] - 31s 110ms/step - loss: 0.2412 - accuracy: 0.9331 - val_loss: 0.1098 - val_accuracy: 0.9840\n",
      "Epoch 45/1000\n",
      "284/284 [==============================] - 32s 112ms/step - loss: 0.2411 - accuracy: 0.9331 - val_loss: 0.1097 - val_accuracy: 0.9840\n",
      "Epoch 46/1000\n",
      "284/284 [==============================] - 30s 107ms/step - loss: 0.2411 - accuracy: 0.9331 - val_loss: 0.1097 - val_accuracy: 0.9840\n",
      "Epoch 47/1000\n",
      "284/284 [==============================] - ETA: 0s - loss: 0.2410 - accuracy: 0.9331"
     ]
    },
    {
     "name": "stderr",
     "output_type": "stream",
     "text": [
      "WARNING:absl:Found untraced functions such as lstm_cell_1_layer_call_fn, lstm_cell_1_layer_call_and_return_conditional_losses while saving (showing 2 of 2). These functions will not be directly callable after loading.\n"
     ]
    },
    {
     "name": "stdout",
     "output_type": "stream",
     "text": [
      "INFO:tensorflow:Assets written to: model_no_input_label_sub1_experiment1\\assets\n"
     ]
    },
    {
     "name": "stderr",
     "output_type": "stream",
     "text": [
      "INFO:tensorflow:Assets written to: model_no_input_label_sub1_experiment1\\assets\n"
     ]
    },
    {
     "name": "stdout",
     "output_type": "stream",
     "text": [
      "284/284 [==============================] - 35s 125ms/step - loss: 0.2410 - accuracy: 0.9331 - val_loss: 0.1093 - val_accuracy: 0.9840\n",
      "Epoch 48/1000\n",
      "284/284 [==============================] - 33s 116ms/step - loss: 0.2410 - accuracy: 0.9331 - val_loss: 0.1095 - val_accuracy: 0.9840\n",
      "Epoch 49/1000\n",
      "284/284 [==============================] - ETA: 0s - loss: 0.2409 - accuracy: 0.9331"
     ]
    },
    {
     "name": "stderr",
     "output_type": "stream",
     "text": [
      "WARNING:absl:Found untraced functions such as lstm_cell_1_layer_call_fn, lstm_cell_1_layer_call_and_return_conditional_losses while saving (showing 2 of 2). These functions will not be directly callable after loading.\n"
     ]
    },
    {
     "name": "stdout",
     "output_type": "stream",
     "text": [
      "INFO:tensorflow:Assets written to: model_no_input_label_sub1_experiment1\\assets\n"
     ]
    },
    {
     "name": "stderr",
     "output_type": "stream",
     "text": [
      "INFO:tensorflow:Assets written to: model_no_input_label_sub1_experiment1\\assets\n"
     ]
    },
    {
     "name": "stdout",
     "output_type": "stream",
     "text": [
      "284/284 [==============================] - 40s 140ms/step - loss: 0.2409 - accuracy: 0.9331 - val_loss: 0.1092 - val_accuracy: 0.9840\n",
      "Epoch 50/1000\n",
      "284/284 [==============================] - ETA: 0s - loss: 0.2409 - accuracy: 0.9331"
     ]
    },
    {
     "name": "stderr",
     "output_type": "stream",
     "text": [
      "WARNING:absl:Found untraced functions such as lstm_cell_1_layer_call_fn, lstm_cell_1_layer_call_and_return_conditional_losses while saving (showing 2 of 2). These functions will not be directly callable after loading.\n"
     ]
    },
    {
     "name": "stdout",
     "output_type": "stream",
     "text": [
      "INFO:tensorflow:Assets written to: model_no_input_label_sub1_experiment1\\assets\n"
     ]
    },
    {
     "name": "stderr",
     "output_type": "stream",
     "text": [
      "INFO:tensorflow:Assets written to: model_no_input_label_sub1_experiment1\\assets\n"
     ]
    },
    {
     "name": "stdout",
     "output_type": "stream",
     "text": [
      "284/284 [==============================] - 39s 137ms/step - loss: 0.2409 - accuracy: 0.9331 - val_loss: 0.1089 - val_accuracy: 0.9840\n",
      "Epoch 51/1000\n",
      "284/284 [==============================] - ETA: 0s - loss: 0.2408 - accuracy: 0.9331"
     ]
    },
    {
     "name": "stderr",
     "output_type": "stream",
     "text": [
      "WARNING:absl:Found untraced functions such as lstm_cell_1_layer_call_fn, lstm_cell_1_layer_call_and_return_conditional_losses while saving (showing 2 of 2). These functions will not be directly callable after loading.\n"
     ]
    },
    {
     "name": "stdout",
     "output_type": "stream",
     "text": [
      "INFO:tensorflow:Assets written to: model_no_input_label_sub1_experiment1\\assets\n"
     ]
    },
    {
     "name": "stderr",
     "output_type": "stream",
     "text": [
      "INFO:tensorflow:Assets written to: model_no_input_label_sub1_experiment1\\assets\n"
     ]
    },
    {
     "name": "stdout",
     "output_type": "stream",
     "text": [
      "284/284 [==============================] - 38s 133ms/step - loss: 0.2408 - accuracy: 0.9331 - val_loss: 0.1089 - val_accuracy: 0.9840\n",
      "Epoch 52/1000\n",
      "284/284 [==============================] - 33s 117ms/step - loss: 0.2407 - accuracy: 0.9331 - val_loss: 0.1096 - val_accuracy: 0.9840\n",
      "Epoch 53/1000\n",
      "284/284 [==============================] - 33s 116ms/step - loss: 0.2407 - accuracy: 0.9331 - val_loss: 0.1095 - val_accuracy: 0.9840\n",
      "Epoch 54/1000\n",
      "284/284 [==============================] - 32s 112ms/step - loss: 0.2407 - accuracy: 0.9331 - val_loss: 0.1092 - val_accuracy: 0.9840\n",
      "Epoch 55/1000\n",
      "284/284 [==============================] - 31s 110ms/step - loss: 0.2406 - accuracy: 0.9331 - val_loss: 0.1093 - val_accuracy: 0.9840\n",
      "Epoch 56/1000\n",
      "284/284 [==============================] - ETA: 0s - loss: 0.2406 - accuracy: 0.9331"
     ]
    },
    {
     "name": "stderr",
     "output_type": "stream",
     "text": [
      "WARNING:absl:Found untraced functions such as lstm_cell_1_layer_call_fn, lstm_cell_1_layer_call_and_return_conditional_losses while saving (showing 2 of 2). These functions will not be directly callable after loading.\n"
     ]
    },
    {
     "name": "stdout",
     "output_type": "stream",
     "text": [
      "INFO:tensorflow:Assets written to: model_no_input_label_sub1_experiment1\\assets\n"
     ]
    },
    {
     "name": "stderr",
     "output_type": "stream",
     "text": [
      "INFO:tensorflow:Assets written to: model_no_input_label_sub1_experiment1\\assets\n"
     ]
    },
    {
     "name": "stdout",
     "output_type": "stream",
     "text": [
      "284/284 [==============================] - 34s 121ms/step - loss: 0.2406 - accuracy: 0.9331 - val_loss: 0.1086 - val_accuracy: 0.9840\n",
      "Epoch 57/1000\n",
      "284/284 [==============================] - 30s 105ms/step - loss: 0.2406 - accuracy: 0.9331 - val_loss: 0.1092 - val_accuracy: 0.9840\n",
      "Epoch 58/1000\n",
      "284/284 [==============================] - 31s 108ms/step - loss: 0.2406 - accuracy: 0.9331 - val_loss: 0.1090 - val_accuracy: 0.9840\n",
      "Epoch 59/1000\n",
      "284/284 [==============================] - 30s 106ms/step - loss: 0.2405 - accuracy: 0.9331 - val_loss: 0.1089 - val_accuracy: 0.9840\n",
      "Epoch 60/1000\n",
      "284/284 [==============================] - 30s 105ms/step - loss: 0.2405 - accuracy: 0.9331 - val_loss: 0.1094 - val_accuracy: 0.9840\n",
      "Epoch 61/1000\n",
      "284/284 [==============================] - 30s 106ms/step - loss: 0.2405 - accuracy: 0.9331 - val_loss: 0.1093 - val_accuracy: 0.9840\n",
      "Epoch 62/1000\n",
      "284/284 [==============================] - 31s 108ms/step - loss: 0.2405 - accuracy: 0.9331 - val_loss: 0.1088 - val_accuracy: 0.9840\n",
      "Epoch 63/1000\n",
      "284/284 [==============================] - 30s 105ms/step - loss: 0.2405 - accuracy: 0.9331 - val_loss: 0.1094 - val_accuracy: 0.9840\n",
      "Epoch 64/1000\n",
      "284/284 [==============================] - 29s 103ms/step - loss: 0.2404 - accuracy: 0.9331 - val_loss: 0.1092 - val_accuracy: 0.9840\n",
      "Epoch 65/1000\n",
      "284/284 [==============================] - 30s 107ms/step - loss: 0.2404 - accuracy: 0.9331 - val_loss: 0.1093 - val_accuracy: 0.9840\n",
      "Epoch 66/1000\n",
      "284/284 [==============================] - 31s 109ms/step - loss: 0.2403 - accuracy: 0.9331 - val_loss: 0.1092 - val_accuracy: 0.9840\n",
      "Epoch 67/1000\n",
      "284/284 [==============================] - 32s 111ms/step - loss: 0.2403 - accuracy: 0.9331 - val_loss: 0.1093 - val_accuracy: 0.9840\n",
      "Epoch 68/1000\n",
      "284/284 [==============================] - 33s 117ms/step - loss: 0.2403 - accuracy: 0.9331 - val_loss: 0.1091 - val_accuracy: 0.9840\n",
      "Epoch 69/1000\n",
      "284/284 [==============================] - 32s 112ms/step - loss: 0.2403 - accuracy: 0.9331 - val_loss: 0.1089 - val_accuracy: 0.9840\n",
      "Epoch 70/1000\n",
      "284/284 [==============================] - 32s 111ms/step - loss: 0.2402 - accuracy: 0.9331 - val_loss: 0.1091 - val_accuracy: 0.9840\n",
      "Epoch 71/1000\n",
      "284/284 [==============================] - 32s 113ms/step - loss: 0.2402 - accuracy: 0.9331 - val_loss: 0.1088 - val_accuracy: 0.9840\n",
      "Epoch 72/1000\n",
      "284/284 [==============================] - 31s 108ms/step - loss: 0.2402 - accuracy: 0.9331 - val_loss: 0.1093 - val_accuracy: 0.9840\n",
      "Epoch 73/1000\n",
      "284/284 [==============================] - 33s 115ms/step - loss: 0.2402 - accuracy: 0.9331 - val_loss: 0.1095 - val_accuracy: 0.9840\n",
      "Epoch 74/1000\n",
      "284/284 [==============================] - 32s 114ms/step - loss: 0.2402 - accuracy: 0.9331 - val_loss: 0.1094 - val_accuracy: 0.9840\n",
      "Epoch 75/1000\n",
      "284/284 [==============================] - 32s 111ms/step - loss: 0.2401 - accuracy: 0.9331 - val_loss: 0.1093 - val_accuracy: 0.9840\n",
      "Epoch 76/1000\n",
      "284/284 [==============================] - 33s 118ms/step - loss: 0.2401 - accuracy: 0.9331 - val_loss: 0.1091 - val_accuracy: 0.9840\n",
      "Epoch 77/1000\n",
      "284/284 [==============================] - ETA: 0s - loss: 0.2401 - accuracy: 0.9331"
     ]
    },
    {
     "name": "stderr",
     "output_type": "stream",
     "text": [
      "WARNING:absl:Found untraced functions such as lstm_cell_1_layer_call_fn, lstm_cell_1_layer_call_and_return_conditional_losses while saving (showing 2 of 2). These functions will not be directly callable after loading.\n"
     ]
    },
    {
     "name": "stdout",
     "output_type": "stream",
     "text": [
      "INFO:tensorflow:Assets written to: model_no_input_label_sub1_experiment1\\assets\n"
     ]
    },
    {
     "name": "stderr",
     "output_type": "stream",
     "text": [
      "INFO:tensorflow:Assets written to: model_no_input_label_sub1_experiment1\\assets\n"
     ]
    },
    {
     "name": "stdout",
     "output_type": "stream",
     "text": [
      "284/284 [==============================] - 37s 129ms/step - loss: 0.2401 - accuracy: 0.9331 - val_loss: 0.1086 - val_accuracy: 0.9840\n",
      "Epoch 78/1000\n",
      "284/284 [==============================] - 32s 111ms/step - loss: 0.2400 - accuracy: 0.9331 - val_loss: 0.1087 - val_accuracy: 0.9840\n",
      "Epoch 79/1000\n",
      "284/284 [==============================] - ETA: 0s - loss: 0.2400 - accuracy: 0.9331"
     ]
    },
    {
     "name": "stderr",
     "output_type": "stream",
     "text": [
      "WARNING:absl:Found untraced functions such as lstm_cell_1_layer_call_fn, lstm_cell_1_layer_call_and_return_conditional_losses while saving (showing 2 of 2). These functions will not be directly callable after loading.\n"
     ]
    },
    {
     "name": "stdout",
     "output_type": "stream",
     "text": [
      "INFO:tensorflow:Assets written to: model_no_input_label_sub1_experiment1\\assets\n"
     ]
    },
    {
     "name": "stderr",
     "output_type": "stream",
     "text": [
      "INFO:tensorflow:Assets written to: model_no_input_label_sub1_experiment1\\assets\n"
     ]
    },
    {
     "name": "stdout",
     "output_type": "stream",
     "text": [
      "284/284 [==============================] - 33s 118ms/step - loss: 0.2400 - accuracy: 0.9331 - val_loss: 0.1085 - val_accuracy: 0.9840\n",
      "Epoch 80/1000\n",
      "284/284 [==============================] - 35s 124ms/step - loss: 0.2401 - accuracy: 0.9331 - val_loss: 0.1093 - val_accuracy: 0.9840\n",
      "Epoch 81/1000\n",
      "284/284 [==============================] - 30s 106ms/step - loss: 0.2400 - accuracy: 0.9331 - val_loss: 0.1092 - val_accuracy: 0.9840\n",
      "Epoch 82/1000\n",
      "284/284 [==============================] - 31s 110ms/step - loss: 0.2400 - accuracy: 0.9331 - val_loss: 0.1090 - val_accuracy: 0.9840\n",
      "Epoch 83/1000\n",
      "284/284 [==============================] - 30s 107ms/step - loss: 0.2400 - accuracy: 0.9331 - val_loss: 0.1089 - val_accuracy: 0.9840\n",
      "Epoch 84/1000\n",
      "284/284 [==============================] - 31s 108ms/step - loss: 0.2399 - accuracy: 0.9331 - val_loss: 0.1093 - val_accuracy: 0.9840\n",
      "Epoch 85/1000\n",
      "284/284 [==============================] - 31s 111ms/step - loss: 0.2399 - accuracy: 0.9331 - val_loss: 0.1092 - val_accuracy: 0.9840\n",
      "Epoch 86/1000\n",
      "284/284 [==============================] - 30s 105ms/step - loss: 0.2399 - accuracy: 0.9331 - val_loss: 0.1090 - val_accuracy: 0.9840\n",
      "Epoch 87/1000\n",
      "284/284 [==============================] - 31s 109ms/step - loss: 0.2399 - accuracy: 0.9331 - val_loss: 0.1092 - val_accuracy: 0.9840\n",
      "Epoch 88/1000\n",
      "284/284 [==============================] - 32s 112ms/step - loss: 0.2399 - accuracy: 0.9331 - val_loss: 0.1091 - val_accuracy: 0.9840\n",
      "Epoch 89/1000\n",
      "284/284 [==============================] - 32s 113ms/step - loss: 0.2399 - accuracy: 0.9331 - val_loss: 0.1086 - val_accuracy: 0.9840\n",
      "Epoch 90/1000\n",
      "284/284 [==============================] - 31s 108ms/step - loss: 0.2399 - accuracy: 0.9331 - val_loss: 0.1090 - val_accuracy: 0.9840\n",
      "Epoch 91/1000\n",
      "284/284 [==============================] - 31s 109ms/step - loss: 0.2399 - accuracy: 0.9331 - val_loss: 0.1093 - val_accuracy: 0.9840\n",
      "Epoch 92/1000\n",
      "284/284 [==============================] - 31s 109ms/step - loss: 0.2398 - accuracy: 0.9331 - val_loss: 0.1092 - val_accuracy: 0.9840\n",
      "Epoch 93/1000\n",
      "284/284 [==============================] - ETA: 0s - loss: 0.2398 - accuracy: 0.9331"
     ]
    },
    {
     "name": "stderr",
     "output_type": "stream",
     "text": [
      "WARNING:absl:Found untraced functions such as lstm_cell_1_layer_call_fn, lstm_cell_1_layer_call_and_return_conditional_losses while saving (showing 2 of 2). These functions will not be directly callable after loading.\n"
     ]
    },
    {
     "name": "stdout",
     "output_type": "stream",
     "text": [
      "INFO:tensorflow:Assets written to: model_no_input_label_sub1_experiment1\\assets\n"
     ]
    },
    {
     "name": "stderr",
     "output_type": "stream",
     "text": [
      "INFO:tensorflow:Assets written to: model_no_input_label_sub1_experiment1\\assets\n"
     ]
    },
    {
     "name": "stdout",
     "output_type": "stream",
     "text": [
      "284/284 [==============================] - 34s 120ms/step - loss: 0.2398 - accuracy: 0.9331 - val_loss: 0.1085 - val_accuracy: 0.9840\n",
      "Epoch 94/1000\n",
      "284/284 [==============================] - 30s 107ms/step - loss: 0.2398 - accuracy: 0.9331 - val_loss: 0.1088 - val_accuracy: 0.9840\n",
      "Epoch 95/1000\n",
      "284/284 [==============================] - 31s 109ms/step - loss: 0.2398 - accuracy: 0.9331 - val_loss: 0.1095 - val_accuracy: 0.9840\n",
      "Epoch 96/1000\n",
      "284/284 [==============================] - 31s 109ms/step - loss: 0.2398 - accuracy: 0.9331 - val_loss: 0.1094 - val_accuracy: 0.9840\n",
      "Epoch 97/1000\n",
      "284/284 [==============================] - 31s 111ms/step - loss: 0.2398 - accuracy: 0.9331 - val_loss: 0.1090 - val_accuracy: 0.9840\n",
      "Epoch 98/1000\n",
      "284/284 [==============================] - 32s 112ms/step - loss: 0.2398 - accuracy: 0.9331 - val_loss: 0.1096 - val_accuracy: 0.9840\n",
      "Epoch 99/1000\n",
      "284/284 [==============================] - 31s 111ms/step - loss: 0.2397 - accuracy: 0.9331 - val_loss: 0.1089 - val_accuracy: 0.9840\n",
      "Epoch 100/1000\n",
      "284/284 [==============================] - 31s 109ms/step - loss: 0.2397 - accuracy: 0.9331 - val_loss: 0.1098 - val_accuracy: 0.9840\n",
      "Epoch 101/1000\n",
      "284/284 [==============================] - 32s 112ms/step - loss: 0.2397 - accuracy: 0.9331 - val_loss: 0.1100 - val_accuracy: 0.9840\n",
      "Epoch 102/1000\n",
      "284/284 [==============================] - 32s 112ms/step - loss: 0.2397 - accuracy: 0.9331 - val_loss: 0.1087 - val_accuracy: 0.9840\n",
      "Epoch 103/1000\n",
      "284/284 [==============================] - 33s 115ms/step - loss: 0.2397 - accuracy: 0.9331 - val_loss: 0.1092 - val_accuracy: 0.9840\n",
      "Epoch 104/1000\n",
      "284/284 [==============================] - 31s 110ms/step - loss: 0.2397 - accuracy: 0.9331 - val_loss: 0.1096 - val_accuracy: 0.9840\n",
      "Epoch 105/1000\n",
      "284/284 [==============================] - 31s 109ms/step - loss: 0.2396 - accuracy: 0.9331 - val_loss: 0.1092 - val_accuracy: 0.9840\n",
      "Epoch 106/1000\n",
      "284/284 [==============================] - 30s 107ms/step - loss: 0.2396 - accuracy: 0.9331 - val_loss: 0.1092 - val_accuracy: 0.9840\n",
      "Epoch 107/1000\n",
      "284/284 [==============================] - 31s 110ms/step - loss: 0.2396 - accuracy: 0.9331 - val_loss: 0.1091 - val_accuracy: 0.9840\n",
      "Epoch 108/1000\n",
      "284/284 [==============================] - 31s 109ms/step - loss: 0.2396 - accuracy: 0.9331 - val_loss: 0.1092 - val_accuracy: 0.9840\n",
      "Epoch 109/1000\n",
      "284/284 [==============================] - 32s 112ms/step - loss: 0.2395 - accuracy: 0.9331 - val_loss: 0.1090 - val_accuracy: 0.9840\n",
      "Epoch 110/1000\n",
      "284/284 [==============================] - 31s 108ms/step - loss: 0.2396 - accuracy: 0.9331 - val_loss: 0.1089 - val_accuracy: 0.9840\n",
      "Epoch 111/1000\n",
      "284/284 [==============================] - 31s 108ms/step - loss: 0.2395 - accuracy: 0.9331 - val_loss: 0.1093 - val_accuracy: 0.9840\n",
      "Epoch 112/1000\n",
      "284/284 [==============================] - 31s 111ms/step - loss: 0.2395 - accuracy: 0.9331 - val_loss: 0.1095 - val_accuracy: 0.9840\n",
      "Epoch 113/1000\n",
      "284/284 [==============================] - 31s 108ms/step - loss: 0.2395 - accuracy: 0.9331 - val_loss: 0.1095 - val_accuracy: 0.9840\n",
      "Epoch 114/1000\n",
      "284/284 [==============================] - 30s 104ms/step - loss: 0.2395 - accuracy: 0.9331 - val_loss: 0.1098 - val_accuracy: 0.9840\n",
      "Epoch 115/1000\n",
      "284/284 [==============================] - 31s 110ms/step - loss: 0.2395 - accuracy: 0.9331 - val_loss: 0.1095 - val_accuracy: 0.9840\n",
      "Epoch 116/1000\n",
      "284/284 [==============================] - 31s 110ms/step - loss: 0.2394 - accuracy: 0.9331 - val_loss: 0.1094 - val_accuracy: 0.9840\n",
      "Epoch 117/1000\n",
      "284/284 [==============================] - 31s 110ms/step - loss: 0.2395 - accuracy: 0.9331 - val_loss: 0.1099 - val_accuracy: 0.9840\n",
      "Epoch 118/1000\n",
      "284/284 [==============================] - 33s 116ms/step - loss: 0.2394 - accuracy: 0.9331 - val_loss: 0.1091 - val_accuracy: 0.9840\n",
      "Epoch 119/1000\n",
      "284/284 [==============================] - 31s 109ms/step - loss: 0.2394 - accuracy: 0.9331 - val_loss: 0.1096 - val_accuracy: 0.9840\n",
      "Epoch 120/1000\n",
      "284/284 [==============================] - 32s 111ms/step - loss: 0.2394 - accuracy: 0.9331 - val_loss: 0.1093 - val_accuracy: 0.9840\n",
      "Epoch 121/1000\n",
      "284/284 [==============================] - 32s 114ms/step - loss: 0.2394 - accuracy: 0.9331 - val_loss: 0.1093 - val_accuracy: 0.9840\n",
      "Epoch 122/1000\n",
      "284/284 [==============================] - 33s 117ms/step - loss: 0.2394 - accuracy: 0.9331 - val_loss: 0.1093 - val_accuracy: 0.9840\n",
      "Epoch 123/1000\n",
      "284/284 [==============================] - 33s 115ms/step - loss: 0.2393 - accuracy: 0.9331 - val_loss: 0.1093 - val_accuracy: 0.9840\n",
      "Epoch 124/1000\n",
      "284/284 [==============================] - 32s 113ms/step - loss: 0.2394 - accuracy: 0.9331 - val_loss: 0.1099 - val_accuracy: 0.9840\n",
      "Epoch 125/1000\n",
      "284/284 [==============================] - 32s 111ms/step - loss: 0.2394 - accuracy: 0.9331 - val_loss: 0.1089 - val_accuracy: 0.9840\n",
      "Epoch 126/1000\n",
      "284/284 [==============================] - 31s 109ms/step - loss: 0.2393 - accuracy: 0.9331 - val_loss: 0.1093 - val_accuracy: 0.9840\n",
      "Epoch 127/1000\n",
      "284/284 [==============================] - 30s 104ms/step - loss: 0.2393 - accuracy: 0.9331 - val_loss: 0.1092 - val_accuracy: 0.9840\n",
      "Epoch 128/1000\n",
      "284/284 [==============================] - 32s 112ms/step - loss: 0.2393 - accuracy: 0.9332 - val_loss: 0.1097 - val_accuracy: 0.9840\n",
      "Epoch 129/1000\n",
      "284/284 [==============================] - 31s 110ms/step - loss: 0.2393 - accuracy: 0.9332 - val_loss: 0.1098 - val_accuracy: 0.9840\n",
      "Epoch 130/1000\n",
      "284/284 [==============================] - 32s 114ms/step - loss: 0.2393 - accuracy: 0.9332 - val_loss: 0.1099 - val_accuracy: 0.9840\n",
      "Epoch 131/1000\n",
      "284/284 [==============================] - 34s 121ms/step - loss: 0.2392 - accuracy: 0.9332 - val_loss: 0.1097 - val_accuracy: 0.9840\n",
      "Epoch 132/1000\n",
      "284/284 [==============================] - 32s 114ms/step - loss: 0.2392 - accuracy: 0.9332 - val_loss: 0.1096 - val_accuracy: 0.9840\n",
      "Epoch 133/1000\n",
      "284/284 [==============================] - 31s 110ms/step - loss: 0.2392 - accuracy: 0.9332 - val_loss: 0.1092 - val_accuracy: 0.9840\n",
      "Epoch 134/1000\n",
      "284/284 [==============================] - 31s 110ms/step - loss: 0.2393 - accuracy: 0.9332 - val_loss: 0.1101 - val_accuracy: 0.9840\n",
      "Epoch 135/1000\n",
      "284/284 [==============================] - 30s 107ms/step - loss: 0.2392 - accuracy: 0.9332 - val_loss: 0.1095 - val_accuracy: 0.9840\n",
      "Epoch 136/1000\n",
      "284/284 [==============================] - 30s 105ms/step - loss: 0.2392 - accuracy: 0.9332 - val_loss: 0.1099 - val_accuracy: 0.9840\n",
      "Epoch 137/1000\n",
      "284/284 [==============================] - 30s 105ms/step - loss: 0.2392 - accuracy: 0.9332 - val_loss: 0.1098 - val_accuracy: 0.9840\n",
      "Epoch 138/1000\n",
      "284/284 [==============================] - 30s 106ms/step - loss: 0.2391 - accuracy: 0.9333 - val_loss: 0.1096 - val_accuracy: 0.9840\n",
      "Epoch 139/1000\n",
      "284/284 [==============================] - 31s 109ms/step - loss: 0.2391 - accuracy: 0.9333 - val_loss: 0.1094 - val_accuracy: 0.9840\n",
      "Epoch 140/1000\n",
      "284/284 [==============================] - 29s 103ms/step - loss: 0.2391 - accuracy: 0.9333 - val_loss: 0.1097 - val_accuracy: 0.9840\n",
      "Epoch 141/1000\n",
      "284/284 [==============================] - 30s 104ms/step - loss: 0.2391 - accuracy: 0.9333 - val_loss: 0.1098 - val_accuracy: 0.9840\n",
      "Epoch 142/1000\n",
      "284/284 [==============================] - 30s 105ms/step - loss: 0.2392 - accuracy: 0.9333 - val_loss: 0.1103 - val_accuracy: 0.9840\n",
      "Epoch 143/1000\n",
      "284/284 [==============================] - 31s 109ms/step - loss: 0.2392 - accuracy: 0.9333 - val_loss: 0.1098 - val_accuracy: 0.9840\n",
      "Epoch 144/1000\n",
      "284/284 [==============================] - 29s 103ms/step - loss: 0.2391 - accuracy: 0.9333 - val_loss: 0.1102 - val_accuracy: 0.9840\n",
      "Epoch 145/1000\n",
      "284/284 [==============================] - 29s 102ms/step - loss: 0.2391 - accuracy: 0.9333 - val_loss: 0.1101 - val_accuracy: 0.9840\n",
      "Epoch 146/1000\n",
      "284/284 [==============================] - 31s 108ms/step - loss: 0.2391 - accuracy: 0.9333 - val_loss: 0.1102 - val_accuracy: 0.9840\n",
      "Epoch 147/1000\n",
      "284/284 [==============================] - 29s 103ms/step - loss: 0.2391 - accuracy: 0.9333 - val_loss: 0.1101 - val_accuracy: 0.9840\n",
      "Epoch 148/1000\n",
      "284/284 [==============================] - 29s 102ms/step - loss: 0.2391 - accuracy: 0.9333 - val_loss: 0.1100 - val_accuracy: 0.9840\n",
      "Epoch 149/1000\n",
      "284/284 [==============================] - 29s 101ms/step - loss: 0.2391 - accuracy: 0.9333 - val_loss: 0.1102 - val_accuracy: 0.9840\n",
      "Epoch 150/1000\n",
      "284/284 [==============================] - 28s 100ms/step - loss: 0.2390 - accuracy: 0.9333 - val_loss: 0.1107 - val_accuracy: 0.9840\n",
      "Epoch 151/1000\n",
      "284/284 [==============================] - 28s 99ms/step - loss: 0.2390 - accuracy: 0.9333 - val_loss: 0.1107 - val_accuracy: 0.9840\n",
      "Epoch 152/1000\n",
      "284/284 [==============================] - 28s 98ms/step - loss: 0.2390 - accuracy: 0.9333 - val_loss: 0.1100 - val_accuracy: 0.9840\n",
      "Epoch 153/1000\n",
      "284/284 [==============================] - 28s 98ms/step - loss: 0.2390 - accuracy: 0.9333 - val_loss: 0.1102 - val_accuracy: 0.9840\n",
      "Epoch 154/1000\n",
      "284/284 [==============================] - 29s 103ms/step - loss: 0.2390 - accuracy: 0.9333 - val_loss: 0.1099 - val_accuracy: 0.9840\n",
      "Epoch 155/1000\n",
      "284/284 [==============================] - 30s 104ms/step - loss: 0.2390 - accuracy: 0.9333 - val_loss: 0.1099 - val_accuracy: 0.9840\n",
      "Epoch 156/1000\n",
      "284/284 [==============================] - 30s 106ms/step - loss: 0.2389 - accuracy: 0.9333 - val_loss: 0.1098 - val_accuracy: 0.9840\n",
      "Epoch 157/1000\n",
      "284/284 [==============================] - 31s 109ms/step - loss: 0.2389 - accuracy: 0.9333 - val_loss: 0.1103 - val_accuracy: 0.9840\n",
      "Epoch 158/1000\n",
      "284/284 [==============================] - 29s 103ms/step - loss: 0.2390 - accuracy: 0.9333 - val_loss: 0.1096 - val_accuracy: 0.9840\n",
      "Epoch 159/1000\n",
      "284/284 [==============================] - 29s 102ms/step - loss: 0.2390 - accuracy: 0.9333 - val_loss: 0.1104 - val_accuracy: 0.9840\n",
      "Epoch 160/1000\n",
      "284/284 [==============================] - 35s 123ms/step - loss: 0.2389 - accuracy: 0.9333 - val_loss: 0.1105 - val_accuracy: 0.9840\n",
      "Epoch 161/1000\n",
      "284/284 [==============================] - 36s 128ms/step - loss: 0.2389 - accuracy: 0.9333 - val_loss: 0.1105 - val_accuracy: 0.9840\n",
      "Epoch 162/1000\n",
      "284/284 [==============================] - 34s 120ms/step - loss: 0.2389 - accuracy: 0.9333 - val_loss: 0.1104 - val_accuracy: 0.9840\n",
      "Epoch 163/1000\n",
      "284/284 [==============================] - 34s 120ms/step - loss: 0.2389 - accuracy: 0.9333 - val_loss: 0.1107 - val_accuracy: 0.9840\n",
      "Epoch 164/1000\n",
      "284/284 [==============================] - 34s 120ms/step - loss: 0.2389 - accuracy: 0.9333 - val_loss: 0.1099 - val_accuracy: 0.9840\n",
      "Epoch 165/1000\n",
      "284/284 [==============================] - 31s 109ms/step - loss: 0.2389 - accuracy: 0.9333 - val_loss: 0.1103 - val_accuracy: 0.9840\n",
      "Epoch 166/1000\n",
      "284/284 [==============================] - 30s 104ms/step - loss: 0.2388 - accuracy: 0.9333 - val_loss: 0.1104 - val_accuracy: 0.9840\n",
      "Epoch 167/1000\n",
      "284/284 [==============================] - 29s 101ms/step - loss: 0.2388 - accuracy: 0.9333 - val_loss: 0.1099 - val_accuracy: 0.9840\n",
      "Epoch 168/1000\n",
      "284/284 [==============================] - 29s 101ms/step - loss: 0.2388 - accuracy: 0.9333 - val_loss: 0.1107 - val_accuracy: 0.9840\n",
      "Epoch 169/1000\n",
      "284/284 [==============================] - 28s 99ms/step - loss: 0.2388 - accuracy: 0.9333 - val_loss: 0.1110 - val_accuracy: 0.9840\n",
      "Epoch 170/1000\n",
      "284/284 [==============================] - 28s 98ms/step - loss: 0.2388 - accuracy: 0.9333 - val_loss: 0.1106 - val_accuracy: 0.9840\n",
      "Epoch 171/1000\n",
      "284/284 [==============================] - 29s 103ms/step - loss: 0.2388 - accuracy: 0.9333 - val_loss: 0.1099 - val_accuracy: 0.9840\n",
      "Epoch 172/1000\n",
      "284/284 [==============================] - 27s 94ms/step - loss: 0.2388 - accuracy: 0.9333 - val_loss: 0.1105 - val_accuracy: 0.9840\n",
      "Epoch 173/1000\n",
      "284/284 [==============================] - 26s 92ms/step - loss: 0.2388 - accuracy: 0.9333 - val_loss: 0.1106 - val_accuracy: 0.9840\n",
      "Epoch 174/1000\n",
      "284/284 [==============================] - 27s 94ms/step - loss: 0.2388 - accuracy: 0.9333 - val_loss: 0.1102 - val_accuracy: 0.9840\n",
      "Epoch 175/1000\n",
      "284/284 [==============================] - 27s 96ms/step - loss: 0.2387 - accuracy: 0.9333 - val_loss: 0.1104 - val_accuracy: 0.9840\n",
      "Epoch 176/1000\n",
      "284/284 [==============================] - 27s 94ms/step - loss: 0.2387 - accuracy: 0.9333 - val_loss: 0.1109 - val_accuracy: 0.9840\n",
      "Epoch 177/1000\n",
      "284/284 [==============================] - 26s 93ms/step - loss: 0.2387 - accuracy: 0.9333 - val_loss: 0.1110 - val_accuracy: 0.9840\n",
      "Epoch 178/1000\n",
      "284/284 [==============================] - 26s 93ms/step - loss: 0.2388 - accuracy: 0.9333 - val_loss: 0.1104 - val_accuracy: 0.9840\n",
      "Epoch 179/1000\n",
      "284/284 [==============================] - 27s 97ms/step - loss: 0.2387 - accuracy: 0.9333 - val_loss: 0.1104 - val_accuracy: 0.9840\n",
      "Epoch 180/1000\n",
      "284/284 [==============================] - 28s 97ms/step - loss: 0.2387 - accuracy: 0.9333 - val_loss: 0.1103 - val_accuracy: 0.9840\n",
      "Epoch 181/1000\n",
      "284/284 [==============================] - 28s 98ms/step - loss: 0.2387 - accuracy: 0.9333 - val_loss: 0.1104 - val_accuracy: 0.9840\n",
      "Epoch 182/1000\n",
      "284/284 [==============================] - 28s 99ms/step - loss: 0.2387 - accuracy: 0.9333 - val_loss: 0.1100 - val_accuracy: 0.9840\n",
      "Epoch 183/1000\n",
      "284/284 [==============================] - 28s 98ms/step - loss: 0.2387 - accuracy: 0.9333 - val_loss: 0.1106 - val_accuracy: 0.9840\n",
      "Epoch 184/1000\n",
      "284/284 [==============================] - 27s 96ms/step - loss: 0.2387 - accuracy: 0.9333 - val_loss: 0.1104 - val_accuracy: 0.9840\n",
      "Epoch 185/1000\n",
      "284/284 [==============================] - 28s 99ms/step - loss: 0.2387 - accuracy: 0.9333 - val_loss: 0.1104 - val_accuracy: 0.9840\n",
      "Epoch 186/1000\n",
      "284/284 [==============================] - 28s 100ms/step - loss: 0.2386 - accuracy: 0.9333 - val_loss: 0.1108 - val_accuracy: 0.9840\n",
      "Epoch 187/1000\n",
      "284/284 [==============================] - 27s 96ms/step - loss: 0.2386 - accuracy: 0.9333 - val_loss: 0.1102 - val_accuracy: 0.9840\n",
      "Epoch 188/1000\n",
      "284/284 [==============================] - 29s 103ms/step - loss: 0.2386 - accuracy: 0.9333 - val_loss: 0.1104 - val_accuracy: 0.9840\n",
      "Epoch 189/1000\n",
      "284/284 [==============================] - 28s 99ms/step - loss: 0.2386 - accuracy: 0.9333 - val_loss: 0.1103 - val_accuracy: 0.9840\n",
      "Epoch 190/1000\n",
      "284/284 [==============================] - 29s 103ms/step - loss: 0.2385 - accuracy: 0.9333 - val_loss: 0.1099 - val_accuracy: 0.9840\n",
      "Epoch 191/1000\n",
      "284/284 [==============================] - 28s 99ms/step - loss: 0.2386 - accuracy: 0.9333 - val_loss: 0.1104 - val_accuracy: 0.9840\n",
      "Epoch 192/1000\n",
      "284/284 [==============================] - 27s 95ms/step - loss: 0.2385 - accuracy: 0.9333 - val_loss: 0.1104 - val_accuracy: 0.9840\n",
      "Epoch 193/1000\n",
      "284/284 [==============================] - 28s 97ms/step - loss: 0.2385 - accuracy: 0.9333 - val_loss: 0.1108 - val_accuracy: 0.9840\n"
     ]
    },
    {
     "data": {
      "text/plain": [
       "<keras.callbacks.History at 0x277053a6c08>"
      ]
     },
     "execution_count": 5,
     "metadata": {},
     "output_type": "execute_result"
    }
   ],
   "source": [
    "# Train model\n",
    "model.fit(X_train, y_train, validation_data=(X_test, y_test), epochs=1000, callbacks=[cp,stop],batch_size=256)"
   ]
  },
  {
   "cell_type": "code",
   "execution_count": 6,
   "id": "b7526229-dcf6-4717-a4ed-ab4e8a605919",
   "metadata": {},
   "outputs": [
    {
     "name": "stdout",
     "output_type": "stream",
     "text": [
      "568/568 [==============================] - 19s 32ms/step\n"
     ]
    }
   ],
   "source": [
    "# model predicitons on validaiton data\n",
    "yhat = model.predict(X_test)"
   ]
  },
  {
   "cell_type": "code",
   "execution_count": 8,
   "id": "eb7c4cc2-5d23-4299-8945-2f5a4535b538",
   "metadata": {},
   "outputs": [
    {
     "name": "stdout",
     "output_type": "stream",
     "text": [
      "Sensitivity, hit rate, recall, or true positive rate: \n",
      "0.0\n",
      "Specificity or true negative rate\n",
      "1.0\n",
      "Precision or positive predictive value\n",
      "nan\n",
      "Negative predictive value\n",
      "0.9840308370044053\n",
      "Fall out or false positive rate\n",
      "0.0\n",
      "False negative rate\n",
      "1.0\n",
      "False discovery rate\n",
      "nan\n",
      "Overall accuracy\n",
      "0.9840308370044053\n"
     ]
    },
    {
     "name": "stderr",
     "output_type": "stream",
     "text": [
      "C:\\Users\\jslac\\AppData\\Roaming\\Python\\Python37\\site-packages\\ipykernel_launcher.py:13: RuntimeWarning: invalid value encountered in longlong_scalars\n",
      "  del sys.path[0]\n",
      "C:\\Users\\jslac\\AppData\\Roaming\\Python\\Python37\\site-packages\\ipykernel_launcher.py:25: RuntimeWarning: invalid value encountered in longlong_scalars\n"
     ]
    }
   ],
   "source": [
    "# metrics\n",
    "from sklearn import metrics\n",
    "TN, FP, FN, TP = metrics.confusion_matrix(y_test, np.array([0 if y < .5 else 1 for y in yhat])).ravel()\n",
    "\n",
    "\n",
    "print('Sensitivity, hit rate, recall, or true positive rate: ')\n",
    "TPR = TP/(TP+FN)\n",
    "print(TPR)\n",
    "print('Specificity or true negative rate')\n",
    "TNR = TN/(TN+FP) \n",
    "print(TNR)\n",
    "print('Precision or positive predictive value')\n",
    "PPV = TP/(TP+FP)\n",
    "print(PPV)\n",
    "print('Negative predictive value')\n",
    "NPV = TN/(TN+FN)\n",
    "print(NPV)\n",
    "print('Fall out or false positive rate')\n",
    "FPR = FP/(FP+TN)\n",
    "print(FPR)\n",
    "print('False negative rate')\n",
    "FNR = FN/(TP+FN)\n",
    "print(FNR)\n",
    "print('False discovery rate')\n",
    "FDR = FP/(TP+FP)\n",
    "print(FDR)\n",
    "\n",
    "print('Overall accuracy')\n",
    "ACC = (TP+TN)/(TP+FP+FN+TN)\n",
    "print(ACC)\n"
   ]
  },
  {
   "cell_type": "code",
   "execution_count": 13,
   "id": "f672891d-7874-48dc-8aa2-b260092afd64",
   "metadata": {},
   "outputs": [
    {
     "name": "stdout",
     "output_type": "stream",
     "text": [
      "569/569 [==============================] - 17s 28ms/step\n",
      "[[0.0662771 ]\n",
      " [0.0662771 ]\n",
      " [0.0662771 ]\n",
      " ...\n",
      " [0.06627689]\n",
      " [0.06627689]\n",
      " [0.06627689]]\n",
      "0\n"
     ]
    },
    {
     "ename": "ValueError",
     "evalue": "not enough values to unpack (expected 4, got 1)",
     "output_type": "error",
     "traceback": [
      "\u001b[1;31m---------------------------------------------------------------------------\u001b[0m",
      "\u001b[1;31mValueError\u001b[0m                                Traceback (most recent call last)",
      "\u001b[1;32m<ipython-input-13-ed963c27d674>\u001b[0m in \u001b[0;36m<module>\u001b[1;34m\u001b[0m\n\u001b[0;32m     12\u001b[0m \u001b[1;31m# metrics on unseen data\u001b[0m\u001b[1;33m\u001b[0m\u001b[1;33m\u001b[0m\u001b[1;33m\u001b[0m\u001b[0m\n\u001b[0;32m     13\u001b[0m \u001b[1;32mfrom\u001b[0m \u001b[0msklearn\u001b[0m \u001b[1;32mimport\u001b[0m \u001b[0mmetrics\u001b[0m\u001b[1;33m\u001b[0m\u001b[1;33m\u001b[0m\u001b[0m\n\u001b[1;32m---> 14\u001b[1;33m \u001b[0mTN\u001b[0m\u001b[1;33m,\u001b[0m \u001b[0mFP\u001b[0m\u001b[1;33m,\u001b[0m \u001b[0mFN\u001b[0m\u001b[1;33m,\u001b[0m \u001b[0mTP\u001b[0m \u001b[1;33m=\u001b[0m \u001b[0mmetrics\u001b[0m\u001b[1;33m.\u001b[0m\u001b[0mconfusion_matrix\u001b[0m\u001b[1;33m(\u001b[0m\u001b[0my_unseen\u001b[0m\u001b[1;33m,\u001b[0m \u001b[0mnp\u001b[0m\u001b[1;33m.\u001b[0m\u001b[0marray\u001b[0m\u001b[1;33m(\u001b[0m\u001b[1;33m[\u001b[0m\u001b[1;36m0\u001b[0m \u001b[1;32mif\u001b[0m \u001b[0my\u001b[0m \u001b[1;33m<\u001b[0m \u001b[1;36m.5\u001b[0m \u001b[1;32melse\u001b[0m \u001b[1;36m1\u001b[0m \u001b[1;32mfor\u001b[0m \u001b[0my\u001b[0m \u001b[1;32min\u001b[0m \u001b[0myhat_unseen\u001b[0m\u001b[1;33m]\u001b[0m\u001b[1;33m)\u001b[0m\u001b[1;33m)\u001b[0m\u001b[1;33m.\u001b[0m\u001b[0mravel\u001b[0m\u001b[1;33m(\u001b[0m\u001b[1;33m)\u001b[0m\u001b[1;33m\u001b[0m\u001b[1;33m\u001b[0m\u001b[0m\n\u001b[0m\u001b[0;32m     15\u001b[0m \u001b[1;33m\u001b[0m\u001b[0m\n\u001b[0;32m     16\u001b[0m \u001b[1;33m\u001b[0m\u001b[0m\n",
      "\u001b[1;31mValueError\u001b[0m: not enough values to unpack (expected 4, got 1)"
     ]
    }
   ],
   "source": [
    "# measuring performance on unseen data from same subject\n",
    "import numpy as np\n",
    "from tensorflow.keras.models import load_model\n",
    "model1 = load_model('model_no_input_label_sub1_experiment1/')\n",
    "X_unseen = np.load('sliding_window_dataset_no_input_labels/S01R01experiment0/X.npy')\n",
    "y_unseen = np.load('sliding_window_dataset_no_input_labels/S01R01experiment0/y.npy')\n",
    "y_unseen = np.array([[i] for i in y_unseen])\n",
    "\n",
    "yhat_unseen = model1.predict(X_unseen)\n",
    "print(yhat_unseen)\n",
    "print(sum(np.array([0 if y < .5 else 1 for y in yhat_unseen])))\n",
    "# metrics on unseen data\n",
    "from sklearn import metrics\n",
    "TN, FP, FN, TP = metrics.confusion_matrix(y_unseen, np.array([0 if y < .5 else 1 for y in yhat_unseen])).ravel()\n",
    "\n",
    "\n",
    "print('Sensitivity, hit rate, recall, or true positive rate: ')\n",
    "TPR = TP/(TP+FN)\n",
    "print(TPR)\n",
    "print('Specificity or true negative rate')\n",
    "TNR = TN/(TN+FP) \n",
    "print(TNR)\n",
    "print('Precision or positive predictive value')\n",
    "PPV = TP/(TP+FP)\n",
    "print(PPV)\n",
    "print('Negative predictive value')\n",
    "NPV = TN/(TN+FN)\n",
    "print(NPV)\n",
    "print('Fall out or false positive rate')\n",
    "FPR = FP/(FP+TN)\n",
    "print(FPR)\n",
    "print('False negative rate')\n",
    "FNR = FN/(TP+FN)\n",
    "print(FNR)\n",
    "print('False discovery rate')\n",
    "FDR = FP/(TP+FP)\n",
    "print(FDR)\n",
    "\n",
    "print('Overall accuracy')\n",
    "ACC = (TP+TN)/(TP+FP+FN+TN)\n",
    "print(ACC)"
   ]
  },
  {
   "cell_type": "code",
   "execution_count": 14,
   "id": "7451c2d5-2d25-403a-89a8-013f2e62d417",
   "metadata": {},
   "outputs": [
    {
     "name": "stdout",
     "output_type": "stream",
     "text": [
      "1999/1999 [==============================] - 59s 29ms/step\n",
      "Sensitivity, hit rate, recall, or true positive rate: \n",
      "0.0002477700693756194\n",
      "Specificity or true negative rate\n",
      "1.0\n",
      "Precision or positive predictive value\n",
      "1.0\n",
      "Negative predictive value\n",
      "0.8738234466368554\n",
      "Fall out or false positive rate\n",
      "0.0\n",
      "False negative rate\n",
      "0.9997522299306244\n",
      "False discovery rate\n",
      "0.0\n",
      "Overall accuracy\n",
      "0.8738273921200751\n"
     ]
    }
   ],
   "source": [
    "X_sub2 = np.load('sliding_window_dataset_no_input_labels/S02R02experiment0/X.npy')\n",
    "y_sub2 = np.load('sliding_window_dataset_no_input_labels/S02R02experiment0/y.npy')\n",
    "y_sub2 = np.array([[i] for i in y_sub2])\n",
    "\n",
    "yhat_sub2 = model1.predict(X_sub2)\n",
    "\n",
    "TN, FP, FN, TP = metrics.confusion_matrix(y_sub2, np.array([0 if y < .5 else 1 for y in yhat_sub2])).ravel()\n",
    "\n",
    "\n",
    "print('Sensitivity, hit rate, recall, or true positive rate: ')\n",
    "TPR = TP/(TP+FN)\n",
    "print(TPR)\n",
    "print('Specificity or true negative rate')\n",
    "TNR = TN/(TN+FP) \n",
    "print(TNR)\n",
    "print('Precision or positive predictive value')\n",
    "PPV = TP/(TP+FP)\n",
    "print(PPV)\n",
    "print('Negative predictive value')\n",
    "NPV = TN/(TN+FN)\n",
    "print(NPV)\n",
    "print('Fall out or false positive rate')\n",
    "FPR = FP/(FP+TN)\n",
    "print(FPR)\n",
    "print('False negative rate')\n",
    "FNR = FN/(TP+FN)\n",
    "print(FNR)\n",
    "print('False discovery rate')\n",
    "FDR = FP/(TP+FP)\n",
    "print(FDR)\n",
    "\n",
    "print('Overall accuracy')\n",
    "ACC = (TP+TN)/(TP+FP+FN+TN)\n",
    "print(ACC)"
   ]
  }
 ],
 "metadata": {
  "kernelspec": {
   "display_name": "Python 3",
   "language": "python",
   "name": "python3"
  },
  "language_info": {
   "codemirror_mode": {
    "name": "ipython",
    "version": 3
   },
   "file_extension": ".py",
   "mimetype": "text/x-python",
   "name": "python",
   "nbconvert_exporter": "python",
   "pygments_lexer": "ipython3",
   "version": "3.7.13"
  }
 },
 "nbformat": 4,
 "nbformat_minor": 5
}
