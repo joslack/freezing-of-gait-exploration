{
 "cells": [
  {
   "cell_type": "code",
   "execution_count": 22,
   "id": "2e41afab-e1c3-4d14-8a90-239aa20c7a6f",
   "metadata": {},
   "outputs": [],
   "source": [
    "import pandas as pd\n",
    "import numpy as np\n",
    "import os\n",
    "import time\n",
    "from tqdm import tqdm"
   ]
  },
  {
   "cell_type": "code",
   "execution_count": 35,
   "id": "b3589135-8fb8-4fe9-8232-7812a939e192",
   "metadata": {},
   "outputs": [],
   "source": [
    "column_names = ['ms','ankle_horiz_fw','ankle_vert', 'ankle_horiz_lat','thigh_horiz_fw','thigh_vert', 'thigh_horiz_lat','trunk_horiz_fw','trunk_vert', 'trunk_horiz_lat','annotation']\n",
    "datadir = 'dataset_fog_release/dataset'\n",
    "outputdir = 'sliding_window_dataset/'\n",
    "\n",
    "subject_files = {'s1': ['S01R01.txt','S01R02.txt'],'s2':['S02R01.txt','S02R02.txt'],'s3':['S03R01.txt','S03R02.txt','S03R03.txt'],\n",
    "                 's4':['S04R01.txt'],'s5':['S05R01.txt','S05R02.txt'],'s6':['S06R01.txt','S06R02.txt'],'s7':['S07R01.txt','S07R02.txt'],\n",
    "                 's8': ['S08R01.txt'],'s9': ['S09R01.txt'],'s10':['S10R01.txt']}\n",
    "subj_file = subject_files[\"s1\"][0]\n",
    "filename = f'{datadir}/{subj_file}'\n",
    "df = pd.read_csv(filename,sep=' ', names = column_names)"
   ]
  },
  {
   "cell_type": "code",
   "execution_count": 36,
   "id": "d3c184a8-73ca-47e3-8cc0-01ba7a7398a6",
   "metadata": {},
   "outputs": [],
   "source": [
    "def extract_experiment_windows(annotations):\n",
    "    '''Extracts the indices where an active experiment occurs for slicing time series into valid chunks\n",
    "    annotations : [int]\n",
    "        an array of annotations where 0 is inactive, 1 is active experiment, and 2 is gait freeze. Interested in the slices\n",
    "        of this array that are not equal to 0\n",
    "    '''\n",
    "    start = None\n",
    "    stop = None\n",
    "    windows = []\n",
    "    for i in range(len(annotations)):\n",
    "        if annotations[i] != 0 and not start:\n",
    "            start = i\n",
    "        if annotations[i] == 0 and start:\n",
    "            end = i - 1\n",
    "            windows.append((start,end))\n",
    "            start = None\n",
    "            end = None\n",
    "    return windows"
   ]
  },
  {
   "cell_type": "code",
   "execution_count": 37,
   "id": "22dd139f-b382-422d-afa8-2ce5f380e748",
   "metadata": {},
   "outputs": [
    {
     "name": "stderr",
     "output_type": "stream",
     "text": [
      "100%|██████████████████████████████████████████████████████████████████████████| 18200/18200 [00:04<00:00, 4408.86it/s]\n",
      "100%|██████████████████████████████████████████████████████████████████████████| 72600/72600 [01:10<00:00, 1022.88it/s]\n"
     ]
    },
    {
     "name": "stdout",
     "output_type": "stream",
     "text": [
      "232.2439603805542\n"
     ]
    }
   ],
   "source": [
    "\n",
    "def create_and_save_sliding_windows(subj_data_frame,filename, outputdir, window_size = 1000, columns=['ankle_vert','annotation']):\n",
    "    '''given a subject's dataframe, this will use extract_experiment_windows to find the time intervals where there is \n",
    "    an active experiment, and then return a numpy array of \"sliding windows\".\n",
    "    By default, the only column pulled will be vertical ankle acceleration\n",
    "    i.e. \n",
    "    if I have a time series [1,2,3,4,5,6], and a window size of 3, this function returns ([[1],[2],[3]], [4]), ([[2],[3],[4]],[5]), etc. \n",
    "    We want something of the form:\n",
    "    [[ankle_acc1,...,annotation1] ,[ankle_acc2,...,annotation2],...,[ankle_acc_winsize-1,...,annotation_winsize-1]] , [annotation_winsize]\n",
    "    '''\n",
    "    experiment_intervals = extract_experiment_windows(subj_data_frame['annotation'])\n",
    "    df_as_np = subj_data_frame.to_numpy()\n",
    "\n",
    "    experiment_intervals = extract_experiment_windows(df['annotation'])\n",
    "    numpy_df = df[columns].to_numpy()\n",
    "    numpy_df_intervals = []\n",
    "    X = []\n",
    "    y = []\n",
    "    start = time.time()\n",
    "    for interval in experiment_intervals:\n",
    "        numpy_df_intervals.append(numpy_df[interval[0]:interval[1]])\n",
    "    for experiment,n in zip(numpy_df_intervals, range(len(numpy_df_intervals))):\n",
    "        for i in tqdm(range(len(experiment) - window_size)):\n",
    "            row = [a for a in experiment[i:i+window_size]]\n",
    "            X.append(row)\n",
    "            label = experiment[i+window_size][3]\n",
    "            y.append(0 if label == 1 else 1)\n",
    "        np.save(f'{outputdir}{filename[0:6]}experiment{n}_X.npy',X)\n",
    "        np.save(f'{outputdir}{filename[0:6]}experiment{n}_y.npy',y)\n",
    "\n",
    "    end = time.time()\n",
    "    print(end-start)\n",
    "create_and_save_sliding_windows(df, subj_file, outputdir ,columns = ['ankle_horiz_fw','ankle_vert', 'ankle_horiz_lat','annotation'])"
   ]
  },
  {
   "cell_type": "code",
   "execution_count": 38,
   "id": "651e3a91-9adc-4c16-9537-bc27df57c703",
   "metadata": {},
   "outputs": [],
   "source": [
    "X = np.load('sliding_window_dataset/S01R01experiment1_X.npy')\n",
    "y = np.load('sliding_window_dataset/S01R01experiment1_y.npy')"
   ]
  },
  {
   "cell_type": "code",
   "execution_count": 40,
   "id": "b6818422-f566-4464-8f86-38883baec052",
   "metadata": {},
   "outputs": [
    {
     "name": "stdout",
     "output_type": "stream",
     "text": [
      "(90800, 1000, 4)\n",
      "(90800,)\n",
      "[[ -30  990  326    1]\n",
      " [ -30 1000  356    1]\n",
      " [ -20  990  336    1]\n",
      " ...\n",
      " [-131  970  366    1]\n",
      " [-111  960  346    1]\n",
      " [ -90 1000  366    1]]\n",
      "[19745 19746 19747 ... 85854 85855 85856]\n"
     ]
    }
   ],
   "source": [
    "print(X.shape)\n",
    "print(y.shape)\n",
    "print(X[0])\n",
    "print(np.where(y==1)[0])\n",
    "\n"
   ]
  },
  {
   "cell_type": "code",
   "execution_count": 41,
   "id": "aab44ee9-9159-4a60-8115-fe7612431cb8",
   "metadata": {},
   "outputs": [
    {
     "name": "stderr",
     "output_type": "stream",
     "text": [
      "100%|██████████████████████████████████████████████████████████████████████████| 18200/18200 [00:04<00:00, 3957.34it/s]\n",
      "100%|██████████████████████████████████████████████████████████████████████████| 72600/72600 [00:49<00:00, 1462.63it/s]\n"
     ]
    },
    {
     "name": "stdout",
     "output_type": "stream",
     "text": [
      "195.61806964874268\n"
     ]
    },
    {
     "name": "stderr",
     "output_type": "stream",
     "text": [
      "100%|██████████████████████████████████████████████████████████████████████████| 27800/27800 [00:08<00:00, 3166.64it/s]\n"
     ]
    },
    {
     "name": "stdout",
     "output_type": "stream",
     "text": [
      "22.216312885284424\n"
     ]
    },
    {
     "name": "stderr",
     "output_type": "stream",
     "text": [
      "100%|██████████████████████████████████████████████████████████████████████████| 24600/24600 [00:06<00:00, 3835.09it/s]\n"
     ]
    },
    {
     "name": "stdout",
     "output_type": "stream",
     "text": [
      "17.536587238311768\n"
     ]
    },
    {
     "name": "stderr",
     "output_type": "stream",
     "text": [
      "100%|██████████████████████████████████████████████████████████████████████████| 63960/63960 [00:25<00:00, 2480.59it/s]\n"
     ]
    },
    {
     "name": "stdout",
     "output_type": "stream",
     "text": [
      "60.90675091743469\n"
     ]
    },
    {
     "name": "stderr",
     "output_type": "stream",
     "text": [
      "100%|██████████████████████████████████████████████████████████████████████████| 54040/54040 [00:18<00:00, 2933.73it/s]\n",
      "100%|██████████████████████████████████████████████████████████████████████████| 34840/34840 [00:26<00:00, 1318.16it/s]\n"
     ]
    },
    {
     "name": "stdout",
     "output_type": "stream",
     "text": [
      "205.29813075065613\n"
     ]
    },
    {
     "name": "stderr",
     "output_type": "stream",
     "text": [
      "100%|██████████████████████████████████████████████████████████████████████████| 15640/15640 [00:03<00:00, 4255.78it/s]\n"
     ]
    },
    {
     "name": "stdout",
     "output_type": "stream",
     "text": [
      "10.392064809799194\n"
     ]
    },
    {
     "name": "stderr",
     "output_type": "stream",
     "text": [
      "100%|██████████████████████████████████████████████████████████████████████████| 20120/20120 [00:05<00:00, 3685.34it/s]\n"
     ]
    },
    {
     "name": "stdout",
     "output_type": "stream",
     "text": [
      "14.835521459579468\n"
     ]
    },
    {
     "name": "stderr",
     "output_type": "stream",
     "text": [
      "100%|██████████████████████████████████████████████████████████████████████████| 98840/98840 [00:41<00:00, 2379.28it/s]\n",
      "100%|███████████████████████████████████████████████████████████████████████████| 31640/31640 [02:17<00:00, 229.63it/s]\n"
     ]
    },
    {
     "name": "stdout",
     "output_type": "stream",
     "text": [
      "689.2020337581635\n"
     ]
    },
    {
     "name": "stderr",
     "output_type": "stream",
     "text": [
      "100%|██████████████████████████████████████████████████████████████████████████| 18840/18840 [00:05<00:00, 3562.75it/s]\n",
      "100%|██████████████████████████████████████████████████████████████████████████| 23320/23320 [00:10<00:00, 2221.19it/s]\n",
      "100%|██████████████████████████████████████████████████████████████████████████| 13080/13080 [00:03<00:00, 3341.85it/s]\n",
      "100%|████████████████████████████████████████████████████████████████████████████| 8600/8600 [00:02<00:00, 3362.21it/s]\n"
     ]
    },
    {
     "name": "stdout",
     "output_type": "stream",
     "text": [
      "105.67239761352539\n"
     ]
    },
    {
     "name": "stderr",
     "output_type": "stream",
     "text": [
      "100%|██████████████████████████████████████████████████████████████████████████| 34840/34840 [00:19<00:00, 1822.87it/s]\n",
      "100%|██████████████████████████████████████████████████████████████████████████| 29080/29080 [00:08<00:00, 3513.49it/s]\n"
     ]
    },
    {
     "name": "stdout",
     "output_type": "stream",
     "text": [
      "75.56765222549438\n"
     ]
    },
    {
     "name": "stderr",
     "output_type": "stream",
     "text": [
      "100%|██████████████████████████████████████████████████████████████████████████| 50200/50200 [00:21<00:00, 2318.28it/s]\n",
      "100%|██████████████████████████████████████████████████████████████████████████| 29720/29720 [00:08<00:00, 3366.22it/s]\n",
      "100%|██████████████████████████████████████████████████████████████████████████| 24600/24600 [00:08<00:00, 2818.51it/s]\n"
     ]
    },
    {
     "name": "stdout",
     "output_type": "stream",
     "text": [
      "325.5188639163971\n"
     ]
    },
    {
     "name": "stderr",
     "output_type": "stream",
     "text": [
      "100%|████████████████████████████████████████████████████████████████████████████| 6040/6040 [00:01<00:00, 4963.44it/s]\n",
      "100%|██████████████████████████████████████████████████████████████████████████| 11800/11800 [00:03<00:00, 3873.92it/s]\n"
     ]
    },
    {
     "name": "stdout",
     "output_type": "stream",
     "text": [
      "17.08025074005127\n"
     ]
    },
    {
     "name": "stderr",
     "output_type": "stream",
     "text": [
      "100%|██████████████████████████████████████████████████████████████████████████| 73240/73240 [00:33<00:00, 2213.48it/s]\n"
     ]
    },
    {
     "name": "stdout",
     "output_type": "stream",
     "text": [
      "82.67705178260803\n"
     ]
    },
    {
     "name": "stderr",
     "output_type": "stream",
     "text": [
      "100%|██████████████████████████████████████████████████████████████████████████| 27800/27800 [00:08<00:00, 3094.29it/s]\n"
     ]
    },
    {
     "name": "stdout",
     "output_type": "stream",
     "text": [
      "21.965163230895996\n"
     ]
    },
    {
     "name": "stderr",
     "output_type": "stream",
     "text": [
      "100%|██████████████████████████████████████████████████████████████████████████| 13720/13720 [00:10<00:00, 1343.91it/s]\n",
      "100%|████████████████████████████████████████████████████████████████████████████| 9240/9240 [00:03<00:00, 2623.51it/s]\n",
      "100%|██████████████████████████████████████████████████████████████████████████| 12440/12440 [00:04<00:00, 2533.44it/s]\n",
      "100%|████████████████████████████████████████████████████████████████████████████| 9880/9880 [00:03<00:00, 3241.34it/s]\n"
     ]
    },
    {
     "name": "stdout",
     "output_type": "stream",
     "text": [
      "76.1907594203949\n"
     ]
    },
    {
     "name": "stderr",
     "output_type": "stream",
     "text": [
      "100%|████████████████████████████████████████████████████████████████████████████| 8600/8600 [00:01<00:00, 5374.85it/s]\n",
      "100%|████████████████████████████████████████████████████████████████████████████| 9880/9880 [00:02<00:00, 3732.37it/s]\n",
      "100%|██████████████████████████████████████████████████████████████████████████| 34200/34200 [00:13<00:00, 2451.34it/s]\n",
      "100%|██████████████████████████████████████████████████████████████████████████| 45080/45080 [00:18<00:00, 2448.37it/s]\n",
      "100%|████████████████████████████████████████████████████████████████████████████| 8600/8600 [00:04<00:00, 2121.36it/s]\n"
     ]
    },
    {
     "name": "stdout",
     "output_type": "stream",
     "text": [
      "629.2478468418121\n"
     ]
    },
    {
     "name": "stderr",
     "output_type": "stream",
     "text": [
      "100%|██████████████████████████████████████████████████████████████████████████| 50200/50200 [00:29<00:00, 1686.46it/s]\n",
      "100%|███████████████████████████████████████████████████████████████████████████| 90520/90520 [03:42<00:00, 406.52it/s]\n"
     ]
    },
    {
     "name": "stdout",
     "output_type": "stream",
     "text": [
      "704.4332501888275\n"
     ]
    }
   ],
   "source": [
    "column_names = ['ms','ankle_horiz_fw','ankle_vert', 'ankle_horiz_lat','thigh_horiz_fw','thigh_vert', 'thigh_horiz_lat','trunk_horiz_fw','trunk_vert', 'trunk_horiz_lat','annotation']\n",
    "datadir = 'dataset_fog_release/dataset'\n",
    "outputdir = 'sliding_window_dataset/'\n",
    "\n",
    "subject_files = {'s1': ['S01R01.txt','S01R02.txt'],'s2':['S02R01.txt','S02R02.txt'],'s3':['S03R01.txt','S03R02.txt','S03R03.txt'],\n",
    "                 's4':['S04R01.txt'],'s5':['S05R01.txt','S05R02.txt'],'s6':['S06R01.txt','S06R02.txt'],'s7':['S07R01.txt','S07R02.txt'],\n",
    "                 's8': ['S08R01.txt'],'s9': ['S09R01.txt'],'s10':['S10R01.txt']}\n",
    "for subj in subject_files.keys():\n",
    "    for fname in subject_files[subj]:\n",
    "        path_to_file = f'{datadir}/{fname}'\n",
    "        df = pd.read_csv(path_to_file,sep=' ', names = column_names)\n",
    "        create_and_save_sliding_windows(df, fname, outputdir ,columns = ['ankle_horiz_fw','ankle_vert', 'ankle_horiz_lat','annotation'])"
   ]
  }
 ],
 "metadata": {
  "kernelspec": {
   "display_name": "Python 3",
   "language": "python",
   "name": "python3"
  },
  "language_info": {
   "codemirror_mode": {
    "name": "ipython",
    "version": 3
   },
   "file_extension": ".py",
   "mimetype": "text/x-python",
   "name": "python",
   "nbconvert_exporter": "python",
   "pygments_lexer": "ipython3",
   "version": "3.7.13"
  }
 },
 "nbformat": 4,
 "nbformat_minor": 5
}
