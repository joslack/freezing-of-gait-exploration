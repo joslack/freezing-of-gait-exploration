{
 "cells": [
  {
   "cell_type": "code",
   "execution_count": 1,
   "id": "cd2e8039-4919-4f44-857f-3fb4961aae79",
   "metadata": {},
   "outputs": [],
   "source": [
    "# Load data from subject 1 from trial where subject gait freezes\n",
    "import numpy as np\n",
    "X = np.load('sliding_window_dataset/S01R01experiment1/S01R01experiment1_X.npy')\n",
    "y = np.load('sliding_window_dataset/S01R01experiment1/S01R01experiment1_y.npy')\n",
    "y = np.array([[i] for i in y])"
   ]
  },
  {
   "cell_type": "code",
   "execution_count": 2,
   "id": "e2501d2b-7525-40b7-9401-85f0d846be12",
   "metadata": {},
   "outputs": [
    {
     "name": "stdout",
     "output_type": "stream",
     "text": [
      "(72640, 1000, 4) (72640, 1) (18160, 1000, 4) (18160, 1)\n"
     ]
    }
   ],
   "source": [
    "# Divide into train and test\n",
    "length = X.shape[0]\n",
    "test_data_idx_start = int(length * .8)\n",
    "X_train = X[:test_data_idx_start]\n",
    "y_train = y[:test_data_idx_start]\n",
    "X_test = X[test_data_idx_start:]\n",
    "y_test = y[test_data_idx_start:]\n",
    "print(X_train.shape, y_train.shape, X_test.shape, y_test.shape)"
   ]
  },
  {
   "cell_type": "code",
   "execution_count": 12,
   "id": "df781839-e4ae-4605-81c8-7e1437f067ff",
   "metadata": {},
   "outputs": [
    {
     "name": "stdout",
     "output_type": "stream",
     "text": [
      "Model: \"sequential_1\"\n",
      "_________________________________________________________________\n",
      " Layer (type)                Output Shape              Param #   \n",
      "=================================================================\n",
      " lstm_1 (LSTM)               (None, 64)                17664     \n",
      "                                                                 \n",
      " dense_2 (Dense)             (None, 8)                 520       \n",
      "                                                                 \n",
      " dense_3 (Dense)             (None, 1)                 9         \n",
      "                                                                 \n",
      "=================================================================\n",
      "Total params: 18,193\n",
      "Trainable params: 18,193\n",
      "Non-trainable params: 0\n",
      "_________________________________________________________________\n"
     ]
    }
   ],
   "source": [
    "# build lstm\n",
    "from tensorflow.keras.models import Sequential\n",
    "from tensorflow.keras.layers import *\n",
    "from tensorflow.keras.callbacks import ModelCheckpoint\n",
    "from tensorflow.keras.optimizers import Adam\n",
    "from tensorflow.keras.callbacks import EarlyStopping\n",
    "\n",
    "\n",
    "model = Sequential()\n",
    "model.add(InputLayer((1000, 4)))\n",
    "model.add(LSTM(64))\n",
    "model.add(Dense(8, 'relu'))\n",
    "model.add(Dense(1, 'sigmoid'))\n",
    "cp = ModelCheckpoint('model1_redone_with_early_stopping/', save_best_only=True)\n",
    "stop = EarlyStopping(monitor='val_loss', patience=100)\n",
    "model.compile(loss='binary_crossentropy', optimizer=Adam(learning_rate=0.0001), metrics=['accuracy'])\n",
    "model.summary()"
   ]
  },
  {
   "cell_type": "code",
   "execution_count": 13,
   "id": "62ba7fa8-7c41-4976-bab5-af9032e45009",
   "metadata": {},
   "outputs": [
    {
     "name": "stdout",
     "output_type": "stream",
     "text": [
      "Epoch 1/1000\n",
      "284/284 [==============================] - ETA: 0s - loss: 0.4195 - accuracy: 0.8997"
     ]
    },
    {
     "name": "stderr",
     "output_type": "stream",
     "text": [
      "WARNING:absl:Found untraced functions such as lstm_cell_2_layer_call_fn, lstm_cell_2_layer_call_and_return_conditional_losses while saving (showing 2 of 2). These functions will not be directly callable after loading.\n"
     ]
    },
    {
     "name": "stdout",
     "output_type": "stream",
     "text": [
      "INFO:tensorflow:Assets written to: model1_redone_with_early_stopping\\assets\n"
     ]
    },
    {
     "name": "stderr",
     "output_type": "stream",
     "text": [
      "INFO:tensorflow:Assets written to: model1_redone_with_early_stopping\\assets\n"
     ]
    },
    {
     "name": "stdout",
     "output_type": "stream",
     "text": [
      "284/284 [==============================] - 35s 119ms/step - loss: 0.4195 - accuracy: 0.8997 - val_loss: 0.2060 - val_accuracy: 0.9832\n",
      "Epoch 2/1000\n",
      "284/284 [==============================] - ETA: 0s - loss: 0.2646 - accuracy: 0.9322"
     ]
    },
    {
     "name": "stderr",
     "output_type": "stream",
     "text": [
      "WARNING:absl:Found untraced functions such as lstm_cell_2_layer_call_fn, lstm_cell_2_layer_call_and_return_conditional_losses while saving (showing 2 of 2). These functions will not be directly callable after loading.\n"
     ]
    },
    {
     "name": "stdout",
     "output_type": "stream",
     "text": [
      "INFO:tensorflow:Assets written to: model1_redone_with_early_stopping\\assets\n"
     ]
    },
    {
     "name": "stderr",
     "output_type": "stream",
     "text": [
      "INFO:tensorflow:Assets written to: model1_redone_with_early_stopping\\assets\n"
     ]
    },
    {
     "name": "stdout",
     "output_type": "stream",
     "text": [
      "284/284 [==============================] - 34s 121ms/step - loss: 0.2646 - accuracy: 0.9322 - val_loss: 0.1307 - val_accuracy: 0.9840\n",
      "Epoch 3/1000\n",
      "284/284 [==============================] - ETA: 0s - loss: 0.2389 - accuracy: 0.9330"
     ]
    },
    {
     "name": "stderr",
     "output_type": "stream",
     "text": [
      "WARNING:absl:Found untraced functions such as lstm_cell_2_layer_call_fn, lstm_cell_2_layer_call_and_return_conditional_losses while saving (showing 2 of 2). These functions will not be directly callable after loading.\n"
     ]
    },
    {
     "name": "stdout",
     "output_type": "stream",
     "text": [
      "INFO:tensorflow:Assets written to: model1_redone_with_early_stopping\\assets\n"
     ]
    },
    {
     "name": "stderr",
     "output_type": "stream",
     "text": [
      "INFO:tensorflow:Assets written to: model1_redone_with_early_stopping\\assets\n"
     ]
    },
    {
     "name": "stdout",
     "output_type": "stream",
     "text": [
      "284/284 [==============================] - 34s 119ms/step - loss: 0.2389 - accuracy: 0.9330 - val_loss: 0.1150 - val_accuracy: 0.9840\n",
      "Epoch 4/1000\n",
      "284/284 [==============================] - ETA: 0s - loss: 0.2304 - accuracy: 0.9332"
     ]
    },
    {
     "name": "stderr",
     "output_type": "stream",
     "text": [
      "WARNING:absl:Found untraced functions such as lstm_cell_2_layer_call_fn, lstm_cell_2_layer_call_and_return_conditional_losses while saving (showing 2 of 2). These functions will not be directly callable after loading.\n"
     ]
    },
    {
     "name": "stdout",
     "output_type": "stream",
     "text": [
      "INFO:tensorflow:Assets written to: model1_redone_with_early_stopping\\assets\n"
     ]
    },
    {
     "name": "stderr",
     "output_type": "stream",
     "text": [
      "INFO:tensorflow:Assets written to: model1_redone_with_early_stopping\\assets\n"
     ]
    },
    {
     "name": "stdout",
     "output_type": "stream",
     "text": [
      "284/284 [==============================] - 35s 122ms/step - loss: 0.2304 - accuracy: 0.9332 - val_loss: 0.1125 - val_accuracy: 0.9840\n",
      "Epoch 5/1000\n",
      "284/284 [==============================] - ETA: 0s - loss: 0.2254 - accuracy: 0.9332"
     ]
    },
    {
     "name": "stderr",
     "output_type": "stream",
     "text": [
      "WARNING:absl:Found untraced functions such as lstm_cell_2_layer_call_fn, lstm_cell_2_layer_call_and_return_conditional_losses while saving (showing 2 of 2). These functions will not be directly callable after loading.\n"
     ]
    },
    {
     "name": "stdout",
     "output_type": "stream",
     "text": [
      "INFO:tensorflow:Assets written to: model1_redone_with_early_stopping\\assets\n"
     ]
    },
    {
     "name": "stderr",
     "output_type": "stream",
     "text": [
      "INFO:tensorflow:Assets written to: model1_redone_with_early_stopping\\assets\n"
     ]
    },
    {
     "name": "stdout",
     "output_type": "stream",
     "text": [
      "284/284 [==============================] - 35s 123ms/step - loss: 0.2254 - accuracy: 0.9332 - val_loss: 0.1088 - val_accuracy: 0.9840\n",
      "Epoch 6/1000\n",
      "284/284 [==============================] - ETA: 0s - loss: 0.2219 - accuracy: 0.9332"
     ]
    },
    {
     "name": "stderr",
     "output_type": "stream",
     "text": [
      "WARNING:absl:Found untraced functions such as lstm_cell_2_layer_call_fn, lstm_cell_2_layer_call_and_return_conditional_losses while saving (showing 2 of 2). These functions will not be directly callable after loading.\n"
     ]
    },
    {
     "name": "stdout",
     "output_type": "stream",
     "text": [
      "INFO:tensorflow:Assets written to: model1_redone_with_early_stopping\\assets\n"
     ]
    },
    {
     "name": "stderr",
     "output_type": "stream",
     "text": [
      "INFO:tensorflow:Assets written to: model1_redone_with_early_stopping\\assets\n"
     ]
    },
    {
     "name": "stdout",
     "output_type": "stream",
     "text": [
      "284/284 [==============================] - 36s 126ms/step - loss: 0.2219 - accuracy: 0.9332 - val_loss: 0.1084 - val_accuracy: 0.9840\n",
      "Epoch 7/1000\n",
      "284/284 [==============================] - 31s 109ms/step - loss: 0.2194 - accuracy: 0.9332 - val_loss: 0.1092 - val_accuracy: 0.9840\n",
      "Epoch 8/1000\n",
      "284/284 [==============================] - 32s 112ms/step - loss: 0.2167 - accuracy: 0.9332 - val_loss: 0.1112 - val_accuracy: 0.9840\n",
      "Epoch 9/1000\n",
      "284/284 [==============================] - 32s 112ms/step - loss: 0.2137 - accuracy: 0.9332 - val_loss: 0.1159 - val_accuracy: 0.9840\n",
      "Epoch 10/1000\n",
      "284/284 [==============================] - 31s 111ms/step - loss: 0.2113 - accuracy: 0.9333 - val_loss: 0.1160 - val_accuracy: 0.9840\n",
      "Epoch 11/1000\n",
      "284/284 [==============================] - 32s 112ms/step - loss: 0.2092 - accuracy: 0.9333 - val_loss: 0.1179 - val_accuracy: 0.9840\n",
      "Epoch 12/1000\n",
      "284/284 [==============================] - 32s 113ms/step - loss: 0.2072 - accuracy: 0.9333 - val_loss: 0.1178 - val_accuracy: 0.9840\n",
      "Epoch 13/1000\n",
      "284/284 [==============================] - 32s 111ms/step - loss: 0.2050 - accuracy: 0.9333 - val_loss: 0.1187 - val_accuracy: 0.9840\n",
      "Epoch 14/1000\n",
      "284/284 [==============================] - 32s 113ms/step - loss: 0.2030 - accuracy: 0.9333 - val_loss: 0.1171 - val_accuracy: 0.9840\n",
      "Epoch 15/1000\n",
      "284/284 [==============================] - 32s 112ms/step - loss: 0.2011 - accuracy: 0.9333 - val_loss: 0.1209 - val_accuracy: 0.9840\n",
      "Epoch 16/1000\n",
      "284/284 [==============================] - 32s 112ms/step - loss: 0.1993 - accuracy: 0.9333 - val_loss: 0.1219 - val_accuracy: 0.9840\n",
      "Epoch 17/1000\n",
      "284/284 [==============================] - 32s 113ms/step - loss: 0.1976 - accuracy: 0.9333 - val_loss: 0.1218 - val_accuracy: 0.9840\n",
      "Epoch 18/1000\n",
      "284/284 [==============================] - 32s 111ms/step - loss: 0.1959 - accuracy: 0.9333 - val_loss: 0.1254 - val_accuracy: 0.9840\n",
      "Epoch 19/1000\n",
      "284/284 [==============================] - 32s 112ms/step - loss: 0.1945 - accuracy: 0.9333 - val_loss: 0.1304 - val_accuracy: 0.9840\n",
      "Epoch 20/1000\n",
      "284/284 [==============================] - 32s 111ms/step - loss: 0.1929 - accuracy: 0.9334 - val_loss: 0.1278 - val_accuracy: 0.9840\n",
      "Epoch 21/1000\n",
      "284/284 [==============================] - 31s 111ms/step - loss: 0.1911 - accuracy: 0.9334 - val_loss: 0.1291 - val_accuracy: 0.9840\n",
      "Epoch 22/1000\n",
      "284/284 [==============================] - 31s 110ms/step - loss: 0.1896 - accuracy: 0.9334 - val_loss: 0.1309 - val_accuracy: 0.9840\n",
      "Epoch 23/1000\n",
      "284/284 [==============================] - 34s 119ms/step - loss: 0.1881 - accuracy: 0.9335 - val_loss: 0.1230 - val_accuracy: 0.9841\n",
      "Epoch 24/1000\n",
      "284/284 [==============================] - 33s 117ms/step - loss: 0.1869 - accuracy: 0.9340 - val_loss: 0.1340 - val_accuracy: 0.9841\n",
      "Epoch 25/1000\n",
      "284/284 [==============================] - 33s 116ms/step - loss: 0.1853 - accuracy: 0.9352 - val_loss: 0.1381 - val_accuracy: 0.9842\n",
      "Epoch 26/1000\n",
      "284/284 [==============================] - 34s 120ms/step - loss: 0.1839 - accuracy: 0.9356 - val_loss: 0.1325 - val_accuracy: 0.9842\n",
      "Epoch 27/1000\n",
      "284/284 [==============================] - 34s 119ms/step - loss: 0.1824 - accuracy: 0.9360 - val_loss: 0.1377 - val_accuracy: 0.9841\n",
      "Epoch 28/1000\n",
      "284/284 [==============================] - 33s 115ms/step - loss: 0.1810 - accuracy: 0.9360 - val_loss: 0.1410 - val_accuracy: 0.9841\n",
      "Epoch 29/1000\n",
      "284/284 [==============================] - 34s 119ms/step - loss: 0.1797 - accuracy: 0.9363 - val_loss: 0.1400 - val_accuracy: 0.9840\n",
      "Epoch 30/1000\n",
      "284/284 [==============================] - 33s 115ms/step - loss: 0.1782 - accuracy: 0.9360 - val_loss: 0.1392 - val_accuracy: 0.9840\n",
      "Epoch 31/1000\n",
      "284/284 [==============================] - 33s 117ms/step - loss: 0.1765 - accuracy: 0.9367 - val_loss: 0.1376 - val_accuracy: 0.9840\n",
      "Epoch 32/1000\n",
      "284/284 [==============================] - 33s 116ms/step - loss: 0.1750 - accuracy: 0.9373 - val_loss: 0.1411 - val_accuracy: 0.9839\n",
      "Epoch 33/1000\n",
      "284/284 [==============================] - 35s 125ms/step - loss: 0.1727 - accuracy: 0.9375 - val_loss: 0.1485 - val_accuracy: 0.9820\n",
      "Epoch 34/1000\n",
      "284/284 [==============================] - 34s 118ms/step - loss: 0.1699 - accuracy: 0.9382 - val_loss: 0.1514 - val_accuracy: 0.9798\n",
      "Epoch 35/1000\n",
      "284/284 [==============================] - 34s 120ms/step - loss: 0.1658 - accuracy: 0.9386 - val_loss: 0.1486 - val_accuracy: 0.9789\n",
      "Epoch 36/1000\n",
      "284/284 [==============================] - 35s 122ms/step - loss: 0.1621 - accuracy: 0.9400 - val_loss: 0.1558 - val_accuracy: 0.9776\n",
      "Epoch 37/1000\n",
      "284/284 [==============================] - 34s 120ms/step - loss: 0.1593 - accuracy: 0.9412 - val_loss: 0.1505 - val_accuracy: 0.9797\n",
      "Epoch 38/1000\n",
      "284/284 [==============================] - 34s 119ms/step - loss: 0.1562 - accuracy: 0.9422 - val_loss: 0.1396 - val_accuracy: 0.9819\n",
      "Epoch 39/1000\n",
      "284/284 [==============================] - 34s 118ms/step - loss: 0.1520 - accuracy: 0.9436 - val_loss: 0.1563 - val_accuracy: 0.9774\n",
      "Epoch 40/1000\n",
      "284/284 [==============================] - 34s 119ms/step - loss: 0.1454 - accuracy: 0.9473 - val_loss: 0.1525 - val_accuracy: 0.9767\n",
      "Epoch 41/1000\n",
      "284/284 [==============================] - 34s 120ms/step - loss: 0.1386 - accuracy: 0.9498 - val_loss: 0.1408 - val_accuracy: 0.9772\n",
      "Epoch 42/1000\n",
      "284/284 [==============================] - 33s 116ms/step - loss: 0.1324 - accuracy: 0.9518 - val_loss: 0.1393 - val_accuracy: 0.9780\n",
      "Epoch 43/1000\n",
      "284/284 [==============================] - 33s 117ms/step - loss: 0.1251 - accuracy: 0.9553 - val_loss: 0.1313 - val_accuracy: 0.9780\n",
      "Epoch 44/1000\n",
      "284/284 [==============================] - 33s 116ms/step - loss: 0.1172 - accuracy: 0.9585 - val_loss: 0.1570 - val_accuracy: 0.9746\n",
      "Epoch 45/1000\n",
      "284/284 [==============================] - 32s 114ms/step - loss: 0.1118 - accuracy: 0.9612 - val_loss: 0.1418 - val_accuracy: 0.9762\n",
      "Epoch 46/1000\n",
      "284/284 [==============================] - 32s 111ms/step - loss: 0.1051 - accuracy: 0.9639 - val_loss: 0.1293 - val_accuracy: 0.9742\n",
      "Epoch 47/1000\n",
      "284/284 [==============================] - 32s 112ms/step - loss: 0.0991 - accuracy: 0.9666 - val_loss: 0.1299 - val_accuracy: 0.9749\n",
      "Epoch 48/1000\n",
      "284/284 [==============================] - 33s 116ms/step - loss: 0.0919 - accuracy: 0.9696 - val_loss: 0.1184 - val_accuracy: 0.9796\n",
      "Epoch 49/1000\n",
      "284/284 [==============================] - ETA: 0s - loss: 0.0848 - accuracy: 0.9722"
     ]
    },
    {
     "name": "stderr",
     "output_type": "stream",
     "text": [
      "WARNING:absl:Found untraced functions such as lstm_cell_2_layer_call_fn, lstm_cell_2_layer_call_and_return_conditional_losses while saving (showing 2 of 2). These functions will not be directly callable after loading.\n"
     ]
    },
    {
     "name": "stdout",
     "output_type": "stream",
     "text": [
      "INFO:tensorflow:Assets written to: model1_redone_with_early_stopping\\assets\n"
     ]
    },
    {
     "name": "stderr",
     "output_type": "stream",
     "text": [
      "INFO:tensorflow:Assets written to: model1_redone_with_early_stopping\\assets\n"
     ]
    },
    {
     "name": "stdout",
     "output_type": "stream",
     "text": [
      "284/284 [==============================] - 37s 131ms/step - loss: 0.0848 - accuracy: 0.9722 - val_loss: 0.1073 - val_accuracy: 0.9787\n",
      "Epoch 50/1000\n",
      "284/284 [==============================] - ETA: 0s - loss: 0.0785 - accuracy: 0.9747"
     ]
    },
    {
     "name": "stderr",
     "output_type": "stream",
     "text": [
      "WARNING:absl:Found untraced functions such as lstm_cell_2_layer_call_fn, lstm_cell_2_layer_call_and_return_conditional_losses while saving (showing 2 of 2). These functions will not be directly callable after loading.\n"
     ]
    },
    {
     "name": "stdout",
     "output_type": "stream",
     "text": [
      "INFO:tensorflow:Assets written to: model1_redone_with_early_stopping\\assets\n"
     ]
    },
    {
     "name": "stderr",
     "output_type": "stream",
     "text": [
      "INFO:tensorflow:Assets written to: model1_redone_with_early_stopping\\assets\n"
     ]
    },
    {
     "name": "stdout",
     "output_type": "stream",
     "text": [
      "284/284 [==============================] - 36s 128ms/step - loss: 0.0785 - accuracy: 0.9747 - val_loss: 0.0971 - val_accuracy: 0.9834\n",
      "Epoch 51/1000\n",
      "284/284 [==============================] - 33s 115ms/step - loss: 0.0721 - accuracy: 0.9772 - val_loss: 0.0991 - val_accuracy: 0.9827\n",
      "Epoch 52/1000\n",
      "284/284 [==============================] - ETA: 0s - loss: 0.0656 - accuracy: 0.9797"
     ]
    },
    {
     "name": "stderr",
     "output_type": "stream",
     "text": [
      "WARNING:absl:Found untraced functions such as lstm_cell_2_layer_call_fn, lstm_cell_2_layer_call_and_return_conditional_losses while saving (showing 2 of 2). These functions will not be directly callable after loading.\n"
     ]
    },
    {
     "name": "stdout",
     "output_type": "stream",
     "text": [
      "INFO:tensorflow:Assets written to: model1_redone_with_early_stopping\\assets\n"
     ]
    },
    {
     "name": "stderr",
     "output_type": "stream",
     "text": [
      "INFO:tensorflow:Assets written to: model1_redone_with_early_stopping\\assets\n"
     ]
    },
    {
     "name": "stdout",
     "output_type": "stream",
     "text": [
      "284/284 [==============================] - 37s 131ms/step - loss: 0.0656 - accuracy: 0.9797 - val_loss: 0.0843 - val_accuracy: 0.9836\n",
      "Epoch 53/1000\n",
      "284/284 [==============================] - ETA: 0s - loss: 0.0590 - accuracy: 0.9820"
     ]
    },
    {
     "name": "stderr",
     "output_type": "stream",
     "text": [
      "WARNING:absl:Found untraced functions such as lstm_cell_2_layer_call_fn, lstm_cell_2_layer_call_and_return_conditional_losses while saving (showing 2 of 2). These functions will not be directly callable after loading.\n"
     ]
    },
    {
     "name": "stdout",
     "output_type": "stream",
     "text": [
      "INFO:tensorflow:Assets written to: model1_redone_with_early_stopping\\assets\n"
     ]
    },
    {
     "name": "stderr",
     "output_type": "stream",
     "text": [
      "INFO:tensorflow:Assets written to: model1_redone_with_early_stopping\\assets\n"
     ]
    },
    {
     "name": "stdout",
     "output_type": "stream",
     "text": [
      "284/284 [==============================] - 37s 131ms/step - loss: 0.0590 - accuracy: 0.9820 - val_loss: 0.0733 - val_accuracy: 0.9845\n",
      "Epoch 54/1000\n",
      "284/284 [==============================] - 33s 115ms/step - loss: 0.0515 - accuracy: 0.9845 - val_loss: 0.0881 - val_accuracy: 0.9822\n",
      "Epoch 55/1000\n",
      "284/284 [==============================] - ETA: 0s - loss: 0.0452 - accuracy: 0.9868"
     ]
    },
    {
     "name": "stderr",
     "output_type": "stream",
     "text": [
      "WARNING:absl:Found untraced functions such as lstm_cell_2_layer_call_fn, lstm_cell_2_layer_call_and_return_conditional_losses while saving (showing 2 of 2). These functions will not be directly callable after loading.\n"
     ]
    },
    {
     "name": "stdout",
     "output_type": "stream",
     "text": [
      "INFO:tensorflow:Assets written to: model1_redone_with_early_stopping\\assets\n"
     ]
    },
    {
     "name": "stderr",
     "output_type": "stream",
     "text": [
      "INFO:tensorflow:Assets written to: model1_redone_with_early_stopping\\assets\n"
     ]
    },
    {
     "name": "stdout",
     "output_type": "stream",
     "text": [
      "284/284 [==============================] - 36s 128ms/step - loss: 0.0452 - accuracy: 0.9868 - val_loss: 0.0593 - val_accuracy: 0.9873\n",
      "Epoch 56/1000\n",
      "284/284 [==============================] - ETA: 0s - loss: 0.0397 - accuracy: 0.9887"
     ]
    },
    {
     "name": "stderr",
     "output_type": "stream",
     "text": [
      "WARNING:absl:Found untraced functions such as lstm_cell_2_layer_call_fn, lstm_cell_2_layer_call_and_return_conditional_losses while saving (showing 2 of 2). These functions will not be directly callable after loading.\n"
     ]
    },
    {
     "name": "stdout",
     "output_type": "stream",
     "text": [
      "INFO:tensorflow:Assets written to: model1_redone_with_early_stopping\\assets\n"
     ]
    },
    {
     "name": "stderr",
     "output_type": "stream",
     "text": [
      "INFO:tensorflow:Assets written to: model1_redone_with_early_stopping\\assets\n"
     ]
    },
    {
     "name": "stdout",
     "output_type": "stream",
     "text": [
      "284/284 [==============================] - 36s 127ms/step - loss: 0.0397 - accuracy: 0.9887 - val_loss: 0.0458 - val_accuracy: 0.9876\n",
      "Epoch 57/1000\n",
      "284/284 [==============================] - ETA: 0s - loss: 0.0348 - accuracy: 0.9904"
     ]
    },
    {
     "name": "stderr",
     "output_type": "stream",
     "text": [
      "WARNING:absl:Found untraced functions such as lstm_cell_2_layer_call_fn, lstm_cell_2_layer_call_and_return_conditional_losses while saving (showing 2 of 2). These functions will not be directly callable after loading.\n"
     ]
    },
    {
     "name": "stdout",
     "output_type": "stream",
     "text": [
      "INFO:tensorflow:Assets written to: model1_redone_with_early_stopping\\assets\n"
     ]
    },
    {
     "name": "stderr",
     "output_type": "stream",
     "text": [
      "INFO:tensorflow:Assets written to: model1_redone_with_early_stopping\\assets\n"
     ]
    },
    {
     "name": "stdout",
     "output_type": "stream",
     "text": [
      "284/284 [==============================] - 37s 132ms/step - loss: 0.0348 - accuracy: 0.9904 - val_loss: 0.0406 - val_accuracy: 0.9890\n",
      "Epoch 58/1000\n",
      "284/284 [==============================] - 33s 117ms/step - loss: 0.0306 - accuracy: 0.9916 - val_loss: 0.0415 - val_accuracy: 0.9905\n",
      "Epoch 59/1000\n",
      "284/284 [==============================] - ETA: 0s - loss: 0.0267 - accuracy: 0.9929"
     ]
    },
    {
     "name": "stderr",
     "output_type": "stream",
     "text": [
      "WARNING:absl:Found untraced functions such as lstm_cell_2_layer_call_fn, lstm_cell_2_layer_call_and_return_conditional_losses while saving (showing 2 of 2). These functions will not be directly callable after loading.\n"
     ]
    },
    {
     "name": "stdout",
     "output_type": "stream",
     "text": [
      "INFO:tensorflow:Assets written to: model1_redone_with_early_stopping\\assets\n"
     ]
    },
    {
     "name": "stderr",
     "output_type": "stream",
     "text": [
      "INFO:tensorflow:Assets written to: model1_redone_with_early_stopping\\assets\n"
     ]
    },
    {
     "name": "stdout",
     "output_type": "stream",
     "text": [
      "284/284 [==============================] - 37s 130ms/step - loss: 0.0267 - accuracy: 0.9929 - val_loss: 0.0335 - val_accuracy: 0.9910\n",
      "Epoch 60/1000\n",
      "284/284 [==============================] - ETA: 0s - loss: 0.0235 - accuracy: 0.9939"
     ]
    },
    {
     "name": "stderr",
     "output_type": "stream",
     "text": [
      "WARNING:absl:Found untraced functions such as lstm_cell_2_layer_call_fn, lstm_cell_2_layer_call_and_return_conditional_losses while saving (showing 2 of 2). These functions will not be directly callable after loading.\n"
     ]
    },
    {
     "name": "stdout",
     "output_type": "stream",
     "text": [
      "INFO:tensorflow:Assets written to: model1_redone_with_early_stopping\\assets\n"
     ]
    },
    {
     "name": "stderr",
     "output_type": "stream",
     "text": [
      "INFO:tensorflow:Assets written to: model1_redone_with_early_stopping\\assets\n"
     ]
    },
    {
     "name": "stdout",
     "output_type": "stream",
     "text": [
      "284/284 [==============================] - 38s 132ms/step - loss: 0.0235 - accuracy: 0.9939 - val_loss: 0.0285 - val_accuracy: 0.9926\n",
      "Epoch 61/1000\n",
      "284/284 [==============================] - ETA: 0s - loss: 0.0207 - accuracy: 0.9949"
     ]
    },
    {
     "name": "stderr",
     "output_type": "stream",
     "text": [
      "WARNING:absl:Found untraced functions such as lstm_cell_2_layer_call_fn, lstm_cell_2_layer_call_and_return_conditional_losses while saving (showing 2 of 2). These functions will not be directly callable after loading.\n"
     ]
    },
    {
     "name": "stdout",
     "output_type": "stream",
     "text": [
      "INFO:tensorflow:Assets written to: model1_redone_with_early_stopping\\assets\n"
     ]
    },
    {
     "name": "stderr",
     "output_type": "stream",
     "text": [
      "INFO:tensorflow:Assets written to: model1_redone_with_early_stopping\\assets\n"
     ]
    },
    {
     "name": "stdout",
     "output_type": "stream",
     "text": [
      "284/284 [==============================] - 36s 128ms/step - loss: 0.0207 - accuracy: 0.9949 - val_loss: 0.0237 - val_accuracy: 0.9939\n",
      "Epoch 62/1000\n",
      "284/284 [==============================] - ETA: 0s - loss: 0.0187 - accuracy: 0.9955"
     ]
    },
    {
     "name": "stderr",
     "output_type": "stream",
     "text": [
      "WARNING:absl:Found untraced functions such as lstm_cell_2_layer_call_fn, lstm_cell_2_layer_call_and_return_conditional_losses while saving (showing 2 of 2). These functions will not be directly callable after loading.\n"
     ]
    },
    {
     "name": "stdout",
     "output_type": "stream",
     "text": [
      "INFO:tensorflow:Assets written to: model1_redone_with_early_stopping\\assets\n"
     ]
    },
    {
     "name": "stderr",
     "output_type": "stream",
     "text": [
      "INFO:tensorflow:Assets written to: model1_redone_with_early_stopping\\assets\n"
     ]
    },
    {
     "name": "stdout",
     "output_type": "stream",
     "text": [
      "284/284 [==============================] - 37s 129ms/step - loss: 0.0187 - accuracy: 0.9955 - val_loss: 0.0208 - val_accuracy: 0.9933\n",
      "Epoch 63/1000\n",
      "284/284 [==============================] - ETA: 0s - loss: 0.0163 - accuracy: 0.9963"
     ]
    },
    {
     "name": "stderr",
     "output_type": "stream",
     "text": [
      "WARNING:absl:Found untraced functions such as lstm_cell_2_layer_call_fn, lstm_cell_2_layer_call_and_return_conditional_losses while saving (showing 2 of 2). These functions will not be directly callable after loading.\n"
     ]
    },
    {
     "name": "stdout",
     "output_type": "stream",
     "text": [
      "INFO:tensorflow:Assets written to: model1_redone_with_early_stopping\\assets\n"
     ]
    },
    {
     "name": "stderr",
     "output_type": "stream",
     "text": [
      "INFO:tensorflow:Assets written to: model1_redone_with_early_stopping\\assets\n"
     ]
    },
    {
     "name": "stdout",
     "output_type": "stream",
     "text": [
      "284/284 [==============================] - 38s 134ms/step - loss: 0.0163 - accuracy: 0.9963 - val_loss: 0.0186 - val_accuracy: 0.9942\n",
      "Epoch 64/1000\n",
      "284/284 [==============================] - 33s 116ms/step - loss: 0.0146 - accuracy: 0.9968 - val_loss: 0.0231 - val_accuracy: 0.9954\n",
      "Epoch 65/1000\n",
      "284/284 [==============================] - ETA: 0s - loss: 0.0133 - accuracy: 0.9970"
     ]
    },
    {
     "name": "stderr",
     "output_type": "stream",
     "text": [
      "WARNING:absl:Found untraced functions such as lstm_cell_2_layer_call_fn, lstm_cell_2_layer_call_and_return_conditional_losses while saving (showing 2 of 2). These functions will not be directly callable after loading.\n"
     ]
    },
    {
     "name": "stdout",
     "output_type": "stream",
     "text": [
      "INFO:tensorflow:Assets written to: model1_redone_with_early_stopping\\assets\n"
     ]
    },
    {
     "name": "stderr",
     "output_type": "stream",
     "text": [
      "INFO:tensorflow:Assets written to: model1_redone_with_early_stopping\\assets\n"
     ]
    },
    {
     "name": "stdout",
     "output_type": "stream",
     "text": [
      "284/284 [==============================] - 37s 129ms/step - loss: 0.0133 - accuracy: 0.9970 - val_loss: 0.0156 - val_accuracy: 0.9955\n",
      "Epoch 66/1000\n",
      "284/284 [==============================] - ETA: 0s - loss: 0.0122 - accuracy: 0.9972"
     ]
    },
    {
     "name": "stderr",
     "output_type": "stream",
     "text": [
      "WARNING:absl:Found untraced functions such as lstm_cell_2_layer_call_fn, lstm_cell_2_layer_call_and_return_conditional_losses while saving (showing 2 of 2). These functions will not be directly callable after loading.\n"
     ]
    },
    {
     "name": "stdout",
     "output_type": "stream",
     "text": [
      "INFO:tensorflow:Assets written to: model1_redone_with_early_stopping\\assets\n"
     ]
    },
    {
     "name": "stderr",
     "output_type": "stream",
     "text": [
      "INFO:tensorflow:Assets written to: model1_redone_with_early_stopping\\assets\n"
     ]
    },
    {
     "name": "stdout",
     "output_type": "stream",
     "text": [
      "284/284 [==============================] - 37s 129ms/step - loss: 0.0122 - accuracy: 0.9972 - val_loss: 0.0134 - val_accuracy: 0.9957\n",
      "Epoch 67/1000\n",
      "284/284 [==============================] - ETA: 0s - loss: 0.0110 - accuracy: 0.9976"
     ]
    },
    {
     "name": "stderr",
     "output_type": "stream",
     "text": [
      "WARNING:absl:Found untraced functions such as lstm_cell_2_layer_call_fn, lstm_cell_2_layer_call_and_return_conditional_losses while saving (showing 2 of 2). These functions will not be directly callable after loading.\n"
     ]
    },
    {
     "name": "stdout",
     "output_type": "stream",
     "text": [
      "INFO:tensorflow:Assets written to: model1_redone_with_early_stopping\\assets\n"
     ]
    },
    {
     "name": "stderr",
     "output_type": "stream",
     "text": [
      "INFO:tensorflow:Assets written to: model1_redone_with_early_stopping\\assets\n"
     ]
    },
    {
     "name": "stdout",
     "output_type": "stream",
     "text": [
      "284/284 [==============================] - 37s 131ms/step - loss: 0.0110 - accuracy: 0.9976 - val_loss: 0.0122 - val_accuracy: 0.9968\n",
      "Epoch 68/1000\n",
      "284/284 [==============================] - ETA: 0s - loss: 0.0102 - accuracy: 0.9976"
     ]
    },
    {
     "name": "stderr",
     "output_type": "stream",
     "text": [
      "WARNING:absl:Found untraced functions such as lstm_cell_2_layer_call_fn, lstm_cell_2_layer_call_and_return_conditional_losses while saving (showing 2 of 2). These functions will not be directly callable after loading.\n"
     ]
    },
    {
     "name": "stdout",
     "output_type": "stream",
     "text": [
      "INFO:tensorflow:Assets written to: model1_redone_with_early_stopping\\assets\n"
     ]
    },
    {
     "name": "stderr",
     "output_type": "stream",
     "text": [
      "INFO:tensorflow:Assets written to: model1_redone_with_early_stopping\\assets\n"
     ]
    },
    {
     "name": "stdout",
     "output_type": "stream",
     "text": [
      "284/284 [==============================] - 37s 131ms/step - loss: 0.0102 - accuracy: 0.9976 - val_loss: 0.0114 - val_accuracy: 0.9958\n",
      "Epoch 69/1000\n",
      "284/284 [==============================] - ETA: 0s - loss: 0.0094 - accuracy: 0.9979"
     ]
    },
    {
     "name": "stderr",
     "output_type": "stream",
     "text": [
      "WARNING:absl:Found untraced functions such as lstm_cell_2_layer_call_fn, lstm_cell_2_layer_call_and_return_conditional_losses while saving (showing 2 of 2). These functions will not be directly callable after loading.\n"
     ]
    },
    {
     "name": "stdout",
     "output_type": "stream",
     "text": [
      "INFO:tensorflow:Assets written to: model1_redone_with_early_stopping\\assets\n"
     ]
    },
    {
     "name": "stderr",
     "output_type": "stream",
     "text": [
      "INFO:tensorflow:Assets written to: model1_redone_with_early_stopping\\assets\n"
     ]
    },
    {
     "name": "stdout",
     "output_type": "stream",
     "text": [
      "284/284 [==============================] - 37s 131ms/step - loss: 0.0094 - accuracy: 0.9979 - val_loss: 0.0100 - val_accuracy: 0.9969\n",
      "Epoch 70/1000\n",
      "284/284 [==============================] - 34s 119ms/step - loss: 0.0088 - accuracy: 0.9980 - val_loss: 0.0102 - val_accuracy: 0.9964\n",
      "Epoch 71/1000\n",
      "284/284 [==============================] - ETA: 0s - loss: 0.0081 - accuracy: 0.9981"
     ]
    },
    {
     "name": "stderr",
     "output_type": "stream",
     "text": [
      "WARNING:absl:Found untraced functions such as lstm_cell_2_layer_call_fn, lstm_cell_2_layer_call_and_return_conditional_losses while saving (showing 2 of 2). These functions will not be directly callable after loading.\n"
     ]
    },
    {
     "name": "stdout",
     "output_type": "stream",
     "text": [
      "INFO:tensorflow:Assets written to: model1_redone_with_early_stopping\\assets\n"
     ]
    },
    {
     "name": "stderr",
     "output_type": "stream",
     "text": [
      "INFO:tensorflow:Assets written to: model1_redone_with_early_stopping\\assets\n"
     ]
    },
    {
     "name": "stdout",
     "output_type": "stream",
     "text": [
      "284/284 [==============================] - 36s 128ms/step - loss: 0.0081 - accuracy: 0.9981 - val_loss: 0.0093 - val_accuracy: 0.9974\n",
      "Epoch 72/1000\n",
      "284/284 [==============================] - ETA: 0s - loss: 0.0079 - accuracy: 0.9981"
     ]
    },
    {
     "name": "stderr",
     "output_type": "stream",
     "text": [
      "WARNING:absl:Found untraced functions such as lstm_cell_2_layer_call_fn, lstm_cell_2_layer_call_and_return_conditional_losses while saving (showing 2 of 2). These functions will not be directly callable after loading.\n"
     ]
    },
    {
     "name": "stdout",
     "output_type": "stream",
     "text": [
      "INFO:tensorflow:Assets written to: model1_redone_with_early_stopping\\assets\n"
     ]
    },
    {
     "name": "stderr",
     "output_type": "stream",
     "text": [
      "INFO:tensorflow:Assets written to: model1_redone_with_early_stopping\\assets\n"
     ]
    },
    {
     "name": "stdout",
     "output_type": "stream",
     "text": [
      "284/284 [==============================] - 37s 132ms/step - loss: 0.0079 - accuracy: 0.9981 - val_loss: 0.0093 - val_accuracy: 0.9971\n",
      "Epoch 73/1000\n",
      "284/284 [==============================] - ETA: 0s - loss: 0.0072 - accuracy: 0.9984"
     ]
    },
    {
     "name": "stderr",
     "output_type": "stream",
     "text": [
      "WARNING:absl:Found untraced functions such as lstm_cell_2_layer_call_fn, lstm_cell_2_layer_call_and_return_conditional_losses while saving (showing 2 of 2). These functions will not be directly callable after loading.\n"
     ]
    },
    {
     "name": "stdout",
     "output_type": "stream",
     "text": [
      "INFO:tensorflow:Assets written to: model1_redone_with_early_stopping\\assets\n"
     ]
    },
    {
     "name": "stderr",
     "output_type": "stream",
     "text": [
      "INFO:tensorflow:Assets written to: model1_redone_with_early_stopping\\assets\n"
     ]
    },
    {
     "name": "stdout",
     "output_type": "stream",
     "text": [
      "284/284 [==============================] - 36s 128ms/step - loss: 0.0072 - accuracy: 0.9984 - val_loss: 0.0081 - val_accuracy: 0.9974\n",
      "Epoch 74/1000\n",
      "284/284 [==============================] - 32s 114ms/step - loss: 0.0072 - accuracy: 0.9984 - val_loss: 0.0081 - val_accuracy: 0.9972\n",
      "Epoch 75/1000\n",
      "284/284 [==============================] - ETA: 0s - loss: 0.0068 - accuracy: 0.9983"
     ]
    },
    {
     "name": "stderr",
     "output_type": "stream",
     "text": [
      "WARNING:absl:Found untraced functions such as lstm_cell_2_layer_call_fn, lstm_cell_2_layer_call_and_return_conditional_losses while saving (showing 2 of 2). These functions will not be directly callable after loading.\n"
     ]
    },
    {
     "name": "stdout",
     "output_type": "stream",
     "text": [
      "INFO:tensorflow:Assets written to: model1_redone_with_early_stopping\\assets\n"
     ]
    },
    {
     "name": "stderr",
     "output_type": "stream",
     "text": [
      "INFO:tensorflow:Assets written to: model1_redone_with_early_stopping\\assets\n"
     ]
    },
    {
     "name": "stdout",
     "output_type": "stream",
     "text": [
      "284/284 [==============================] - 37s 130ms/step - loss: 0.0068 - accuracy: 0.9983 - val_loss: 0.0075 - val_accuracy: 0.9982\n",
      "Epoch 76/1000\n",
      "284/284 [==============================] - 33s 116ms/step - loss: 0.0066 - accuracy: 0.9984 - val_loss: 0.0078 - val_accuracy: 0.9982\n",
      "Epoch 77/1000\n",
      "284/284 [==============================] - ETA: 0s - loss: 0.0066 - accuracy: 0.9984"
     ]
    },
    {
     "name": "stderr",
     "output_type": "stream",
     "text": [
      "WARNING:absl:Found untraced functions such as lstm_cell_2_layer_call_fn, lstm_cell_2_layer_call_and_return_conditional_losses while saving (showing 2 of 2). These functions will not be directly callable after loading.\n"
     ]
    },
    {
     "name": "stdout",
     "output_type": "stream",
     "text": [
      "INFO:tensorflow:Assets written to: model1_redone_with_early_stopping\\assets\n"
     ]
    },
    {
     "name": "stderr",
     "output_type": "stream",
     "text": [
      "INFO:tensorflow:Assets written to: model1_redone_with_early_stopping\\assets\n"
     ]
    },
    {
     "name": "stdout",
     "output_type": "stream",
     "text": [
      "284/284 [==============================] - 36s 128ms/step - loss: 0.0066 - accuracy: 0.9984 - val_loss: 0.0073 - val_accuracy: 0.9979\n",
      "Epoch 78/1000\n",
      "284/284 [==============================] - 33s 117ms/step - loss: 0.0064 - accuracy: 0.9986 - val_loss: 0.0144 - val_accuracy: 0.9957\n",
      "Epoch 79/1000\n",
      "284/284 [==============================] - ETA: 0s - loss: 0.0058 - accuracy: 0.9987"
     ]
    },
    {
     "name": "stderr",
     "output_type": "stream",
     "text": [
      "WARNING:absl:Found untraced functions such as lstm_cell_2_layer_call_fn, lstm_cell_2_layer_call_and_return_conditional_losses while saving (showing 2 of 2). These functions will not be directly callable after loading.\n"
     ]
    },
    {
     "name": "stdout",
     "output_type": "stream",
     "text": [
      "INFO:tensorflow:Assets written to: model1_redone_with_early_stopping\\assets\n"
     ]
    },
    {
     "name": "stderr",
     "output_type": "stream",
     "text": [
      "INFO:tensorflow:Assets written to: model1_redone_with_early_stopping\\assets\n"
     ]
    },
    {
     "name": "stdout",
     "output_type": "stream",
     "text": [
      "284/284 [==============================] - 37s 132ms/step - loss: 0.0058 - accuracy: 0.9987 - val_loss: 0.0064 - val_accuracy: 0.9981\n",
      "Epoch 80/1000\n",
      "284/284 [==============================] - 33s 116ms/step - loss: 0.0056 - accuracy: 0.9987 - val_loss: 0.0072 - val_accuracy: 0.9976\n",
      "Epoch 81/1000\n",
      "284/284 [==============================] - ETA: 0s - loss: 0.0054 - accuracy: 0.9988"
     ]
    },
    {
     "name": "stderr",
     "output_type": "stream",
     "text": [
      "WARNING:absl:Found untraced functions such as lstm_cell_2_layer_call_fn, lstm_cell_2_layer_call_and_return_conditional_losses while saving (showing 2 of 2). These functions will not be directly callable after loading.\n"
     ]
    },
    {
     "name": "stdout",
     "output_type": "stream",
     "text": [
      "INFO:tensorflow:Assets written to: model1_redone_with_early_stopping\\assets\n"
     ]
    },
    {
     "name": "stderr",
     "output_type": "stream",
     "text": [
      "INFO:tensorflow:Assets written to: model1_redone_with_early_stopping\\assets\n"
     ]
    },
    {
     "name": "stdout",
     "output_type": "stream",
     "text": [
      "284/284 [==============================] - 37s 129ms/step - loss: 0.0054 - accuracy: 0.9988 - val_loss: 0.0063 - val_accuracy: 0.9985\n",
      "Epoch 82/1000\n",
      "284/284 [==============================] - ETA: 0s - loss: 0.0052 - accuracy: 0.9988"
     ]
    },
    {
     "name": "stderr",
     "output_type": "stream",
     "text": [
      "WARNING:absl:Found untraced functions such as lstm_cell_2_layer_call_fn, lstm_cell_2_layer_call_and_return_conditional_losses while saving (showing 2 of 2). These functions will not be directly callable after loading.\n"
     ]
    },
    {
     "name": "stdout",
     "output_type": "stream",
     "text": [
      "INFO:tensorflow:Assets written to: model1_redone_with_early_stopping\\assets\n"
     ]
    },
    {
     "name": "stderr",
     "output_type": "stream",
     "text": [
      "INFO:tensorflow:Assets written to: model1_redone_with_early_stopping\\assets\n"
     ]
    },
    {
     "name": "stdout",
     "output_type": "stream",
     "text": [
      "284/284 [==============================] - 37s 130ms/step - loss: 0.0052 - accuracy: 0.9988 - val_loss: 0.0061 - val_accuracy: 0.9986\n",
      "Epoch 83/1000\n",
      "284/284 [==============================] - 33s 115ms/step - loss: 0.0053 - accuracy: 0.9988 - val_loss: 0.0063 - val_accuracy: 0.9985\n",
      "Epoch 84/1000\n",
      "284/284 [==============================] - ETA: 0s - loss: 0.0050 - accuracy: 0.9988"
     ]
    },
    {
     "name": "stderr",
     "output_type": "stream",
     "text": [
      "WARNING:absl:Found untraced functions such as lstm_cell_2_layer_call_fn, lstm_cell_2_layer_call_and_return_conditional_losses while saving (showing 2 of 2). These functions will not be directly callable after loading.\n"
     ]
    },
    {
     "name": "stdout",
     "output_type": "stream",
     "text": [
      "INFO:tensorflow:Assets written to: model1_redone_with_early_stopping\\assets\n"
     ]
    },
    {
     "name": "stderr",
     "output_type": "stream",
     "text": [
      "INFO:tensorflow:Assets written to: model1_redone_with_early_stopping\\assets\n"
     ]
    },
    {
     "name": "stdout",
     "output_type": "stream",
     "text": [
      "284/284 [==============================] - 37s 132ms/step - loss: 0.0050 - accuracy: 0.9988 - val_loss: 0.0058 - val_accuracy: 0.9987\n",
      "Epoch 85/1000\n",
      "284/284 [==============================] - 33s 115ms/step - loss: 0.0051 - accuracy: 0.9989 - val_loss: 0.0070 - val_accuracy: 0.9979\n",
      "Epoch 86/1000\n",
      "284/284 [==============================] - ETA: 0s - loss: 0.0047 - accuracy: 0.9990"
     ]
    },
    {
     "name": "stderr",
     "output_type": "stream",
     "text": [
      "WARNING:absl:Found untraced functions such as lstm_cell_2_layer_call_fn, lstm_cell_2_layer_call_and_return_conditional_losses while saving (showing 2 of 2). These functions will not be directly callable after loading.\n"
     ]
    },
    {
     "name": "stdout",
     "output_type": "stream",
     "text": [
      "INFO:tensorflow:Assets written to: model1_redone_with_early_stopping\\assets\n"
     ]
    },
    {
     "name": "stderr",
     "output_type": "stream",
     "text": [
      "INFO:tensorflow:Assets written to: model1_redone_with_early_stopping\\assets\n"
     ]
    },
    {
     "name": "stdout",
     "output_type": "stream",
     "text": [
      "284/284 [==============================] - 37s 129ms/step - loss: 0.0047 - accuracy: 0.9990 - val_loss: 0.0058 - val_accuracy: 0.9985\n",
      "Epoch 87/1000\n",
      "284/284 [==============================] - 33s 116ms/step - loss: 0.0050 - accuracy: 0.9990 - val_loss: 0.0058 - val_accuracy: 0.9984\n",
      "Epoch 88/1000\n",
      "284/284 [==============================] - ETA: 0s - loss: 0.0047 - accuracy: 0.9989"
     ]
    },
    {
     "name": "stderr",
     "output_type": "stream",
     "text": [
      "WARNING:absl:Found untraced functions such as lstm_cell_2_layer_call_fn, lstm_cell_2_layer_call_and_return_conditional_losses while saving (showing 2 of 2). These functions will not be directly callable after loading.\n"
     ]
    },
    {
     "name": "stdout",
     "output_type": "stream",
     "text": [
      "INFO:tensorflow:Assets written to: model1_redone_with_early_stopping\\assets\n"
     ]
    },
    {
     "name": "stderr",
     "output_type": "stream",
     "text": [
      "INFO:tensorflow:Assets written to: model1_redone_with_early_stopping\\assets\n"
     ]
    },
    {
     "name": "stdout",
     "output_type": "stream",
     "text": [
      "284/284 [==============================] - 38s 132ms/step - loss: 0.0047 - accuracy: 0.9989 - val_loss: 0.0053 - val_accuracy: 0.9986\n",
      "Epoch 89/1000\n",
      "284/284 [==============================] - 34s 119ms/step - loss: 0.0046 - accuracy: 0.9989 - val_loss: 0.0057 - val_accuracy: 0.9987\n",
      "Epoch 90/1000\n",
      "284/284 [==============================] - 35s 123ms/step - loss: 0.0045 - accuracy: 0.9990 - val_loss: 0.0064 - val_accuracy: 0.9983\n",
      "Epoch 91/1000\n",
      "284/284 [==============================] - ETA: 0s - loss: 0.0048 - accuracy: 0.9990"
     ]
    },
    {
     "name": "stderr",
     "output_type": "stream",
     "text": [
      "WARNING:absl:Found untraced functions such as lstm_cell_2_layer_call_fn, lstm_cell_2_layer_call_and_return_conditional_losses while saving (showing 2 of 2). These functions will not be directly callable after loading.\n"
     ]
    },
    {
     "name": "stdout",
     "output_type": "stream",
     "text": [
      "INFO:tensorflow:Assets written to: model1_redone_with_early_stopping\\assets\n"
     ]
    },
    {
     "name": "stderr",
     "output_type": "stream",
     "text": [
      "INFO:tensorflow:Assets written to: model1_redone_with_early_stopping\\assets\n"
     ]
    },
    {
     "name": "stdout",
     "output_type": "stream",
     "text": [
      "284/284 [==============================] - 37s 132ms/step - loss: 0.0048 - accuracy: 0.9990 - val_loss: 0.0051 - val_accuracy: 0.9988\n",
      "Epoch 92/1000\n",
      "284/284 [==============================] - 33s 117ms/step - loss: 0.0047 - accuracy: 0.9990 - val_loss: 0.0055 - val_accuracy: 0.9985\n",
      "Epoch 93/1000\n",
      "284/284 [==============================] - 33s 116ms/step - loss: 0.0041 - accuracy: 0.9991 - val_loss: 0.0059 - val_accuracy: 0.9983\n",
      "Epoch 94/1000\n",
      "284/284 [==============================] - 33s 118ms/step - loss: 0.0042 - accuracy: 0.9990 - val_loss: 0.0054 - val_accuracy: 0.9985\n",
      "Epoch 95/1000\n",
      "284/284 [==============================] - 33s 116ms/step - loss: 0.0043 - accuracy: 0.9991 - val_loss: 0.0053 - val_accuracy: 0.9987\n",
      "Epoch 96/1000\n",
      "284/284 [==============================] - 33s 115ms/step - loss: 0.0041 - accuracy: 0.9991 - val_loss: 0.0074 - val_accuracy: 0.9988\n",
      "Epoch 97/1000\n",
      "284/284 [==============================] - 33s 117ms/step - loss: 0.0041 - accuracy: 0.9991 - val_loss: 0.0066 - val_accuracy: 0.9988\n",
      "Epoch 98/1000\n",
      "284/284 [==============================] - 33s 116ms/step - loss: 0.0040 - accuracy: 0.9990 - val_loss: 0.0059 - val_accuracy: 0.9987\n",
      "Epoch 99/1000\n",
      "284/284 [==============================] - 33s 116ms/step - loss: 0.0048 - accuracy: 0.9988 - val_loss: 0.0087 - val_accuracy: 0.9979\n",
      "Epoch 100/1000\n",
      "284/284 [==============================] - 34s 118ms/step - loss: 0.0045 - accuracy: 0.9989 - val_loss: 0.0054 - val_accuracy: 0.9987\n",
      "Epoch 101/1000\n",
      "284/284 [==============================] - 33s 116ms/step - loss: 0.0041 - accuracy: 0.9990 - val_loss: 0.0052 - val_accuracy: 0.9987\n",
      "Epoch 102/1000\n",
      "284/284 [==============================] - 33s 117ms/step - loss: 0.0039 - accuracy: 0.9992 - val_loss: 0.0057 - val_accuracy: 0.9984\n",
      "Epoch 103/1000\n",
      "284/284 [==============================] - 32s 114ms/step - loss: 0.0039 - accuracy: 0.9992 - val_loss: 0.0075 - val_accuracy: 0.9978\n",
      "Epoch 104/1000\n",
      "284/284 [==============================] - ETA: 0s - loss: 0.0042 - accuracy: 0.9990"
     ]
    },
    {
     "name": "stderr",
     "output_type": "stream",
     "text": [
      "WARNING:absl:Found untraced functions such as lstm_cell_2_layer_call_fn, lstm_cell_2_layer_call_and_return_conditional_losses while saving (showing 2 of 2). These functions will not be directly callable after loading.\n"
     ]
    },
    {
     "name": "stdout",
     "output_type": "stream",
     "text": [
      "INFO:tensorflow:Assets written to: model1_redone_with_early_stopping\\assets\n"
     ]
    },
    {
     "name": "stderr",
     "output_type": "stream",
     "text": [
      "INFO:tensorflow:Assets written to: model1_redone_with_early_stopping\\assets\n"
     ]
    },
    {
     "name": "stdout",
     "output_type": "stream",
     "text": [
      "284/284 [==============================] - 37s 130ms/step - loss: 0.0042 - accuracy: 0.9990 - val_loss: 0.0051 - val_accuracy: 0.9988\n",
      "Epoch 105/1000\n",
      "284/284 [==============================] - 33s 117ms/step - loss: 0.0038 - accuracy: 0.9992 - val_loss: 0.0066 - val_accuracy: 0.9983\n",
      "Epoch 106/1000\n",
      "284/284 [==============================] - 33s 115ms/step - loss: 0.0040 - accuracy: 0.9991 - val_loss: 0.0079 - val_accuracy: 0.9974\n",
      "Epoch 107/1000\n",
      "284/284 [==============================] - 33s 117ms/step - loss: 0.0041 - accuracy: 0.9991 - val_loss: 0.0056 - val_accuracy: 0.9986\n",
      "Epoch 108/1000\n",
      "284/284 [==============================] - 34s 118ms/step - loss: 0.0041 - accuracy: 0.9991 - val_loss: 0.0064 - val_accuracy: 0.9982\n",
      "Epoch 109/1000\n",
      "284/284 [==============================] - 33s 117ms/step - loss: 0.0041 - accuracy: 0.9991 - val_loss: 0.0053 - val_accuracy: 0.9986\n",
      "Epoch 110/1000\n",
      "284/284 [==============================] - ETA: 0s - loss: 0.0036 - accuracy: 0.9993"
     ]
    },
    {
     "name": "stderr",
     "output_type": "stream",
     "text": [
      "WARNING:absl:Found untraced functions such as lstm_cell_2_layer_call_fn, lstm_cell_2_layer_call_and_return_conditional_losses while saving (showing 2 of 2). These functions will not be directly callable after loading.\n"
     ]
    },
    {
     "name": "stdout",
     "output_type": "stream",
     "text": [
      "INFO:tensorflow:Assets written to: model1_redone_with_early_stopping\\assets\n"
     ]
    },
    {
     "name": "stderr",
     "output_type": "stream",
     "text": [
      "INFO:tensorflow:Assets written to: model1_redone_with_early_stopping\\assets\n"
     ]
    },
    {
     "name": "stdout",
     "output_type": "stream",
     "text": [
      "284/284 [==============================] - 37s 130ms/step - loss: 0.0036 - accuracy: 0.9993 - val_loss: 0.0051 - val_accuracy: 0.9987\n",
      "Epoch 111/1000\n",
      "284/284 [==============================] - ETA: 0s - loss: 0.0037 - accuracy: 0.9992"
     ]
    },
    {
     "name": "stderr",
     "output_type": "stream",
     "text": [
      "WARNING:absl:Found untraced functions such as lstm_cell_2_layer_call_fn, lstm_cell_2_layer_call_and_return_conditional_losses while saving (showing 2 of 2). These functions will not be directly callable after loading.\n"
     ]
    },
    {
     "name": "stdout",
     "output_type": "stream",
     "text": [
      "INFO:tensorflow:Assets written to: model1_redone_with_early_stopping\\assets\n"
     ]
    },
    {
     "name": "stderr",
     "output_type": "stream",
     "text": [
      "INFO:tensorflow:Assets written to: model1_redone_with_early_stopping\\assets\n"
     ]
    },
    {
     "name": "stdout",
     "output_type": "stream",
     "text": [
      "284/284 [==============================] - 36s 127ms/step - loss: 0.0037 - accuracy: 0.9992 - val_loss: 0.0051 - val_accuracy: 0.9989\n",
      "Epoch 112/1000\n",
      "284/284 [==============================] - 34s 119ms/step - loss: 0.0038 - accuracy: 0.9992 - val_loss: 0.0052 - val_accuracy: 0.9988\n",
      "Epoch 113/1000\n",
      "284/284 [==============================] - 33s 118ms/step - loss: 0.0036 - accuracy: 0.9993 - val_loss: 0.0052 - val_accuracy: 0.9987\n",
      "Epoch 114/1000\n",
      "284/284 [==============================] - 33s 118ms/step - loss: 0.0036 - accuracy: 0.9992 - val_loss: 0.0057 - val_accuracy: 0.9986\n",
      "Epoch 115/1000\n",
      "284/284 [==============================] - 33s 118ms/step - loss: 0.0037 - accuracy: 0.9992 - val_loss: 0.0060 - val_accuracy: 0.9986\n",
      "Epoch 116/1000\n",
      "284/284 [==============================] - 33s 117ms/step - loss: 0.0039 - accuracy: 0.9991 - val_loss: 0.0061 - val_accuracy: 0.9982\n",
      "Epoch 117/1000\n",
      "284/284 [==============================] - 33s 117ms/step - loss: 0.0036 - accuracy: 0.9992 - val_loss: 0.0056 - val_accuracy: 0.9986\n",
      "Epoch 118/1000\n",
      "284/284 [==============================] - 33s 116ms/step - loss: 0.0033 - accuracy: 0.9993 - val_loss: 0.0055 - val_accuracy: 0.9984\n",
      "Epoch 119/1000\n",
      "284/284 [==============================] - 34s 118ms/step - loss: 0.0037 - accuracy: 0.9992 - val_loss: 0.0068 - val_accuracy: 0.9982\n",
      "Epoch 120/1000\n",
      "284/284 [==============================] - 33s 116ms/step - loss: 0.0035 - accuracy: 0.9992 - val_loss: 0.0056 - val_accuracy: 0.9985\n",
      "Epoch 121/1000\n",
      "284/284 [==============================] - 33s 117ms/step - loss: 0.0037 - accuracy: 0.9992 - val_loss: 0.0056 - val_accuracy: 0.9985\n",
      "Epoch 122/1000\n",
      "284/284 [==============================] - 34s 118ms/step - loss: 0.0036 - accuracy: 0.9992 - val_loss: 0.0060 - val_accuracy: 0.9983\n",
      "Epoch 123/1000\n",
      "284/284 [==============================] - 33s 117ms/step - loss: 0.0038 - accuracy: 0.9991 - val_loss: 0.0054 - val_accuracy: 0.9987\n",
      "Epoch 124/1000\n",
      "284/284 [==============================] - 33s 117ms/step - loss: 0.0032 - accuracy: 0.9994 - val_loss: 0.0059 - val_accuracy: 0.9985\n",
      "Epoch 125/1000\n",
      "284/284 [==============================] - 34s 120ms/step - loss: 0.0034 - accuracy: 0.9993 - val_loss: 0.0057 - val_accuracy: 0.9983\n",
      "Epoch 126/1000\n",
      "284/284 [==============================] - 34s 121ms/step - loss: 0.0032 - accuracy: 0.9994 - val_loss: 0.0063 - val_accuracy: 0.9982\n",
      "Epoch 127/1000\n",
      "284/284 [==============================] - 34s 120ms/step - loss: 0.0032 - accuracy: 0.9994 - val_loss: 0.0052 - val_accuracy: 0.9988\n",
      "Epoch 128/1000\n",
      "284/284 [==============================] - 33s 118ms/step - loss: 0.0032 - accuracy: 0.9993 - val_loss: 0.0062 - val_accuracy: 0.9984\n",
      "Epoch 129/1000\n",
      "284/284 [==============================] - 33s 116ms/step - loss: 0.0034 - accuracy: 0.9993 - val_loss: 0.0051 - val_accuracy: 0.9988\n",
      "Epoch 130/1000\n",
      "284/284 [==============================] - 33s 116ms/step - loss: 0.0032 - accuracy: 0.9994 - val_loss: 0.0062 - val_accuracy: 0.9983\n",
      "Epoch 131/1000\n",
      "284/284 [==============================] - 34s 120ms/step - loss: 0.0036 - accuracy: 0.9993 - val_loss: 0.0055 - val_accuracy: 0.9988\n",
      "Epoch 132/1000\n",
      "284/284 [==============================] - 34s 118ms/step - loss: 0.0039 - accuracy: 0.9991 - val_loss: 0.0056 - val_accuracy: 0.9986\n",
      "Epoch 133/1000\n",
      "284/284 [==============================] - 33s 117ms/step - loss: 0.0031 - accuracy: 0.9994 - val_loss: 0.0077 - val_accuracy: 0.9984\n",
      "Epoch 134/1000\n",
      "284/284 [==============================] - 34s 119ms/step - loss: 0.0031 - accuracy: 0.9994 - val_loss: 0.0055 - val_accuracy: 0.9986\n",
      "Epoch 135/1000\n",
      "284/284 [==============================] - 35s 124ms/step - loss: 0.0029 - accuracy: 0.9995 - val_loss: 0.0051 - val_accuracy: 0.9988\n",
      "Epoch 136/1000\n",
      "284/284 [==============================] - 34s 120ms/step - loss: 0.0034 - accuracy: 0.9993 - val_loss: 0.0054 - val_accuracy: 0.9987\n",
      "Epoch 137/1000\n",
      "284/284 [==============================] - ETA: 0s - loss: 0.0032 - accuracy: 0.9994"
     ]
    },
    {
     "name": "stderr",
     "output_type": "stream",
     "text": [
      "WARNING:absl:Found untraced functions such as lstm_cell_2_layer_call_fn, lstm_cell_2_layer_call_and_return_conditional_losses while saving (showing 2 of 2). These functions will not be directly callable after loading.\n"
     ]
    },
    {
     "name": "stdout",
     "output_type": "stream",
     "text": [
      "INFO:tensorflow:Assets written to: model1_redone_with_early_stopping\\assets\n"
     ]
    },
    {
     "name": "stderr",
     "output_type": "stream",
     "text": [
      "INFO:tensorflow:Assets written to: model1_redone_with_early_stopping\\assets\n"
     ]
    },
    {
     "name": "stdout",
     "output_type": "stream",
     "text": [
      "284/284 [==============================] - 38s 136ms/step - loss: 0.0032 - accuracy: 0.9994 - val_loss: 0.0048 - val_accuracy: 0.9989\n",
      "Epoch 138/1000\n",
      "284/284 [==============================] - 34s 121ms/step - loss: 0.0031 - accuracy: 0.9994 - val_loss: 0.0059 - val_accuracy: 0.9984\n",
      "Epoch 139/1000\n",
      "284/284 [==============================] - 33s 118ms/step - loss: 0.0031 - accuracy: 0.9994 - val_loss: 0.0064 - val_accuracy: 0.9984\n",
      "Epoch 140/1000\n",
      "284/284 [==============================] - 34s 120ms/step - loss: 0.0031 - accuracy: 0.9994 - val_loss: 0.0049 - val_accuracy: 0.9987\n",
      "Epoch 141/1000\n",
      "284/284 [==============================] - 33s 116ms/step - loss: 0.0030 - accuracy: 0.9994 - val_loss: 0.0058 - val_accuracy: 0.9986\n",
      "Epoch 142/1000\n",
      "284/284 [==============================] - 34s 119ms/step - loss: 0.0030 - accuracy: 0.9994 - val_loss: 0.0094 - val_accuracy: 0.9986\n",
      "Epoch 143/1000\n",
      "284/284 [==============================] - 34s 121ms/step - loss: 0.0032 - accuracy: 0.9994 - val_loss: 0.0051 - val_accuracy: 0.9986\n",
      "Epoch 144/1000\n",
      "284/284 [==============================] - 34s 118ms/step - loss: 0.0032 - accuracy: 0.9994 - val_loss: 0.0055 - val_accuracy: 0.9983\n",
      "Epoch 145/1000\n",
      "284/284 [==============================] - 33s 117ms/step - loss: 0.0028 - accuracy: 0.9994 - val_loss: 0.0060 - val_accuracy: 0.9987\n",
      "Epoch 146/1000\n",
      "284/284 [==============================] - 34s 119ms/step - loss: 0.0031 - accuracy: 0.9994 - val_loss: 0.0053 - val_accuracy: 0.9985\n",
      "Epoch 147/1000\n",
      "284/284 [==============================] - 34s 119ms/step - loss: 0.0031 - accuracy: 0.9994 - val_loss: 0.0058 - val_accuracy: 0.9988\n",
      "Epoch 148/1000\n",
      "284/284 [==============================] - 34s 120ms/step - loss: 0.0028 - accuracy: 0.9994 - val_loss: 0.0059 - val_accuracy: 0.9985\n",
      "Epoch 149/1000\n",
      "284/284 [==============================] - 34s 118ms/step - loss: 0.0031 - accuracy: 0.9993 - val_loss: 0.0057 - val_accuracy: 0.9985\n",
      "Epoch 150/1000\n",
      "284/284 [==============================] - 33s 117ms/step - loss: 0.0030 - accuracy: 0.9994 - val_loss: 0.0060 - val_accuracy: 0.9985\n",
      "Epoch 151/1000\n",
      "284/284 [==============================] - 32s 114ms/step - loss: 0.0028 - accuracy: 0.9995 - val_loss: 0.0050 - val_accuracy: 0.9987\n",
      "Epoch 152/1000\n",
      "284/284 [==============================] - 33s 116ms/step - loss: 0.0032 - accuracy: 0.9994 - val_loss: 0.0068 - val_accuracy: 0.9980\n",
      "Epoch 153/1000\n",
      "284/284 [==============================] - 33s 115ms/step - loss: 0.0029 - accuracy: 0.9994 - val_loss: 0.0055 - val_accuracy: 0.9987\n",
      "Epoch 154/1000\n",
      "284/284 [==============================] - 33s 116ms/step - loss: 0.0028 - accuracy: 0.9995 - val_loss: 0.0054 - val_accuracy: 0.9987\n",
      "Epoch 155/1000\n",
      "284/284 [==============================] - 33s 116ms/step - loss: 0.0027 - accuracy: 0.9994 - val_loss: 0.0051 - val_accuracy: 0.9988\n",
      "Epoch 156/1000\n",
      "284/284 [==============================] - 33s 117ms/step - loss: 0.0030 - accuracy: 0.9994 - val_loss: 0.0085 - val_accuracy: 0.9983\n",
      "Epoch 157/1000\n",
      "284/284 [==============================] - 32s 112ms/step - loss: 0.0029 - accuracy: 0.9994 - val_loss: 0.0052 - val_accuracy: 0.9986\n",
      "Epoch 158/1000\n",
      "284/284 [==============================] - 32s 112ms/step - loss: 0.0029 - accuracy: 0.9994 - val_loss: 0.0054 - val_accuracy: 0.9985\n",
      "Epoch 159/1000\n",
      "284/284 [==============================] - 33s 114ms/step - loss: 0.0026 - accuracy: 0.9995 - val_loss: 0.0053 - val_accuracy: 0.9987\n",
      "Epoch 160/1000\n",
      "284/284 [==============================] - 33s 116ms/step - loss: 0.0027 - accuracy: 0.9995 - val_loss: 0.0061 - val_accuracy: 0.9981\n",
      "Epoch 161/1000\n",
      "284/284 [==============================] - 32s 113ms/step - loss: 0.0025 - accuracy: 0.9995 - val_loss: 0.0074 - val_accuracy: 0.9983\n",
      "Epoch 162/1000\n",
      "284/284 [==============================] - 33s 115ms/step - loss: 0.0027 - accuracy: 0.9995 - val_loss: 0.0051 - val_accuracy: 0.9986\n",
      "Epoch 163/1000\n",
      "284/284 [==============================] - 33s 117ms/step - loss: 0.0026 - accuracy: 0.9995 - val_loss: 0.0053 - val_accuracy: 0.9985\n",
      "Epoch 164/1000\n",
      "284/284 [==============================] - 32s 113ms/step - loss: 0.0026 - accuracy: 0.9994 - val_loss: 0.0063 - val_accuracy: 0.9983\n",
      "Epoch 165/1000\n",
      "284/284 [==============================] - 32s 114ms/step - loss: 0.0030 - accuracy: 0.9994 - val_loss: 0.0056 - val_accuracy: 0.9986\n",
      "Epoch 166/1000\n",
      "284/284 [==============================] - 32s 113ms/step - loss: 0.0028 - accuracy: 0.9994 - val_loss: 0.0052 - val_accuracy: 0.9987\n",
      "Epoch 167/1000\n",
      "284/284 [==============================] - 32s 113ms/step - loss: 0.0028 - accuracy: 0.9994 - val_loss: 0.0050 - val_accuracy: 0.9987\n",
      "Epoch 168/1000\n",
      "284/284 [==============================] - 32s 113ms/step - loss: 0.0026 - accuracy: 0.9995 - val_loss: 0.0051 - val_accuracy: 0.9988\n",
      "Epoch 169/1000\n",
      "284/284 [==============================] - 33s 115ms/step - loss: 0.0028 - accuracy: 0.9995 - val_loss: 0.0150 - val_accuracy: 0.9968\n",
      "Epoch 170/1000\n",
      "284/284 [==============================] - 33s 115ms/step - loss: 0.0028 - accuracy: 0.9994 - val_loss: 0.0055 - val_accuracy: 0.9985\n",
      "Epoch 171/1000\n",
      "284/284 [==============================] - 33s 116ms/step - loss: 0.0025 - accuracy: 0.9995 - val_loss: 0.0055 - val_accuracy: 0.9985\n",
      "Epoch 172/1000\n",
      "284/284 [==============================] - 33s 118ms/step - loss: 0.0025 - accuracy: 0.9995 - val_loss: 0.0099 - val_accuracy: 0.9979\n",
      "Epoch 173/1000\n",
      "284/284 [==============================] - 34s 118ms/step - loss: 0.0026 - accuracy: 0.9995 - val_loss: 0.0055 - val_accuracy: 0.9986\n",
      "Epoch 174/1000\n",
      "284/284 [==============================] - 33s 117ms/step - loss: 0.0024 - accuracy: 0.9995 - val_loss: 0.0058 - val_accuracy: 0.9985\n",
      "Epoch 175/1000\n",
      "284/284 [==============================] - 33s 117ms/step - loss: 0.0029 - accuracy: 0.9994 - val_loss: 0.0070 - val_accuracy: 0.9981\n",
      "Epoch 176/1000\n",
      "284/284 [==============================] - 32s 114ms/step - loss: 0.0027 - accuracy: 0.9995 - val_loss: 0.0054 - val_accuracy: 0.9985\n",
      "Epoch 177/1000\n",
      "284/284 [==============================] - 33s 117ms/step - loss: 0.0024 - accuracy: 0.9995 - val_loss: 0.0058 - val_accuracy: 0.9985\n",
      "Epoch 178/1000\n",
      "284/284 [==============================] - 33s 115ms/step - loss: 0.0027 - accuracy: 0.9995 - val_loss: 0.0053 - val_accuracy: 0.9986\n",
      "Epoch 179/1000\n",
      "284/284 [==============================] - 32s 113ms/step - loss: 0.0024 - accuracy: 0.9995 - val_loss: 0.0065 - val_accuracy: 0.9981\n",
      "Epoch 180/1000\n",
      "284/284 [==============================] - 33s 116ms/step - loss: 0.0030 - accuracy: 0.9994 - val_loss: 0.0058 - val_accuracy: 0.9986\n",
      "Epoch 181/1000\n",
      "284/284 [==============================] - 33s 117ms/step - loss: 0.0025 - accuracy: 0.9995 - val_loss: 0.0079 - val_accuracy: 0.9975\n",
      "Epoch 182/1000\n",
      "284/284 [==============================] - 33s 116ms/step - loss: 0.0025 - accuracy: 0.9995 - val_loss: 0.0053 - val_accuracy: 0.9987\n",
      "Epoch 183/1000\n",
      "284/284 [==============================] - 33s 115ms/step - loss: 0.0027 - accuracy: 0.9995 - val_loss: 0.0057 - val_accuracy: 0.9984\n",
      "Epoch 184/1000\n",
      "284/284 [==============================] - 34s 118ms/step - loss: 0.0023 - accuracy: 0.9995 - val_loss: 0.0058 - val_accuracy: 0.9984\n",
      "Epoch 185/1000\n",
      "284/284 [==============================] - 33s 116ms/step - loss: 0.0023 - accuracy: 0.9996 - val_loss: 0.0058 - val_accuracy: 0.9984\n",
      "Epoch 186/1000\n",
      "284/284 [==============================] - 33s 118ms/step - loss: 0.0023 - accuracy: 0.9995 - val_loss: 0.0059 - val_accuracy: 0.9983\n",
      "Epoch 187/1000\n",
      "284/284 [==============================] - 33s 117ms/step - loss: 0.0025 - accuracy: 0.9994 - val_loss: 0.0086 - val_accuracy: 0.9976\n",
      "Epoch 188/1000\n",
      "284/284 [==============================] - 33s 115ms/step - loss: 0.0027 - accuracy: 0.9994 - val_loss: 0.0115 - val_accuracy: 0.9976\n",
      "Epoch 189/1000\n",
      "284/284 [==============================] - 33s 118ms/step - loss: 0.0023 - accuracy: 0.9996 - val_loss: 0.0053 - val_accuracy: 0.9987\n",
      "Epoch 190/1000\n",
      "284/284 [==============================] - 33s 115ms/step - loss: 0.0023 - accuracy: 0.9996 - val_loss: 0.0072 - val_accuracy: 0.9981\n",
      "Epoch 191/1000\n",
      "284/284 [==============================] - 32s 112ms/step - loss: 0.0026 - accuracy: 0.9994 - val_loss: 0.0073 - val_accuracy: 0.9987\n",
      "Epoch 192/1000\n",
      "284/284 [==============================] - 33s 115ms/step - loss: 0.0022 - accuracy: 0.9996 - val_loss: 0.0055 - val_accuracy: 0.9984\n",
      "Epoch 193/1000\n",
      "284/284 [==============================] - 33s 118ms/step - loss: 0.0026 - accuracy: 0.9995 - val_loss: 0.0063 - val_accuracy: 0.9981\n",
      "Epoch 194/1000\n",
      "284/284 [==============================] - 33s 116ms/step - loss: 0.0025 - accuracy: 0.9995 - val_loss: 0.0064 - val_accuracy: 0.9982\n",
      "Epoch 195/1000\n",
      "284/284 [==============================] - 33s 117ms/step - loss: 0.0028 - accuracy: 0.9994 - val_loss: 0.0060 - val_accuracy: 0.9982\n",
      "Epoch 196/1000\n",
      "284/284 [==============================] - 34s 120ms/step - loss: 0.0022 - accuracy: 0.9996 - val_loss: 0.0087 - val_accuracy: 0.9982\n",
      "Epoch 197/1000\n",
      "284/284 [==============================] - 33s 115ms/step - loss: 0.0024 - accuracy: 0.9995 - val_loss: 0.0052 - val_accuracy: 0.9986\n",
      "Epoch 198/1000\n",
      "284/284 [==============================] - 34s 118ms/step - loss: 0.0023 - accuracy: 0.9996 - val_loss: 0.0057 - val_accuracy: 0.9988\n",
      "Epoch 199/1000\n",
      "284/284 [==============================] - 33s 118ms/step - loss: 0.0024 - accuracy: 0.9995 - val_loss: 0.0053 - val_accuracy: 0.9987\n",
      "Epoch 200/1000\n",
      "284/284 [==============================] - 33s 117ms/step - loss: 0.0035 - accuracy: 0.9992 - val_loss: 0.0049 - val_accuracy: 0.9987\n",
      "Epoch 201/1000\n",
      "284/284 [==============================] - ETA: 0s - loss: 0.0022 - accuracy: 0.9995"
     ]
    },
    {
     "name": "stderr",
     "output_type": "stream",
     "text": [
      "WARNING:absl:Found untraced functions such as lstm_cell_2_layer_call_fn, lstm_cell_2_layer_call_and_return_conditional_losses while saving (showing 2 of 2). These functions will not be directly callable after loading.\n"
     ]
    },
    {
     "name": "stdout",
     "output_type": "stream",
     "text": [
      "INFO:tensorflow:Assets written to: model1_redone_with_early_stopping\\assets\n"
     ]
    },
    {
     "name": "stderr",
     "output_type": "stream",
     "text": [
      "INFO:tensorflow:Assets written to: model1_redone_with_early_stopping\\assets\n"
     ]
    },
    {
     "name": "stdout",
     "output_type": "stream",
     "text": [
      "284/284 [==============================] - 37s 131ms/step - loss: 0.0022 - accuracy: 0.9995 - val_loss: 0.0047 - val_accuracy: 0.9988\n",
      "Epoch 202/1000\n",
      "284/284 [==============================] - 33s 116ms/step - loss: 0.0020 - accuracy: 0.9997 - val_loss: 0.0058 - val_accuracy: 0.9981\n",
      "Epoch 203/1000\n",
      "284/284 [==============================] - 34s 118ms/step - loss: 0.0021 - accuracy: 0.9996 - val_loss: 0.0055 - val_accuracy: 0.9986\n",
      "Epoch 204/1000\n",
      "284/284 [==============================] - 33s 117ms/step - loss: 0.0022 - accuracy: 0.9996 - val_loss: 0.0050 - val_accuracy: 0.9989\n",
      "Epoch 205/1000\n",
      "284/284 [==============================] - 34s 118ms/step - loss: 0.0027 - accuracy: 0.9995 - val_loss: 0.0054 - val_accuracy: 0.9986\n",
      "Epoch 206/1000\n",
      "284/284 [==============================] - 33s 116ms/step - loss: 0.0020 - accuracy: 0.9996 - val_loss: 0.0054 - val_accuracy: 0.9988\n",
      "Epoch 207/1000\n",
      "284/284 [==============================] - 33s 116ms/step - loss: 0.0029 - accuracy: 0.9994 - val_loss: 0.0049 - val_accuracy: 0.9987\n",
      "Epoch 208/1000\n",
      "284/284 [==============================] - 33s 117ms/step - loss: 0.0021 - accuracy: 0.9996 - val_loss: 0.0063 - val_accuracy: 0.9981\n",
      "Epoch 209/1000\n",
      "284/284 [==============================] - 34s 120ms/step - loss: 0.0021 - accuracy: 0.9996 - val_loss: 0.0061 - val_accuracy: 0.9982\n",
      "Epoch 210/1000\n",
      "284/284 [==============================] - 34s 120ms/step - loss: 0.0029 - accuracy: 0.9993 - val_loss: 0.0054 - val_accuracy: 0.9989\n",
      "Epoch 211/1000\n",
      "284/284 [==============================] - 34s 121ms/step - loss: 0.0020 - accuracy: 0.9996 - val_loss: 0.0049 - val_accuracy: 0.9987\n",
      "Epoch 212/1000\n",
      "284/284 [==============================] - 35s 124ms/step - loss: 0.0019 - accuracy: 0.9996 - val_loss: 0.0051 - val_accuracy: 0.9988\n",
      "Epoch 213/1000\n",
      "284/284 [==============================] - 35s 123ms/step - loss: 0.0024 - accuracy: 0.9995 - val_loss: 0.0056 - val_accuracy: 0.9985\n",
      "Epoch 214/1000\n",
      "284/284 [==============================] - 34s 121ms/step - loss: 0.0019 - accuracy: 0.9996 - val_loss: 0.0051 - val_accuracy: 0.9987\n",
      "Epoch 215/1000\n",
      "284/284 [==============================] - 34s 120ms/step - loss: 0.0025 - accuracy: 0.9994 - val_loss: 0.0065 - val_accuracy: 0.9981\n",
      "Epoch 216/1000\n",
      "284/284 [==============================] - 35s 122ms/step - loss: 0.0021 - accuracy: 0.9996 - val_loss: 0.0052 - val_accuracy: 0.9987\n",
      "Epoch 217/1000\n",
      "284/284 [==============================] - 34s 120ms/step - loss: 0.0021 - accuracy: 0.9996 - val_loss: 0.0055 - val_accuracy: 0.9985\n",
      "Epoch 218/1000\n",
      "284/284 [==============================] - 34s 120ms/step - loss: 0.0024 - accuracy: 0.9994 - val_loss: 0.0057 - val_accuracy: 0.9986\n",
      "Epoch 219/1000\n",
      "284/284 [==============================] - 34s 119ms/step - loss: 0.0023 - accuracy: 0.9995 - val_loss: 0.0052 - val_accuracy: 0.9986\n",
      "Epoch 220/1000\n",
      "284/284 [==============================] - 34s 120ms/step - loss: 0.0030 - accuracy: 0.9992 - val_loss: 0.0051 - val_accuracy: 0.9987\n",
      "Epoch 221/1000\n",
      "284/284 [==============================] - 35s 123ms/step - loss: 0.0020 - accuracy: 0.9996 - val_loss: 0.0050 - val_accuracy: 0.9988\n",
      "Epoch 222/1000\n",
      "284/284 [==============================] - 33s 117ms/step - loss: 0.0019 - accuracy: 0.9996 - val_loss: 0.0051 - val_accuracy: 0.9986\n",
      "Epoch 223/1000\n",
      "284/284 [==============================] - 34s 120ms/step - loss: 0.0019 - accuracy: 0.9996 - val_loss: 0.0053 - val_accuracy: 0.9988\n",
      "Epoch 224/1000\n",
      "284/284 [==============================] - 34s 119ms/step - loss: 0.0021 - accuracy: 0.9995 - val_loss: 0.0051 - val_accuracy: 0.9988\n",
      "Epoch 225/1000\n",
      "284/284 [==============================] - 34s 119ms/step - loss: 0.0022 - accuracy: 0.9996 - val_loss: 0.0051 - val_accuracy: 0.9988\n",
      "Epoch 226/1000\n",
      "284/284 [==============================] - 34s 120ms/step - loss: 0.0022 - accuracy: 0.9995 - val_loss: 0.0056 - val_accuracy: 0.9986\n",
      "Epoch 227/1000\n",
      "284/284 [==============================] - 34s 118ms/step - loss: 0.0022 - accuracy: 0.9995 - val_loss: 0.0056 - val_accuracy: 0.9984\n",
      "Epoch 228/1000\n",
      "284/284 [==============================] - 34s 120ms/step - loss: 0.0020 - accuracy: 0.9996 - val_loss: 0.0059 - val_accuracy: 0.9988\n",
      "Epoch 229/1000\n",
      "284/284 [==============================] - 34s 120ms/step - loss: 0.0020 - accuracy: 0.9996 - val_loss: 0.0052 - val_accuracy: 0.9986\n",
      "Epoch 230/1000\n",
      "284/284 [==============================] - 34s 119ms/step - loss: 0.0020 - accuracy: 0.9995 - val_loss: 0.0078 - val_accuracy: 0.9975\n",
      "Epoch 231/1000\n",
      "284/284 [==============================] - 34s 121ms/step - loss: 0.0024 - accuracy: 0.9994 - val_loss: 0.0052 - val_accuracy: 0.9987\n",
      "Epoch 232/1000\n",
      "284/284 [==============================] - 34s 121ms/step - loss: 0.0019 - accuracy: 0.9996 - val_loss: 0.0051 - val_accuracy: 0.9986\n",
      "Epoch 233/1000\n",
      "284/284 [==============================] - 33s 116ms/step - loss: 0.0022 - accuracy: 0.9996 - val_loss: 0.0065 - val_accuracy: 0.9982\n",
      "Epoch 234/1000\n",
      "284/284 [==============================] - 34s 120ms/step - loss: 0.0019 - accuracy: 0.9997 - val_loss: 0.0071 - val_accuracy: 0.9981\n",
      "Epoch 235/1000\n",
      "284/284 [==============================] - 33s 115ms/step - loss: 0.0024 - accuracy: 0.9996 - val_loss: 0.0055 - val_accuracy: 0.9986\n",
      "Epoch 236/1000\n",
      "284/284 [==============================] - 33s 115ms/step - loss: 0.0021 - accuracy: 0.9996 - val_loss: 0.0097 - val_accuracy: 0.9979\n",
      "Epoch 237/1000\n",
      "284/284 [==============================] - 33s 117ms/step - loss: 0.0020 - accuracy: 0.9996 - val_loss: 0.0079 - val_accuracy: 0.9976\n",
      "Epoch 238/1000\n",
      "284/284 [==============================] - 33s 116ms/step - loss: 0.0023 - accuracy: 0.9995 - val_loss: 0.0057 - val_accuracy: 0.9987\n",
      "Epoch 239/1000\n",
      "284/284 [==============================] - 33s 117ms/step - loss: 0.0024 - accuracy: 0.9995 - val_loss: 0.0052 - val_accuracy: 0.9988\n",
      "Epoch 240/1000\n",
      "284/284 [==============================] - 33s 117ms/step - loss: 0.0020 - accuracy: 0.9996 - val_loss: 0.0059 - val_accuracy: 0.9985\n",
      "Epoch 241/1000\n",
      "284/284 [==============================] - 33s 115ms/step - loss: 0.0021 - accuracy: 0.9995 - val_loss: 0.0058 - val_accuracy: 0.9985\n",
      "Epoch 242/1000\n",
      "284/284 [==============================] - 33s 118ms/step - loss: 0.0018 - accuracy: 0.9996 - val_loss: 0.0055 - val_accuracy: 0.9986\n",
      "Epoch 243/1000\n",
      "284/284 [==============================] - 33s 115ms/step - loss: 0.0018 - accuracy: 0.9997 - val_loss: 0.0055 - val_accuracy: 0.9987\n",
      "Epoch 244/1000\n",
      "284/284 [==============================] - 33s 116ms/step - loss: 0.0021 - accuracy: 0.9996 - val_loss: 0.0135 - val_accuracy: 0.9971\n",
      "Epoch 245/1000\n",
      "284/284 [==============================] - 35s 123ms/step - loss: 0.0019 - accuracy: 0.9996 - val_loss: 0.0072 - val_accuracy: 0.9981\n",
      "Epoch 246/1000\n",
      "284/284 [==============================] - 34s 119ms/step - loss: 0.0019 - accuracy: 0.9996 - val_loss: 0.0091 - val_accuracy: 0.9979\n",
      "Epoch 247/1000\n",
      "284/284 [==============================] - 32s 114ms/step - loss: 0.0032 - accuracy: 0.9991 - val_loss: 0.0066 - val_accuracy: 0.9983\n",
      "Epoch 248/1000\n",
      "284/284 [==============================] - 33s 116ms/step - loss: 0.0019 - accuracy: 0.9996 - val_loss: 0.0064 - val_accuracy: 0.9987\n",
      "Epoch 249/1000\n",
      "284/284 [==============================] - 33s 117ms/step - loss: 0.0019 - accuracy: 0.9996 - val_loss: 0.0057 - val_accuracy: 0.9989\n",
      "Epoch 250/1000\n",
      "284/284 [==============================] - 33s 116ms/step - loss: 0.0018 - accuracy: 0.9997 - val_loss: 0.0058 - val_accuracy: 0.9985\n",
      "Epoch 251/1000\n",
      "284/284 [==============================] - 34s 119ms/step - loss: 0.0020 - accuracy: 0.9996 - val_loss: 0.0051 - val_accuracy: 0.9988\n",
      "Epoch 252/1000\n",
      "284/284 [==============================] - 33s 116ms/step - loss: 0.0019 - accuracy: 0.9996 - val_loss: 0.0067 - val_accuracy: 0.9981\n",
      "Epoch 253/1000\n",
      "284/284 [==============================] - 33s 114ms/step - loss: 0.0020 - accuracy: 0.9996 - val_loss: 0.0060 - val_accuracy: 0.9982\n",
      "Epoch 254/1000\n",
      "284/284 [==============================] - 33s 116ms/step - loss: 0.0020 - accuracy: 0.9996 - val_loss: 0.0107 - val_accuracy: 0.9978\n",
      "Epoch 255/1000\n",
      "284/284 [==============================] - 33s 117ms/step - loss: 0.0021 - accuracy: 0.9996 - val_loss: 0.0054 - val_accuracy: 0.9988\n",
      "Epoch 256/1000\n",
      "284/284 [==============================] - 33s 117ms/step - loss: 0.0020 - accuracy: 0.9996 - val_loss: 0.0057 - val_accuracy: 0.9986\n",
      "Epoch 257/1000\n",
      "284/284 [==============================] - 33s 115ms/step - loss: 0.0019 - accuracy: 0.9996 - val_loss: 0.0063 - val_accuracy: 0.9985\n",
      "Epoch 258/1000\n",
      "284/284 [==============================] - 34s 119ms/step - loss: 0.0019 - accuracy: 0.9996 - val_loss: 0.0061 - val_accuracy: 0.9983\n",
      "Epoch 259/1000\n",
      "284/284 [==============================] - 33s 118ms/step - loss: 0.0024 - accuracy: 0.9995 - val_loss: 0.0063 - val_accuracy: 0.9986\n",
      "Epoch 260/1000\n",
      "284/284 [==============================] - 34s 118ms/step - loss: 0.0018 - accuracy: 0.9996 - val_loss: 0.0062 - val_accuracy: 0.9985\n",
      "Epoch 261/1000\n",
      "284/284 [==============================] - 33s 116ms/step - loss: 0.0024 - accuracy: 0.9995 - val_loss: 0.0053 - val_accuracy: 0.9987\n",
      "Epoch 262/1000\n",
      "284/284 [==============================] - 33s 116ms/step - loss: 0.0022 - accuracy: 0.9996 - val_loss: 0.0100 - val_accuracy: 0.9980\n",
      "Epoch 263/1000\n",
      "284/284 [==============================] - 34s 119ms/step - loss: 0.0020 - accuracy: 0.9996 - val_loss: 0.0055 - val_accuracy: 0.9986\n",
      "Epoch 264/1000\n",
      "284/284 [==============================] - 33s 116ms/step - loss: 0.0019 - accuracy: 0.9996 - val_loss: 0.0109 - val_accuracy: 0.9979\n",
      "Epoch 265/1000\n",
      "284/284 [==============================] - 33s 115ms/step - loss: 0.0021 - accuracy: 0.9995 - val_loss: 0.0063 - val_accuracy: 0.9985\n",
      "Epoch 266/1000\n",
      "284/284 [==============================] - 33s 116ms/step - loss: 0.0017 - accuracy: 0.9997 - val_loss: 0.0057 - val_accuracy: 0.9983\n",
      "Epoch 267/1000\n",
      "284/284 [==============================] - 33s 116ms/step - loss: 0.0019 - accuracy: 0.9996 - val_loss: 0.0089 - val_accuracy: 0.9979\n",
      "Epoch 268/1000\n",
      "284/284 [==============================] - 33s 116ms/step - loss: 0.0020 - accuracy: 0.9996 - val_loss: 0.0066 - val_accuracy: 0.9982\n",
      "Epoch 269/1000\n",
      "284/284 [==============================] - 33s 115ms/step - loss: 0.0017 - accuracy: 0.9997 - val_loss: 0.0062 - val_accuracy: 0.9983\n",
      "Epoch 270/1000\n",
      "284/284 [==============================] - 33s 118ms/step - loss: 0.0017 - accuracy: 0.9997 - val_loss: 0.0063 - val_accuracy: 0.9986\n",
      "Epoch 271/1000\n",
      "284/284 [==============================] - 34s 118ms/step - loss: 0.0020 - accuracy: 0.9995 - val_loss: 0.0065 - val_accuracy: 0.9987\n",
      "Epoch 272/1000\n",
      "284/284 [==============================] - 33s 116ms/step - loss: 0.0023 - accuracy: 0.9994 - val_loss: 0.0072 - val_accuracy: 0.9985\n",
      "Epoch 273/1000\n",
      "284/284 [==============================] - 34s 120ms/step - loss: 0.0019 - accuracy: 0.9996 - val_loss: 0.0060 - val_accuracy: 0.9986\n",
      "Epoch 274/1000\n",
      "284/284 [==============================] - 33s 117ms/step - loss: 0.0019 - accuracy: 0.9996 - val_loss: 0.0060 - val_accuracy: 0.9986\n",
      "Epoch 275/1000\n",
      "284/284 [==============================] - 35s 124ms/step - loss: 0.0017 - accuracy: 0.9996 - val_loss: 0.0058 - val_accuracy: 0.9986\n",
      "Epoch 276/1000\n",
      "284/284 [==============================] - 35s 122ms/step - loss: 0.0017 - accuracy: 0.9996 - val_loss: 0.0073 - val_accuracy: 0.9984\n",
      "Epoch 277/1000\n",
      "284/284 [==============================] - 38s 132ms/step - loss: 0.0022 - accuracy: 0.9996 - val_loss: 0.0059 - val_accuracy: 0.9986\n",
      "Epoch 278/1000\n",
      "284/284 [==============================] - 34s 122ms/step - loss: 0.0018 - accuracy: 0.9997 - val_loss: 0.0061 - val_accuracy: 0.9986\n",
      "Epoch 279/1000\n",
      "284/284 [==============================] - 35s 123ms/step - loss: 0.0021 - accuracy: 0.9995 - val_loss: 0.0060 - val_accuracy: 0.9983\n",
      "Epoch 280/1000\n",
      "284/284 [==============================] - 33s 117ms/step - loss: 0.0016 - accuracy: 0.9997 - val_loss: 0.0108 - val_accuracy: 0.9979\n",
      "Epoch 281/1000\n",
      "284/284 [==============================] - 33s 115ms/step - loss: 0.0019 - accuracy: 0.9996 - val_loss: 0.0060 - val_accuracy: 0.9984\n",
      "Epoch 282/1000\n",
      "284/284 [==============================] - 32s 114ms/step - loss: 0.0019 - accuracy: 0.9995 - val_loss: 0.0092 - val_accuracy: 0.9981\n",
      "Epoch 283/1000\n",
      "284/284 [==============================] - 32s 113ms/step - loss: 0.0017 - accuracy: 0.9996 - val_loss: 0.0056 - val_accuracy: 0.9984\n",
      "Epoch 284/1000\n",
      "284/284 [==============================] - 32s 112ms/step - loss: 0.0018 - accuracy: 0.9996 - val_loss: 0.0062 - val_accuracy: 0.9983\n",
      "Epoch 285/1000\n",
      "284/284 [==============================] - 33s 116ms/step - loss: 0.0018 - accuracy: 0.9996 - val_loss: 0.0086 - val_accuracy: 0.9978\n",
      "Epoch 286/1000\n",
      "284/284 [==============================] - 32s 112ms/step - loss: 0.0016 - accuracy: 0.9997 - val_loss: 0.0054 - val_accuracy: 0.9986\n",
      "Epoch 287/1000\n",
      "284/284 [==============================] - 33s 115ms/step - loss: 0.0016 - accuracy: 0.9997 - val_loss: 0.0066 - val_accuracy: 0.9984\n",
      "Epoch 288/1000\n",
      "284/284 [==============================] - 32s 112ms/step - loss: 0.0025 - accuracy: 0.9994 - val_loss: 0.0061 - val_accuracy: 0.9985\n",
      "Epoch 289/1000\n",
      "284/284 [==============================] - 32s 114ms/step - loss: 0.0016 - accuracy: 0.9997 - val_loss: 0.0067 - val_accuracy: 0.9982\n",
      "Epoch 290/1000\n",
      "284/284 [==============================] - 33s 116ms/step - loss: 0.0019 - accuracy: 0.9996 - val_loss: 0.0062 - val_accuracy: 0.9984\n",
      "Epoch 291/1000\n",
      "284/284 [==============================] - 33s 115ms/step - loss: 0.0015 - accuracy: 0.9997 - val_loss: 0.0076 - val_accuracy: 0.9981\n",
      "Epoch 292/1000\n",
      "284/284 [==============================] - 33s 115ms/step - loss: 0.0016 - accuracy: 0.9997 - val_loss: 0.0056 - val_accuracy: 0.9985\n",
      "Epoch 293/1000\n",
      "284/284 [==============================] - 33s 116ms/step - loss: 0.0015 - accuracy: 0.9996 - val_loss: 0.0075 - val_accuracy: 0.9983\n",
      "Epoch 294/1000\n",
      "284/284 [==============================] - 35s 124ms/step - loss: 0.0020 - accuracy: 0.9996 - val_loss: 0.0058 - val_accuracy: 0.9985\n",
      "Epoch 295/1000\n",
      "284/284 [==============================] - 35s 124ms/step - loss: 0.0019 - accuracy: 0.9996 - val_loss: 0.0067 - val_accuracy: 0.9987\n",
      "Epoch 296/1000\n",
      "284/284 [==============================] - 34s 120ms/step - loss: 0.0022 - accuracy: 0.9994 - val_loss: 0.0137 - val_accuracy: 0.9979\n",
      "Epoch 297/1000\n",
      "284/284 [==============================] - 34s 121ms/step - loss: 0.0018 - accuracy: 0.9997 - val_loss: 0.0054 - val_accuracy: 0.9988\n",
      "Epoch 298/1000\n",
      "284/284 [==============================] - 34s 121ms/step - loss: 0.0018 - accuracy: 0.9996 - val_loss: 0.0056 - val_accuracy: 0.9985\n",
      "Epoch 299/1000\n",
      "284/284 [==============================] - 33s 118ms/step - loss: 0.0017 - accuracy: 0.9996 - val_loss: 0.0067 - val_accuracy: 0.9982\n",
      "Epoch 300/1000\n",
      "284/284 [==============================] - 34s 118ms/step - loss: 0.0016 - accuracy: 0.9997 - val_loss: 0.0078 - val_accuracy: 0.9986\n",
      "Epoch 301/1000\n",
      "284/284 [==============================] - 33s 117ms/step - loss: 0.0017 - accuracy: 0.9996 - val_loss: 0.0055 - val_accuracy: 0.9988\n"
     ]
    },
    {
     "data": {
      "text/plain": [
       "<keras.callbacks.History at 0x269aeee6908>"
      ]
     },
     "execution_count": 13,
     "metadata": {},
     "output_type": "execute_result"
    }
   ],
   "source": [
    "# Train model\n",
    "model.fit(X_train, y_train, validation_data=(X_test, y_test), epochs=1000, callbacks=[cp,stop],batch_size=256)"
   ]
  },
  {
   "cell_type": "code",
   "execution_count": 14,
   "id": "15b31570-de80-426a-9de7-f96c1a4673c4",
   "metadata": {},
   "outputs": [
    {
     "name": "stdout",
     "output_type": "stream",
     "text": [
      "568/568 [==============================] - 23s 39ms/step\n"
     ]
    }
   ],
   "source": [
    "# model predicitons on validaiton data\n",
    "yhat = model.predict(X_test)"
   ]
  },
  {
   "cell_type": "raw",
   "id": "d21468bb-bd5e-4f11-8914-6586d6f17351",
   "metadata": {},
   "source": [
    "import matplotlib.pyplot as plt\n",
    "plt.plot(y_test)\n",
    "plt.plot(yhat)\n",
    "plt.show()"
   ]
  },
  {
   "cell_type": "code",
   "execution_count": 15,
   "id": "fe22e355-9edd-46ff-9166-0d2379046641",
   "metadata": {},
   "outputs": [
    {
     "name": "stdout",
     "output_type": "stream",
     "text": [
      "Sensitivity, hit rate, recall, or true positive rate: \n",
      "0.9448275862068966\n",
      "Specificity or true negative rate\n",
      "0.9997202014549524\n",
      "Precision or positive predictive value\n",
      "0.982078853046595\n",
      "Negative predictive value\n",
      "0.999105195458867\n",
      "Fall out or false positive rate\n",
      "0.0002797985450475658\n",
      "False negative rate\n",
      "0.05517241379310345\n",
      "False discovery rate\n",
      "0.017921146953405017\n",
      "Overall accuracy\n",
      "0.9988436123348018\n"
     ]
    }
   ],
   "source": [
    "# metrics\n",
    "from sklearn import metrics\n",
    "TN, FP, FN, TP = metrics.confusion_matrix(y_test, np.array([0 if y < .5 else 1 for y in yhat])).ravel()\n",
    "\n",
    "\n",
    "print('Sensitivity, hit rate, recall, or true positive rate: ')\n",
    "TPR = TP/(TP+FN)\n",
    "print(TPR)4\n",
    "print('Specificity or true negative rate')\n",
    "TNR = TN/(TN+FP) \n",
    "print(TNR)\n",
    "print('Precision or positive predictive value')\n",
    "PPV = TP/(TP+FP)\n",
    "print(PPV)\n",
    "print('Negative predictive value')\n",
    "NPV = TN/(TN+FN)\n",
    "print(NPV)\n",
    "print('Fall out or false positive rate')\n",
    "FPR = FP/(FP+TN)\n",
    "print(FPR)\n",
    "print('False negative rate')\n",
    "FNR = FN/(TP+FN)\n",
    "print(FNR)\n",
    "print('False discovery rate')\n",
    "FDR = FP/(TP+FP)\n",
    "print(FDR)\n",
    "\n",
    "print('Overall accuracy')\n",
    "ACC = (TP+TN)/(TP+FP+FN+TN)\n",
    "print(ACC)\n"
   ]
  },
  {
   "cell_type": "code",
   "execution_count": 6,
   "id": "391eb32d-381f-428c-a615-78110f7d3649",
   "metadata": {},
   "outputs": [
    {
     "name": "stdout",
     "output_type": "stream",
     "text": [
      "569/569 [==============================] - 54s 75ms/step\n",
      "Sensitivity, hit rate, recall, or true positive rate: \n",
      "nan\n",
      "Specificity or true negative rate\n",
      "0.9999450549450549\n",
      "Precision or positive predictive value\n",
      "0.0\n",
      "Negative predictive value\n",
      "1.0\n",
      "Fall out or false positive rate\n",
      "5.4945054945054945e-05\n",
      "False negative rate\n",
      "nan\n",
      "False discovery rate\n",
      "1.0\n",
      "Overall accuracy\n",
      "0.9999450549450549\n"
     ]
    },
    {
     "name": "stderr",
     "output_type": "stream",
     "text": [
      "C:\\Users\\jslac\\AppData\\Roaming\\Python\\Python37\\site-packages\\ipykernel_launcher.py:16: RuntimeWarning: invalid value encountered in longlong_scalars\n",
      "  app.launch_new_instance()\n",
      "C:\\Users\\jslac\\AppData\\Roaming\\Python\\Python37\\site-packages\\ipykernel_launcher.py:31: RuntimeWarning: invalid value encountered in longlong_scalars\n"
     ]
    }
   ],
   "source": [
    "# measuring performance on unseen data from same subject\n",
    "import numpy as np\n",
    "from tensorflow.keras.models import load_model\n",
    "model1 = load_model('model1_redone_with_early_stopping/')\n",
    "X_unseen = np.load('sliding_window_dataset/S01R01experiment0/S01R01experiment0_X.npy')\n",
    "y_unseen = np.load('sliding_window_dataset/S01R01experiment0/S01R01experiment0_y.npy')\n",
    "y_unseen = np.array([[i] for i in y_unseen])\n",
    "\n",
    "yhat_unseen = model1.predict(X_unseen)\n",
    "# metrics on unseen data\n",
    "from sklearn import metrics\n",
    "TN, FP, FN, TP = metrics.confusion_matrix(y_unseen, np.array([0 if y < .5 else 1 for y in yhat_unseen])).ravel()\n",
    "\n",
    "\n",
    "print('Sensitivity, hit rate, recall, or true positive rate: ')\n",
    "TPR = TP/(TP+FN)\n",
    "print(TPR)\n",
    "print('Specificity or true negative rate')\n",
    "TNR = TN/(TN+FP) \n",
    "print(TNR)\n",
    "print('Precision or positive predictive value')\n",
    "PPV = TP/(TP+FP)\n",
    "print(PPV)\n",
    "print('Negative predictive value')\n",
    "NPV = TN/(TN+FN)\n",
    "print(NPV)\n",
    "print('Fall out or false positive rate')\n",
    "FPR = FP/(FP+TN)\n",
    "print(FPR)\n",
    "print('False negative rate')\n",
    "FNR = FN/(TP+FN)\n",
    "print(FNR)\n",
    "print('False discovery rate')\n",
    "FDR = FP/(TP+FP)\n",
    "print(FDR)\n",
    "\n",
    "print('Overall accuracy')\n",
    "ACC = (TP+TN)/(TP+FP+FN+TN)\n",
    "print(ACC)\n"
   ]
  },
  {
   "cell_type": "code",
   "execution_count": 8,
   "id": "8ece163c-365d-4f6c-897a-7f24764fb397",
   "metadata": {},
   "outputs": [
    {
     "name": "stdout",
     "output_type": "stream",
     "text": [
      "1999/1999 [==============================] - 72s 36ms/step\n",
      "Sensitivity, hit rate, recall, or true positive rate: \n",
      "0.9829038652130823\n",
      "Specificity or true negative rate\n",
      "0.9995884626395648\n",
      "Precision or positive predictive value\n",
      "0.99710946336559\n",
      "Negative predictive value\n",
      "0.9975358462939485\n",
      "Fall out or false positive rate\n",
      "0.000411537360435156\n",
      "False negative rate\n",
      "0.01709613478691774\n",
      "False discovery rate\n",
      "0.0028905366344099534\n",
      "Overall accuracy\n",
      "0.9974828017510944\n"
     ]
    }
   ],
   "source": [
    "X_sub2 = np.load('sliding_window_dataset/S02R02experiment0/S02R02experiment0_X.npy')\n",
    "y_sub2 = np.load('sliding_window_dataset/S02R02experiment0/S02R02experiment0_y.npy')\n",
    "y_sub2 = np.array([[i] for i in y_sub2])\n",
    "\n",
    "yhat_sub2 = model1.predict(X_sub2)\n",
    "\n",
    "TN, FP, FN, TP = metrics.confusion_matrix(y_sub2, np.array([0 if y < .5 else 1 for y in yhat_sub2])).ravel()\n",
    "\n",
    "\n",
    "print('Sensitivity, hit rate, recall, or true positive rate: ')\n",
    "TPR = TP/(TP+FN)\n",
    "print(TPR)\n",
    "print('Specificity or true negative rate')\n",
    "TNR = TN/(TN+FP) \n",
    "print(TNR)\n",
    "print('Precision or positive predictive value')\n",
    "PPV = TP/(TP+FP)\n",
    "print(PPV)\n",
    "print('Negative predictive value')\n",
    "NPV = TN/(TN+FN)\n",
    "print(NPV)\n",
    "print('Fall out or false positive rate')\n",
    "FPR = FP/(FP+TN)\n",
    "print(FPR)\n",
    "print('False negative rate')\n",
    "FNR = FN/(TP+FN)\n",
    "print(FNR)\n",
    "print('False discovery rate')\n",
    "FDR = FP/(TP+FP)\n",
    "print(FDR)\n",
    "\n",
    "print('Overall accuracy')\n",
    "ACC = (TP+TN)/(TP+FP+FN+TN)\n",
    "print(ACC)"
   ]
  }
 ],
 "metadata": {
  "kernelspec": {
   "display_name": "Python 3",
   "language": "python",
   "name": "python3"
  },
  "language_info": {
   "codemirror_mode": {
    "name": "ipython",
    "version": 3
   },
   "file_extension": ".py",
   "mimetype": "text/x-python",
   "name": "python",
   "nbconvert_exporter": "python",
   "pygments_lexer": "ipython3",
   "version": "3.7.13"
  }
 },
 "nbformat": 4,
 "nbformat_minor": 5
}
