{
 "cells": [
  {
   "cell_type": "code",
   "execution_count": 30,
   "id": "2e41afab-e1c3-4d14-8a90-239aa20c7a6f",
   "metadata": {},
   "outputs": [],
   "source": [
    "import pandas as pd\n",
    "import numpy as np\n",
    "import os\n",
    "import time\n",
    "from tqdm import tqdm"
   ]
  },
  {
   "cell_type": "code",
   "execution_count": 31,
   "id": "b3589135-8fb8-4fe9-8232-7812a939e192",
   "metadata": {},
   "outputs": [],
   "source": [
    "column_names = ['ms','ankle_horiz_fw','ankle_vert', 'ankle_horiz_lat','thigh_horiz_fw','thigh_vert', 'thigh_horiz_lat','trunk_horiz_fw','trunk_vert', 'trunk_horiz_lat','annotation']\n",
    "datadir = 'dataset_fog_release/dataset'\n",
    "outputdir = 'sliding_window_dataset_no_input_labels/'\n",
    "\n",
    "subject_files = {'s1': ['S01R01.txt','S01R02.txt'],'s2':['S02R01.txt','S02R02.txt'],'s3':['S03R01.txt','S03R02.txt','S03R03.txt'],\n",
    "                 's4':['S04R01.txt'],'s5':['S05R01.txt','S05R02.txt'],'s6':['S06R01.txt','S06R02.txt'],'s7':['S07R01.txt','S07R02.txt'],\n",
    "                 's8': ['S08R01.txt'],'s9': ['S09R01.txt'],'s10':['S10R01.txt']}\n",
    "subj_file = subject_files[\"s1\"][0]\n",
    "filename = f'{datadir}/{subj_file}'\n",
    "df = pd.read_csv(filename,sep=' ', names = column_names)"
   ]
  },
  {
   "cell_type": "code",
   "execution_count": 32,
   "id": "d3c184a8-73ca-47e3-8cc0-01ba7a7398a6",
   "metadata": {},
   "outputs": [],
   "source": [
    "def extract_experiment_windows(annotations):\n",
    "    '''Extracts the indices where an active experiment occurs for slicing time series into valid chunks\n",
    "    annotations : [int]\n",
    "        an array of annotations where 0 is inactive, 1 is active experiment, and 2 is gait freeze. Interested in the slices\n",
    "        of this array that are not equal to 0\n",
    "    '''\n",
    "    start = None\n",
    "    stop = None\n",
    "    windows = []\n",
    "    for i in range(len(annotations)):\n",
    "        if annotations[i] != 0 and not start:\n",
    "            start = i\n",
    "        if annotations[i] == 0 and start:\n",
    "            end = i - 1\n",
    "            windows.append((start,end))\n",
    "            start = None\n",
    "            end = None\n",
    "    return windows"
   ]
  },
  {
   "cell_type": "code",
   "execution_count": 33,
   "id": "22dd139f-b382-422d-afa8-2ce5f380e748",
   "metadata": {},
   "outputs": [
    {
     "name": "stderr",
     "output_type": "stream",
     "text": [
      "100%|██████████████████████████████████████████████████████████████████████████| 18200/18200 [00:06<00:00, 2773.78it/s]\n",
      "100%|██████████████████████████████████████████████████████████████████████████| 72600/72600 [00:33<00:00, 2146.22it/s]\n"
     ]
    },
    {
     "name": "stdout",
     "output_type": "stream",
     "text": [
      "238.4501757621765\n"
     ]
    }
   ],
   "source": [
    "\n",
    "def create_and_save_sliding_windows(subj_data_frame,filename, outputdir, window_size = 1000, columns=['ankle_vert','annotation']):\n",
    "    '''given a subject's dataframe, this will use extract_experiment_windows to find the time intervals where there is \n",
    "    an active experiment, and then return a numpy array of \"sliding windows\".\n",
    "    By default, the only column pulled will be vertical ankle acceleration\n",
    "    i.e. \n",
    "    if I have a time series [1,2,3,4,5,6], and a window size of 3, this function returns ([[1],[2],[3]], [4]), ([[2],[3],[4]],[5]), etc. \n",
    "    We want something of the form:\n",
    "    [[ankle_acc1,...,annotation1] ,[ankle_acc2,...,annotation2],...,[ankle_acc_winsize-1,...,annotation_winsize-1]] , [annotation_winsize]\n",
    "    '''\n",
    "    experiment_intervals = extract_experiment_windows(subj_data_frame['annotation'])\n",
    "    df_as_np = subj_data_frame.to_numpy()\n",
    "\n",
    "    experiment_intervals = extract_experiment_windows(df['annotation'])\n",
    "    numpy_df = df[columns].to_numpy()\n",
    "    numpy_df_intervals = []\n",
    "    X = []\n",
    "    y = []\n",
    "    start = time.time()\n",
    "    for interval in experiment_intervals:\n",
    "        numpy_df_intervals.append(numpy_df[interval[0]:interval[1]])\n",
    "    for experiment,n in zip(numpy_df_intervals, range(len(numpy_df_intervals))):\n",
    "        for i in tqdm(range(len(experiment) - window_size)):\n",
    "            row = [a[0:3] for a in experiment[i:i+window_size]]\n",
    "            X.append(row)      \n",
    "            label = experiment[i+window_size][3]\n",
    "            y.append(0 if label == 1 else 1)\n",
    "        np.save(f'{outputdir}{filename[0:6]}experiment{n}/X.npy',X)\n",
    "        np.save(f'{outputdir}{filename[0:6]}experiment{n}/y.npy',y)\n",
    "\n",
    "    end = time.time()\n",
    "    print(end-start)\n",
    "create_and_save_sliding_windows(df, subj_file, outputdir ,columns = ['ankle_horiz_fw','ankle_vert', 'ankle_horiz_lat', 'annotation'])"
   ]
  },
  {
   "cell_type": "code",
   "execution_count": 34,
   "id": "651e3a91-9adc-4c16-9537-bc27df57c703",
   "metadata": {},
   "outputs": [],
   "source": [
    "X = np.load('sliding_window_dataset_no_input_labels/S01R01experiment0/X.npy')\n",
    "y = np.load('sliding_window_dataset_no_input_labels/S01R01experiment0/y.npy')"
   ]
  },
  {
   "cell_type": "code",
   "execution_count": 35,
   "id": "b6818422-f566-4464-8f86-38883baec052",
   "metadata": {},
   "outputs": [
    {
     "name": "stdout",
     "output_type": "stream",
     "text": [
      "(18200, 1000, 3)\n",
      "(18200,)\n",
      "[[ -30  990  326]\n",
      " [ -30 1000  356]\n",
      " [ -20  990  336]\n",
      " ...\n",
      " [-131  970  366]\n",
      " [-111  960  346]\n",
      " [ -90 1000  366]]\n",
      "[]\n"
     ]
    }
   ],
   "source": [
    "print(X.shape)\n",
    "print(y.shape)\n",
    "print(X[0])\n",
    "print(np.where(y==1)[0])\n",
    "\n"
   ]
  },
  {
   "cell_type": "code",
   "execution_count": 36,
   "id": "aab44ee9-9159-4a60-8115-fe7612431cb8",
   "metadata": {},
   "outputs": [
    {
     "name": "stderr",
     "output_type": "stream",
     "text": [
      "100%|███████████████████████████████████████████████████████████████████████████| 18200/18200 [00:54<00:00, 335.99it/s]\n",
      "100%|██████████████████████████████████████████████████████████████████████████| 72600/72600 [00:44<00:00, 1618.82it/s]\n"
     ]
    },
    {
     "name": "stdout",
     "output_type": "stream",
     "text": [
      "288.8123211860657\n"
     ]
    },
    {
     "name": "stderr",
     "output_type": "stream",
     "text": [
      "100%|██████████████████████████████████████████████████████████████████████████| 27800/27800 [00:20<00:00, 1359.34it/s]\n"
     ]
    },
    {
     "name": "stdout",
     "output_type": "stream",
     "text": [
      "38.14248251914978\n"
     ]
    },
    {
     "name": "stderr",
     "output_type": "stream",
     "text": [
      "100%|██████████████████████████████████████████████████████████████████████████| 24600/24600 [00:14<00:00, 1699.58it/s]\n"
     ]
    },
    {
     "name": "stdout",
     "output_type": "stream",
     "text": [
      "30.103770971298218\n"
     ]
    },
    {
     "name": "stderr",
     "output_type": "stream",
     "text": [
      "100%|██████████████████████████████████████████████████████████████████████████| 63960/63960 [00:34<00:00, 1858.15it/s]\n"
     ]
    },
    {
     "name": "stdout",
     "output_type": "stream",
     "text": [
      "72.8704833984375\n"
     ]
    },
    {
     "name": "stderr",
     "output_type": "stream",
     "text": [
      "100%|██████████████████████████████████████████████████████████████████████████| 54040/54040 [00:24<00:00, 2223.56it/s]\n",
      "100%|██████████████████████████████████████████████████████████████████████████| 34840/34840 [00:18<00:00, 1886.58it/s]\n"
     ]
    },
    {
     "name": "stdout",
     "output_type": "stream",
     "text": [
      "183.7208833694458\n"
     ]
    },
    {
     "name": "stderr",
     "output_type": "stream",
     "text": [
      "100%|██████████████████████████████████████████████████████████████████████████| 15640/15640 [00:08<00:00, 1945.57it/s]\n"
     ]
    },
    {
     "name": "stdout",
     "output_type": "stream",
     "text": [
      "15.673861503601074\n"
     ]
    },
    {
     "name": "stderr",
     "output_type": "stream",
     "text": [
      "100%|██████████████████████████████████████████████████████████████████████████| 20120/20120 [00:08<00:00, 2247.57it/s]\n"
     ]
    },
    {
     "name": "stdout",
     "output_type": "stream",
     "text": [
      "18.92753267288208\n"
     ]
    },
    {
     "name": "stderr",
     "output_type": "stream",
     "text": [
      "100%|██████████████████████████████████████████████████████████████████████████| 98840/98840 [00:52<00:00, 1890.34it/s]\n",
      "100%|██████████████████████████████████████████████████████████████████████████| 31640/31640 [00:19<00:00, 1584.91it/s]\n"
     ]
    },
    {
     "name": "stdout",
     "output_type": "stream",
     "text": [
      "625.4781765937805\n"
     ]
    },
    {
     "name": "stderr",
     "output_type": "stream",
     "text": [
      "100%|██████████████████████████████████████████████████████████████████████████| 18840/18840 [00:11<00:00, 1641.51it/s]\n",
      "100%|██████████████████████████████████████████████████████████████████████████| 23320/23320 [00:11<00:00, 1963.76it/s]\n",
      "100%|██████████████████████████████████████████████████████████████████████████| 13080/13080 [00:05<00:00, 2481.09it/s]\n",
      "100%|████████████████████████████████████████████████████████████████████████████| 8600/8600 [00:03<00:00, 2555.17it/s]\n"
     ]
    },
    {
     "name": "stdout",
     "output_type": "stream",
     "text": [
      "126.2834722995758\n"
     ]
    },
    {
     "name": "stderr",
     "output_type": "stream",
     "text": [
      "100%|██████████████████████████████████████████████████████████████████████████| 34840/34840 [00:13<00:00, 2519.21it/s]\n",
      "100%|██████████████████████████████████████████████████████████████████████████| 29080/29080 [00:11<00:00, 2491.85it/s]\n"
     ]
    },
    {
     "name": "stdout",
     "output_type": "stream",
     "text": [
      "71.51976609230042\n"
     ]
    },
    {
     "name": "stderr",
     "output_type": "stream",
     "text": [
      "100%|██████████████████████████████████████████████████████████████████████████| 50200/50200 [00:19<00:00, 2531.79it/s]\n",
      "100%|██████████████████████████████████████████████████████████████████████████| 29720/29720 [00:12<00:00, 2293.91it/s]\n",
      "100%|██████████████████████████████████████████████████████████████████████████| 24600/24600 [00:12<00:00, 2036.98it/s]\n"
     ]
    },
    {
     "name": "stdout",
     "output_type": "stream",
     "text": [
      "354.3646216392517\n"
     ]
    },
    {
     "name": "stderr",
     "output_type": "stream",
     "text": [
      "100%|████████████████████████████████████████████████████████████████████████████| 6040/6040 [00:03<00:00, 1693.05it/s]\n",
      "100%|██████████████████████████████████████████████████████████████████████████| 11800/11800 [00:08<00:00, 1455.37it/s]\n"
     ]
    },
    {
     "name": "stdout",
     "output_type": "stream",
     "text": [
      "40.16247582435608\n"
     ]
    },
    {
     "name": "stderr",
     "output_type": "stream",
     "text": [
      "100%|██████████████████████████████████████████████████████████████████████████| 73240/73240 [00:34<00:00, 2144.12it/s]\n"
     ]
    },
    {
     "name": "stdout",
     "output_type": "stream",
     "text": [
      "80.63689684867859\n"
     ]
    },
    {
     "name": "stderr",
     "output_type": "stream",
     "text": [
      "100%|██████████████████████████████████████████████████████████████████████████| 27800/27800 [00:10<00:00, 2697.91it/s]\n"
     ]
    },
    {
     "name": "stdout",
     "output_type": "stream",
     "text": [
      "24.840885639190674\n"
     ]
    },
    {
     "name": "stderr",
     "output_type": "stream",
     "text": [
      "100%|██████████████████████████████████████████████████████████████████████████| 13720/13720 [00:04<00:00, 2909.94it/s]\n",
      "100%|████████████████████████████████████████████████████████████████████████████| 9240/9240 [00:05<00:00, 1584.36it/s]\n",
      "100%|██████████████████████████████████████████████████████████████████████████| 12440/12440 [00:06<00:00, 1886.55it/s]\n",
      "100%|████████████████████████████████████████████████████████████████████████████| 9880/9880 [00:03<00:00, 2584.74it/s]\n"
     ]
    },
    {
     "name": "stdout",
     "output_type": "stream",
     "text": [
      "79.54319643974304\n"
     ]
    },
    {
     "name": "stderr",
     "output_type": "stream",
     "text": [
      "100%|████████████████████████████████████████████████████████████████████████████| 8600/8600 [00:02<00:00, 2916.51it/s]\n",
      "100%|████████████████████████████████████████████████████████████████████████████| 9880/9880 [00:03<00:00, 2681.66it/s]\n",
      "100%|██████████████████████████████████████████████████████████████████████████| 34200/34200 [00:13<00:00, 2482.13it/s]\n",
      "100%|██████████████████████████████████████████████████████████████████████████| 45080/45080 [00:23<00:00, 1885.44it/s]\n",
      "100%|████████████████████████████████████████████████████████████████████████████| 8600/8600 [00:07<00:00, 1211.95it/s]\n"
     ]
    },
    {
     "name": "stdout",
     "output_type": "stream",
     "text": [
      "513.8296711444855\n"
     ]
    },
    {
     "name": "stderr",
     "output_type": "stream",
     "text": [
      "100%|██████████████████████████████████████████████████████████████████████████| 50200/50200 [00:26<00:00, 1895.33it/s]\n",
      "100%|██████████████████████████████████████████████████████████████████████████| 90520/90520 [00:48<00:00, 1873.48it/s]\n"
     ]
    },
    {
     "name": "stdout",
     "output_type": "stream",
     "text": [
      "475.0085959434509\n"
     ]
    }
   ],
   "source": [
    "column_names = ['ms','ankle_horiz_fw','ankle_vert', 'ankle_horiz_lat','thigh_horiz_fw','thigh_vert', 'thigh_horiz_lat','trunk_horiz_fw','trunk_vert', 'trunk_horiz_lat','annotation']\n",
    "datadir = 'dataset_fog_release/dataset'\n",
    "outputdir = 'sliding_window_dataset_no_input_labels/'\n",
    "\n",
    "subject_files = {'s1': ['S01R01.txt','S01R02.txt'],'s2':['S02R01.txt','S02R02.txt'],'s3':['S03R01.txt','S03R02.txt','S03R03.txt'],\n",
    "                 's4':['S04R01.txt'],'s5':['S05R01.txt','S05R02.txt'],'s6':['S06R01.txt','S06R02.txt'],'s7':['S07R01.txt','S07R02.txt'],\n",
    "                 's8': ['S08R01.txt'],'s9': ['S09R01.txt'],'s10':['S10R01.txt']}\n",
    "for subj in subject_files.keys():\n",
    "    for fname in subject_files[subj]:\n",
    "        path_to_file = f'{datadir}/{fname}'\n",
    "        df = pd.read_csv(path_to_file,sep=' ', names = column_names)\n",
    "        create_and_save_sliding_windows(df, fname, outputdir ,columns = ['ankle_horiz_fw','ankle_vert', 'ankle_horiz_lat','annotation'])"
   ]
  }
 ],
 "metadata": {
  "kernelspec": {
   "display_name": "Python 3",
   "language": "python",
   "name": "python3"
  },
  "language_info": {
   "codemirror_mode": {
    "name": "ipython",
    "version": 3
   },
   "file_extension": ".py",
   "mimetype": "text/x-python",
   "name": "python",
   "nbconvert_exporter": "python",
   "pygments_lexer": "ipython3",
   "version": "3.7.13"
  }
 },
 "nbformat": 4,
 "nbformat_minor": 5
}
