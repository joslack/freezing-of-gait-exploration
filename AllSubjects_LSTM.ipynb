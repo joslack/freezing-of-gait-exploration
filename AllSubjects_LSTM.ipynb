{
 "cells": [
  {
   "cell_type": "code",
   "execution_count": 1,
   "id": "c88496e1-0427-4009-968a-c7dbcac1cf97",
   "metadata": {},
   "outputs": [
    {
     "name": "stdout",
     "output_type": "stream",
     "text": [
      "Model: \"sequential\"\n",
      "_________________________________________________________________\n",
      " Layer (type)                Output Shape              Param #   \n",
      "=================================================================\n",
      " lstm (LSTM)                 (None, 64)                17664     \n",
      "                                                                 \n",
      " dense (Dense)               (None, 8)                 520       \n",
      "                                                                 \n",
      " dense_1 (Dense)             (None, 1)                 9         \n",
      "                                                                 \n",
      "=================================================================\n",
      "Total params: 18,193\n",
      "Trainable params: 18,193\n",
      "Non-trainable params: 0\n",
      "_________________________________________________________________\n"
     ]
    }
   ],
   "source": [
    "from tensorflow.keras.models import Sequential\n",
    "from tensorflow.keras.layers import *\n",
    "from tensorflow.keras.callbacks import ModelCheckpoint\n",
    "from tensorflow.keras.optimizers import Adam\n",
    "\n",
    "\n",
    "model = Sequential()\n",
    "model.add(InputLayer((1000, 4)))\n",
    "model.add(LSTM(64))\n",
    "model.add(Dense(8, 'relu'))\n",
    "model.add(Dense(1, 'sigmoid'))\n",
    "model.summary()"
   ]
  },
  {
   "cell_type": "code",
   "execution_count": null,
   "id": "b455a53f-e4d0-4399-a0fa-010bfd34102f",
   "metadata": {},
   "outputs": [],
   "source": [
    "import os\n",
    "from tensorflow.keras.callbacks import EarlyStopping\n",
    "datadir = 'sliding_window_dataset'\n",
    "alldirs = os.listdir(f'{datadir}/')\n",
    "for directory in alldirs:\n",
    "    if os.path.isdir(f'{datadir}/{directory}') and not directory.startswith('.'):\n",
    "        X = np.load(f'{datadir}/{directory}/{directory}_X.npy')\n",
    "        y = np.load(f'{datadir}/{directory}/{directory}_y.npy')\n",
    "        y = np.array([[i] for i in y])\n",
    "        length = X.shape[0]\n",
    "        test_data_idx_start = int(length * .8)\n",
    "        X_train = X[:test_data_idx_start]\n",
    "        y_train = y[:test_data_idx_start]\n",
    "        X_test = X[test_data_idx_start:]\n",
    "        y_test = y[test_data_idx_start:]\n",
    "        print(X_train.shape, y_train.shape, X_test.shape, y_test.shape)\n",
    "        cp_all = ModelCheckpoint(f'model_{directory}/', save_best_only=True)\n",
    "        stop = EarlyStopping(monitor='val_loss', patience=10)\n",
    "        model.compile(loss='binary_crossentropy', optimizer=Adam(learning_rate=0.0001), metrics=['accuracy'])\n",
    "        model.fit(X_train, y_train, validation_data=(X_test, y_test), epochs=500, callbacks=[cp_all,stop],batch_size=256)"
   ]
  }
 ],
 "metadata": {
  "kernelspec": {
   "display_name": "Python 3",
   "language": "python",
   "name": "python3"
  },
  "language_info": {
   "codemirror_mode": {
    "name": "ipython",
    "version": 3
   },
   "file_extension": ".py",
   "mimetype": "text/x-python",
   "name": "python",
   "nbconvert_exporter": "python",
   "pygments_lexer": "ipython3",
   "version": "3.7.13"
  }
 },
 "nbformat": 4,
 "nbformat_minor": 5
}
